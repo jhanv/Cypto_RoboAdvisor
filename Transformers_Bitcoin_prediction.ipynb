{
  "nbformat": 4,
  "nbformat_minor": 0,
  "metadata": {
    "colab": {
      "name": "Transformers_Bitcoin_prediction.ipynb",
      "provenance": [],
      "collapsed_sections": [],
      "include_colab_link": true
    },
    "kernelspec": {
      "name": "python3",
      "display_name": "Python 3"
    },
    "language_info": {
      "name": "python"
    },
    "accelerator": "GPU"
  },
  "cells": [
    {
      "cell_type": "markdown",
      "metadata": {
        "id": "view-in-github",
        "colab_type": "text"
      },
      "source": [
        "<a href=\"https://colab.research.google.com/github/jhanv/Cypto_RoboAdvisor/blob/main/Transformers_Bitcoin_prediction.ipynb\" target=\"_parent\"><img src=\"https://colab.research.google.com/assets/colab-badge.svg\" alt=\"Open In Colab\"/></a>"
      ]
    },
    {
      "cell_type": "markdown",
      "metadata": {
        "id": "-ZVcUb4c8st9"
      },
      "source": [
        "# Cyptocurrency Time Series Transformers"
      ]
    },
    {
      "cell_type": "markdown",
      "metadata": {
        "id": "nO2GAHOkGmpM"
      },
      "source": [
        "The central goal is to analyse the cryptomarket  and see if a deep learning model can predict the fluctuation of prices in conjunction with sentiment data. To this end, we hope to construct a few models (In this notebook we are exploring with Transformers) of varying complexity to help learn the patterns (if any) and help eliminate some of the uncertainty of this market. We believe that crypto currencies would have a prominent position in the future of finance and this paper would shed light into how people view the currency.  "
      ]
    },
    {
      "cell_type": "code",
      "metadata": {
        "id": "2d_lR-IgDOmy",
        "colab": {
          "base_uri": "https://localhost:8080/"
        },
        "outputId": "1356dc4c-7116-431a-f565-003c03e0ee5f"
      },
      "source": [
        "from google.colab import drive\n",
        "drive.mount('/content/drive')"
      ],
      "execution_count": 2,
      "outputs": [
        {
          "output_type": "stream",
          "text": [
            "Mounted at /content/drive\n"
          ],
          "name": "stdout"
        }
      ]
    },
    {
      "cell_type": "code",
      "metadata": {
        "id": "p_xNEPENAKYg"
      },
      "source": [
        "# Import\n",
        "import pandas as pd\n",
        "import numpy as np\n",
        "import os, datetime\n",
        "import tensorflow as tf\n",
        "from tensorflow.keras.models import *\n",
        "from tensorflow.keras.layers import *\n",
        "\n",
        "from sklearn import preprocessing\n",
        "\n",
        "import matplotlib.pyplot as plt\n",
        "plt.style.use('seaborn')\n",
        "\n",
        "\n",
        "%matplotlib inline"
      ],
      "execution_count": 3,
      "outputs": []
    },
    {
      "cell_type": "markdown",
      "metadata": {
        "id": "Jbl2Mx4FT-N-"
      },
      "source": [
        "## Hyperparameters"
      ]
    },
    {
      "cell_type": "code",
      "metadata": {
        "id": "MBJ3_LbmT7zS"
      },
      "source": [
        "batch_size = 32\n",
        "seq_len = 30\n",
        "prediction_date = 1\n",
        "\n",
        "kernel_num = 1\n",
        "\n",
        "feature_num = 5\n",
        "\n",
        "d_k = 64\n",
        "d_v = 64\n",
        "n_heads = 12\n",
        "ff_dim = 64"
      ],
      "execution_count": 4,
      "outputs": []
    },
    {
      "cell_type": "markdown",
      "metadata": {
        "id": "6thCeGcvAVrA"
      },
      "source": [
        "## Loading data\n",
        "\n"
      ]
    },
    {
      "cell_type": "code",
      "metadata": {
        "id": "fKeIza5pDN4B"
      },
      "source": [
        "# from datapackage import Package\n",
        "\n",
        "# coin = 'bitcoin'\n",
        "# package = Package('https://datahub.io/cryptocurrency/' + coin + '/datapackage.json')\n",
        "\n",
        "# # print list of all resources:\n",
        "# print(package.resource_names)\n",
        "\n",
        "# # print processed tabular data (if exists any)\n",
        "# for resource in package.resources:\n",
        "#     if resource.descriptor['datahub']['type'] == 'derived/csv':\n",
        "#         print(resource.read())\n"
      ],
      "execution_count": 5,
      "outputs": []
    },
    {
      "cell_type": "code",
      "metadata": {
        "id": "JEr34G8fFmJD"
      },
      "source": [
        "# cpt_df = pd.DataFrame.from_records(resource.read(), columns = resource.headers)\n",
        "# cpt_df.head()"
      ],
      "execution_count": 6,
      "outputs": []
    },
    {
      "cell_type": "code",
      "metadata": {
        "id": "qp59Orv84D5o"
      },
      "source": [
        ""
      ],
      "execution_count": 6,
      "outputs": []
    },
    {
      "cell_type": "code",
      "metadata": {
        "colab": {
          "base_uri": "https://localhost:8080/",
          "height": 196
        },
        "id": "W31wtGQ-It5c",
        "outputId": "424f5b07-686e-41b3-d5d2-cc47581d7f4e"
      },
      "source": [
        "cpt_df = pd.read_csv(\"/content/drive/MyDrive/CIS 522 Final Project/Data/Bitstamp_BTCUSD_d.csv\", skiprows=1)\n",
        "# cpt_df = pd.read_csv(\"Bitstamp_BTCUSD_d.csv\", skiprows=1)\n",
        "cpt_df = cpt_df[pd.to_datetime(cpt_df[\"date\"]) < \"2019-10-01\"] # Date selection\n",
        "cpt_df[\"date\"] = pd.to_datetime(cpt_df[\"date\"])\n",
        "cpt_df.head()"
      ],
      "execution_count": 7,
      "outputs": [
        {
          "output_type": "execute_result",
          "data": {
            "text/html": [
              "<div>\n",
              "<style scoped>\n",
              "    .dataframe tbody tr th:only-of-type {\n",
              "        vertical-align: middle;\n",
              "    }\n",
              "\n",
              "    .dataframe tbody tr th {\n",
              "        vertical-align: top;\n",
              "    }\n",
              "\n",
              "    .dataframe thead th {\n",
              "        text-align: right;\n",
              "    }\n",
              "</style>\n",
              "<table border=\"1\" class=\"dataframe\">\n",
              "  <thead>\n",
              "    <tr style=\"text-align: right;\">\n",
              "      <th></th>\n",
              "      <th>unix</th>\n",
              "      <th>date</th>\n",
              "      <th>symbol</th>\n",
              "      <th>open</th>\n",
              "      <th>high</th>\n",
              "      <th>low</th>\n",
              "      <th>close</th>\n",
              "      <th>Volume BTC</th>\n",
              "      <th>Volume USD</th>\n",
              "    </tr>\n",
              "  </thead>\n",
              "  <tbody>\n",
              "    <tr>\n",
              "      <th>579</th>\n",
              "      <td>1569801600</td>\n",
              "      <td>2019-09-30</td>\n",
              "      <td>BTC/USD</td>\n",
              "      <td>8060.13</td>\n",
              "      <td>8368.50</td>\n",
              "      <td>7714.70</td>\n",
              "      <td>8298.45</td>\n",
              "      <td>9518.992108</td>\n",
              "      <td>7.899288e+07</td>\n",
              "    </tr>\n",
              "    <tr>\n",
              "      <th>580</th>\n",
              "      <td>1569715200</td>\n",
              "      <td>2019-09-29</td>\n",
              "      <td>BTC/USD</td>\n",
              "      <td>8218.07</td>\n",
              "      <td>8244.07</td>\n",
              "      <td>7902.66</td>\n",
              "      <td>8047.60</td>\n",
              "      <td>5366.570718</td>\n",
              "      <td>4.318801e+07</td>\n",
              "    </tr>\n",
              "    <tr>\n",
              "      <th>581</th>\n",
              "      <td>1569628800</td>\n",
              "      <td>2019-09-28</td>\n",
              "      <td>BTC/USD</td>\n",
              "      <td>8199.96</td>\n",
              "      <td>8356.40</td>\n",
              "      <td>8009.84</td>\n",
              "      <td>8218.07</td>\n",
              "      <td>6315.489539</td>\n",
              "      <td>5.190114e+07</td>\n",
              "    </tr>\n",
              "    <tr>\n",
              "      <th>582</th>\n",
              "      <td>1569542400</td>\n",
              "      <td>2019-09-27</td>\n",
              "      <td>BTC/USD</td>\n",
              "      <td>8055.25</td>\n",
              "      <td>8294.04</td>\n",
              "      <td>7866.00</td>\n",
              "      <td>8187.72</td>\n",
              "      <td>10165.852937</td>\n",
              "      <td>8.323516e+07</td>\n",
              "    </tr>\n",
              "    <tr>\n",
              "      <th>583</th>\n",
              "      <td>1569456000</td>\n",
              "      <td>2019-09-26</td>\n",
              "      <td>BTC/USD</td>\n",
              "      <td>8443.44</td>\n",
              "      <td>8467.89</td>\n",
              "      <td>7733.99</td>\n",
              "      <td>8055.03</td>\n",
              "      <td>16662.320212</td>\n",
              "      <td>1.342155e+08</td>\n",
              "    </tr>\n",
              "  </tbody>\n",
              "</table>\n",
              "</div>"
            ],
            "text/plain": [
              "           unix       date   symbol  ...    close    Volume BTC    Volume USD\n",
              "579  1569801600 2019-09-30  BTC/USD  ...  8298.45   9518.992108  7.899288e+07\n",
              "580  1569715200 2019-09-29  BTC/USD  ...  8047.60   5366.570718  4.318801e+07\n",
              "581  1569628800 2019-09-28  BTC/USD  ...  8218.07   6315.489539  5.190114e+07\n",
              "582  1569542400 2019-09-27  BTC/USD  ...  8187.72  10165.852937  8.323516e+07\n",
              "583  1569456000 2019-09-26  BTC/USD  ...  8055.03  16662.320212  1.342155e+08\n",
              "\n",
              "[5 rows x 9 columns]"
            ]
          },
          "metadata": {
            "tags": []
          },
          "execution_count": 7
        }
      ]
    },
    {
      "cell_type": "code",
      "metadata": {
        "colab": {
          "base_uri": "https://localhost:8080/",
          "height": 196
        },
        "id": "GGLF2nnJLddG",
        "outputId": "9c7c53e8-9371-4dc6-acb7-c44d6b708e9c"
      },
      "source": [
        "cpt_full_df = cpt_df[[\"date\", \"open\", \"close\", \"high\", \"low\", \"Volume USD\"]].sort_values(\"date\").reset_index(drop=True)\n",
        "cpt_full_df.columns = [\"date\", \"open\", \"close\", \"high\", \"low\", \"Volume USDT\"]\n",
        "cpt_full_df.head()"
      ],
      "execution_count": 8,
      "outputs": [
        {
          "output_type": "execute_result",
          "data": {
            "text/html": [
              "<div>\n",
              "<style scoped>\n",
              "    .dataframe tbody tr th:only-of-type {\n",
              "        vertical-align: middle;\n",
              "    }\n",
              "\n",
              "    .dataframe tbody tr th {\n",
              "        vertical-align: top;\n",
              "    }\n",
              "\n",
              "    .dataframe thead th {\n",
              "        text-align: right;\n",
              "    }\n",
              "</style>\n",
              "<table border=\"1\" class=\"dataframe\">\n",
              "  <thead>\n",
              "    <tr style=\"text-align: right;\">\n",
              "      <th></th>\n",
              "      <th>date</th>\n",
              "      <th>open</th>\n",
              "      <th>close</th>\n",
              "      <th>high</th>\n",
              "      <th>low</th>\n",
              "      <th>Volume USDT</th>\n",
              "    </tr>\n",
              "  </thead>\n",
              "  <tbody>\n",
              "    <tr>\n",
              "      <th>0</th>\n",
              "      <td>2014-11-28</td>\n",
              "      <td>363.59</td>\n",
              "      <td>376.28</td>\n",
              "      <td>381.34</td>\n",
              "      <td>360.57</td>\n",
              "      <td>8617.15</td>\n",
              "    </tr>\n",
              "    <tr>\n",
              "      <th>1</th>\n",
              "      <td>2014-11-29</td>\n",
              "      <td>376.42</td>\n",
              "      <td>376.72</td>\n",
              "      <td>386.60</td>\n",
              "      <td>372.25</td>\n",
              "      <td>7245.19</td>\n",
              "    </tr>\n",
              "    <tr>\n",
              "      <th>2</th>\n",
              "      <td>2014-11-30</td>\n",
              "      <td>376.57</td>\n",
              "      <td>373.34</td>\n",
              "      <td>381.99</td>\n",
              "      <td>373.32</td>\n",
              "      <td>3046.33</td>\n",
              "    </tr>\n",
              "    <tr>\n",
              "      <th>3</th>\n",
              "      <td>2014-12-01</td>\n",
              "      <td>376.40</td>\n",
              "      <td>378.39</td>\n",
              "      <td>382.31</td>\n",
              "      <td>373.03</td>\n",
              "      <td>6660.56</td>\n",
              "    </tr>\n",
              "    <tr>\n",
              "      <th>4</th>\n",
              "      <td>2014-12-02</td>\n",
              "      <td>378.39</td>\n",
              "      <td>379.25</td>\n",
              "      <td>382.86</td>\n",
              "      <td>375.23</td>\n",
              "      <td>6832.53</td>\n",
              "    </tr>\n",
              "  </tbody>\n",
              "</table>\n",
              "</div>"
            ],
            "text/plain": [
              "        date    open   close    high     low  Volume USDT\n",
              "0 2014-11-28  363.59  376.28  381.34  360.57      8617.15\n",
              "1 2014-11-29  376.42  376.72  386.60  372.25      7245.19\n",
              "2 2014-11-30  376.57  373.34  381.99  373.32      3046.33\n",
              "3 2014-12-01  376.40  378.39  382.31  373.03      6660.56\n",
              "4 2014-12-02  378.39  379.25  382.86  375.23      6832.53"
            ]
          },
          "metadata": {
            "tags": []
          },
          "execution_count": 8
        }
      ]
    },
    {
      "cell_type": "markdown",
      "metadata": {
        "id": "TJeMnbHuTu-S"
      },
      "source": [
        "## Plotting (Without normalizations)"
      ]
    },
    {
      "cell_type": "code",
      "metadata": {
        "colab": {
          "base_uri": "https://localhost:8080/",
          "height": 637
        },
        "id": "02VlENIJQSeQ",
        "outputId": "6d0a2035-1eda-475c-b1f5-bf6207dcbcd2"
      },
      "source": [
        "fig = plt.figure(figsize=(15,10))\n",
        "st = fig.suptitle(\"Crypto Close Price and Volume\", fontsize=20)\n",
        "st.set_y(0.92)\n",
        "\n",
        "ax1 = fig.add_subplot(211)\n",
        "ax1.plot(cpt_full_df['close'], label='crypto Close Price')\n",
        "ax1.set_xticks(range(0, cpt_full_df.shape[0], 200))\n",
        "ax1.set_xticklabels(cpt_full_df['date'].loc[::200])\n",
        "ax1.set_ylabel('Close Price', fontsize=18)\n",
        "ax1.legend(loc=\"upper left\", fontsize=12)\n",
        "\n",
        "ax2 = fig.add_subplot(212)\n",
        "ax2.plot(cpt_full_df['Volume USDT'], label='Crypto Volume')\n",
        "ax2.set_xticks(range(0, cpt_full_df.shape[0], 200))\n",
        "ax2.set_xticklabels(cpt_full_df['date'].loc[::200])\n",
        "ax2.set_ylabel('Volume USDT', fontsize=18)\n",
        "ax2.legend(loc=\"upper left\", fontsize=12)"
      ],
      "execution_count": 9,
      "outputs": [
        {
          "output_type": "execute_result",
          "data": {
            "text/plain": [
              "<matplotlib.legend.Legend at 0x7ff423f7cf50>"
            ]
          },
          "metadata": {
            "tags": []
          },
          "execution_count": 9
        },
        {
          "output_type": "display_data",
          "data": {
            "image/png": "[encoded data removed]",
            "text/plain": [
              "<Figure size 1080x720 with 2 Axes>"
            ]
          },
          "metadata": {
            "tags": [],
            "needs_background": "light"
          }
        }
      ]
    },
    {
      "cell_type": "markdown",
      "metadata": {
        "id": "-TvhmMjhGy7k"
      },
      "source": [
        "## NLP data"
      ]
    },
    {
      "cell_type": "markdown",
      "metadata": {
        "id": "fotaXqi_G7Qn"
      },
      "source": [
        "### Reddit data"
      ]
    },
    {
      "cell_type": "code",
      "metadata": {
        "id": "wGcUowQaG_ap"
      },
      "source": [
        "reddit_df = pd.read_csv(\"/content/drive/MyDrive/CIS 522 Final Project/Data/reddit_data.csv\", header=None)\n",
        "# reddit_df = pd.read_csv(\"output.csv\", header=None)\n",
        "reddit_df.columns = ['row', 'date', 'reddit_sentiment_label', 'reddit_sentiment_score', 'reddit_likes']\n",
        "reddit_df[\"date\"] = pd.to_datetime(reddit_df[\"date\"])"
      ],
      "execution_count": 10,
      "outputs": []
    },
    {
      "cell_type": "code",
      "metadata": {
        "id": "QkpQic5wPxFy"
      },
      "source": [
        ""
      ],
      "execution_count": 10,
      "outputs": []
    },
    {
      "cell_type": "code",
      "metadata": {
        "id": "9Z1GsQpZI91U"
      },
      "source": [
        "reddit_df[\"const\"] = 1\n",
        "reddit_df[\"weighted_score\"] = reddit_df[\"reddit_sentiment_label\"] * reddit_df[\"reddit_sentiment_score\"] *\\\n",
        "reddit_df[\"reddit_likes\"]"
      ],
      "execution_count": 11,
      "outputs": []
    },
    {
      "cell_type": "code",
      "metadata": {
        "colab": {
          "base_uri": "https://localhost:8080/",
          "height": 404
        },
        "id": "4fOwi0F6KgjM",
        "outputId": "736f759b-a81e-483e-cfb5-71b7c4cf9c92"
      },
      "source": [
        "reddit_grp_df = reddit_df.groupby(\"date\").agg({\"weighted_score\": np.mean, \"const\": np.sum, \"reddit_likes\":np.sum})\n",
        "reddit_grp_df = reddit_grp_df.reset_index()\n",
        "reddit_grp_df[\"date\"] = pd.to_datetime(reddit_grp_df[\"date\"])\n",
        "reddit_grp_df.columns = [\"date\", \"reddit_weighted_score\", \"reddit_posts\", \"reddit_likes_total\"]\n",
        "reddit_grp_df"
      ],
      "execution_count": 12,
      "outputs": [
        {
          "output_type": "execute_result",
          "data": {
            "text/html": [
              "<div>\n",
              "<style scoped>\n",
              "    .dataframe tbody tr th:only-of-type {\n",
              "        vertical-align: middle;\n",
              "    }\n",
              "\n",
              "    .dataframe tbody tr th {\n",
              "        vertical-align: top;\n",
              "    }\n",
              "\n",
              "    .dataframe thead th {\n",
              "        text-align: right;\n",
              "    }\n",
              "</style>\n",
              "<table border=\"1\" class=\"dataframe\">\n",
              "  <thead>\n",
              "    <tr style=\"text-align: right;\">\n",
              "      <th></th>\n",
              "      <th>date</th>\n",
              "      <th>reddit_weighted_score</th>\n",
              "      <th>reddit_posts</th>\n",
              "      <th>reddit_likes_total</th>\n",
              "    </tr>\n",
              "  </thead>\n",
              "  <tbody>\n",
              "    <tr>\n",
              "      <th>0</th>\n",
              "      <td>2009-05-08</td>\n",
              "      <td>-0.000278</td>\n",
              "      <td>4</td>\n",
              "      <td>2.0</td>\n",
              "    </tr>\n",
              "    <tr>\n",
              "      <th>1</th>\n",
              "      <td>2009-07-18</td>\n",
              "      <td>0.000000</td>\n",
              "      <td>1</td>\n",
              "      <td>0.0</td>\n",
              "    </tr>\n",
              "    <tr>\n",
              "      <th>2</th>\n",
              "      <td>2009-09-24</td>\n",
              "      <td>-0.986288</td>\n",
              "      <td>2</td>\n",
              "      <td>2.0</td>\n",
              "    </tr>\n",
              "    <tr>\n",
              "      <th>3</th>\n",
              "      <td>2009-12-31</td>\n",
              "      <td>-0.999489</td>\n",
              "      <td>1</td>\n",
              "      <td>1.0</td>\n",
              "    </tr>\n",
              "    <tr>\n",
              "      <th>4</th>\n",
              "      <td>2010-03-28</td>\n",
              "      <td>-1.944747</td>\n",
              "      <td>1</td>\n",
              "      <td>2.0</td>\n",
              "    </tr>\n",
              "    <tr>\n",
              "      <th>...</th>\n",
              "      <td>...</td>\n",
              "      <td>...</td>\n",
              "      <td>...</td>\n",
              "      <td>...</td>\n",
              "    </tr>\n",
              "    <tr>\n",
              "      <th>3303</th>\n",
              "      <td>2019-12-27</td>\n",
              "      <td>-2.773279</td>\n",
              "      <td>873</td>\n",
              "      <td>3113.0</td>\n",
              "    </tr>\n",
              "    <tr>\n",
              "      <th>3304</th>\n",
              "      <td>2019-12-28</td>\n",
              "      <td>-3.787780</td>\n",
              "      <td>763</td>\n",
              "      <td>3530.0</td>\n",
              "    </tr>\n",
              "    <tr>\n",
              "      <th>3305</th>\n",
              "      <td>2019-12-29</td>\n",
              "      <td>-3.141962</td>\n",
              "      <td>866</td>\n",
              "      <td>3440.0</td>\n",
              "    </tr>\n",
              "    <tr>\n",
              "      <th>3306</th>\n",
              "      <td>2019-12-30</td>\n",
              "      <td>-4.134217</td>\n",
              "      <td>1017</td>\n",
              "      <td>5217.0</td>\n",
              "    </tr>\n",
              "    <tr>\n",
              "      <th>3307</th>\n",
              "      <td>2019-12-31</td>\n",
              "      <td>-2.702515</td>\n",
              "      <td>953</td>\n",
              "      <td>3229.0</td>\n",
              "    </tr>\n",
              "  </tbody>\n",
              "</table>\n",
              "<p>3308 rows × 4 columns</p>\n",
              "</div>"
            ],
            "text/plain": [
              "           date  reddit_weighted_score  reddit_posts  reddit_likes_total\n",
              "0    2009-05-08              -0.000278             4                 2.0\n",
              "1    2009-07-18               0.000000             1                 0.0\n",
              "2    2009-09-24              -0.986288             2                 2.0\n",
              "3    2009-12-31              -0.999489             1                 1.0\n",
              "4    2010-03-28              -1.944747             1                 2.0\n",
              "...         ...                    ...           ...                 ...\n",
              "3303 2019-12-27              -2.773279           873              3113.0\n",
              "3304 2019-12-28              -3.787780           763              3530.0\n",
              "3305 2019-12-29              -3.141962           866              3440.0\n",
              "3306 2019-12-30              -4.134217          1017              5217.0\n",
              "3307 2019-12-31              -2.702515           953              3229.0\n",
              "\n",
              "[3308 rows x 4 columns]"
            ]
          },
          "metadata": {
            "tags": []
          },
          "execution_count": 12
        }
      ]
    },
    {
      "cell_type": "code",
      "metadata": {
        "colab": {
          "base_uri": "https://localhost:8080/",
          "height": 196
        },
        "id": "73R0F3VJOw50",
        "outputId": "376fbeee-364a-421e-800b-23825991e5c1"
      },
      "source": [
        "cpt_full_df = cpt_full_df.merge(reddit_grp_df, how=\"left\", left_on=\"date\", right_on=\"date\")\n",
        "cpt_full_df.head()"
      ],
      "execution_count": 13,
      "outputs": [
        {
          "output_type": "execute_result",
          "data": {
            "text/html": [
              "<div>\n",
              "<style scoped>\n",
              "    .dataframe tbody tr th:only-of-type {\n",
              "        vertical-align: middle;\n",
              "    }\n",
              "\n",
              "    .dataframe tbody tr th {\n",
              "        vertical-align: top;\n",
              "    }\n",
              "\n",
              "    .dataframe thead th {\n",
              "        text-align: right;\n",
              "    }\n",
              "</style>\n",
              "<table border=\"1\" class=\"dataframe\">\n",
              "  <thead>\n",
              "    <tr style=\"text-align: right;\">\n",
              "      <th></th>\n",
              "      <th>date</th>\n",
              "      <th>open</th>\n",
              "      <th>close</th>\n",
              "      <th>high</th>\n",
              "      <th>low</th>\n",
              "      <th>Volume USDT</th>\n",
              "      <th>reddit_weighted_score</th>\n",
              "      <th>reddit_posts</th>\n",
              "      <th>reddit_likes_total</th>\n",
              "    </tr>\n",
              "  </thead>\n",
              "  <tbody>\n",
              "    <tr>\n",
              "      <th>0</th>\n",
              "      <td>2014-11-28</td>\n",
              "      <td>363.59</td>\n",
              "      <td>376.28</td>\n",
              "      <td>381.34</td>\n",
              "      <td>360.57</td>\n",
              "      <td>8617.15</td>\n",
              "      <td>-3.285267</td>\n",
              "      <td>1202</td>\n",
              "      <td>5356.0</td>\n",
              "    </tr>\n",
              "    <tr>\n",
              "      <th>1</th>\n",
              "      <td>2014-11-29</td>\n",
              "      <td>376.42</td>\n",
              "      <td>376.72</td>\n",
              "      <td>386.60</td>\n",
              "      <td>372.25</td>\n",
              "      <td>7245.19</td>\n",
              "      <td>-1.696123</td>\n",
              "      <td>1076</td>\n",
              "      <td>2577.0</td>\n",
              "    </tr>\n",
              "    <tr>\n",
              "      <th>2</th>\n",
              "      <td>2014-11-30</td>\n",
              "      <td>376.57</td>\n",
              "      <td>373.34</td>\n",
              "      <td>381.99</td>\n",
              "      <td>373.32</td>\n",
              "      <td>3046.33</td>\n",
              "      <td>-2.324880</td>\n",
              "      <td>1005</td>\n",
              "      <td>3141.0</td>\n",
              "    </tr>\n",
              "    <tr>\n",
              "      <th>3</th>\n",
              "      <td>2014-12-01</td>\n",
              "      <td>376.40</td>\n",
              "      <td>378.39</td>\n",
              "      <td>382.31</td>\n",
              "      <td>373.03</td>\n",
              "      <td>6660.56</td>\n",
              "      <td>-2.131355</td>\n",
              "      <td>1287</td>\n",
              "      <td>3599.0</td>\n",
              "    </tr>\n",
              "    <tr>\n",
              "      <th>4</th>\n",
              "      <td>2014-12-02</td>\n",
              "      <td>378.39</td>\n",
              "      <td>379.25</td>\n",
              "      <td>382.86</td>\n",
              "      <td>375.23</td>\n",
              "      <td>6832.53</td>\n",
              "      <td>-1.606622</td>\n",
              "      <td>1447</td>\n",
              "      <td>4560.0</td>\n",
              "    </tr>\n",
              "  </tbody>\n",
              "</table>\n",
              "</div>"
            ],
            "text/plain": [
              "        date    open  ...  reddit_posts  reddit_likes_total\n",
              "0 2014-11-28  363.59  ...          1202              5356.0\n",
              "1 2014-11-29  376.42  ...          1076              2577.0\n",
              "2 2014-11-30  376.57  ...          1005              3141.0\n",
              "3 2014-12-01  376.40  ...          1287              3599.0\n",
              "4 2014-12-02  378.39  ...          1447              4560.0\n",
              "\n",
              "[5 rows x 9 columns]"
            ]
          },
          "metadata": {
            "tags": []
          },
          "execution_count": 13
        }
      ]
    },
    {
      "cell_type": "code",
      "metadata": {
        "colab": {
          "base_uri": "https://localhost:8080/",
          "height": 283
        },
        "id": "zyXmjVQWnEsq",
        "outputId": "50fc74e2-12ba-4b9e-ce54-972d4c7d124d"
      },
      "source": [
        "plt.plot(cpt_full_df[\"reddit_weighted_score\"])"
      ],
      "execution_count": 14,
      "outputs": [
        {
          "output_type": "execute_result",
          "data": {
            "text/plain": [
              "[<matplotlib.lines.Line2D at 0x7ff422135990>]"
            ]
          },
          "metadata": {
            "tags": []
          },
          "execution_count": 14
        },
        {
          "output_type": "display_data",
          "data": {
            "image/png": "[encoded data removed]",
            "text/plain": [
              "<Figure size 432x288 with 1 Axes>"
            ]
          },
          "metadata": {
            "tags": [],
            "needs_background": "light"
          }
        }
      ]
    },
    {
      "cell_type": "markdown",
      "metadata": {
        "id": "VI6WHq7tYhLQ"
      },
      "source": [
        "### Google Trends"
      ]
    },
    {
      "cell_type": "code",
      "metadata": {
        "colab": {
          "base_uri": "https://localhost:8080/",
          "height": 196
        },
        "id": "LdJXMfgEdnji",
        "outputId": "8779597a-d812-45cd-ce6a-6da5f30423d2"
      },
      "source": [
        "google_df = pd.read_csv(\"/content/drive/MyDrive/CIS 522 Final Project/Data/goole_trends_bitcoin.csv\")\n",
        "google_df[\"date\"] = pd.to_datetime(google_df[\"date\"])\n",
        "google_df.head()"
      ],
      "execution_count": 15,
      "outputs": [
        {
          "output_type": "execute_result",
          "data": {
            "text/html": [
              "<div>\n",
              "<style scoped>\n",
              "    .dataframe tbody tr th:only-of-type {\n",
              "        vertical-align: middle;\n",
              "    }\n",
              "\n",
              "    .dataframe tbody tr th {\n",
              "        vertical-align: top;\n",
              "    }\n",
              "\n",
              "    .dataframe thead th {\n",
              "        text-align: right;\n",
              "    }\n",
              "</style>\n",
              "<table border=\"1\" class=\"dataframe\">\n",
              "  <thead>\n",
              "    <tr style=\"text-align: right;\">\n",
              "      <th></th>\n",
              "      <th>date</th>\n",
              "      <th>bitcoin_unscaled</th>\n",
              "      <th>bitcoin_monthly</th>\n",
              "      <th>isPartial</th>\n",
              "      <th>scale</th>\n",
              "      <th>bitcoin</th>\n",
              "    </tr>\n",
              "  </thead>\n",
              "  <tbody>\n",
              "    <tr>\n",
              "      <th>0</th>\n",
              "      <td>2014-01-01</td>\n",
              "      <td>47</td>\n",
              "      <td>8.0</td>\n",
              "      <td>False</td>\n",
              "      <td>0.08</td>\n",
              "      <td>3.76</td>\n",
              "    </tr>\n",
              "    <tr>\n",
              "      <th>1</th>\n",
              "      <td>2014-01-02</td>\n",
              "      <td>52</td>\n",
              "      <td>8.0</td>\n",
              "      <td>NaN</td>\n",
              "      <td>0.08</td>\n",
              "      <td>4.16</td>\n",
              "    </tr>\n",
              "    <tr>\n",
              "      <th>2</th>\n",
              "      <td>2014-01-03</td>\n",
              "      <td>50</td>\n",
              "      <td>8.0</td>\n",
              "      <td>NaN</td>\n",
              "      <td>0.08</td>\n",
              "      <td>4.00</td>\n",
              "    </tr>\n",
              "    <tr>\n",
              "      <th>3</th>\n",
              "      <td>2014-01-04</td>\n",
              "      <td>44</td>\n",
              "      <td>8.0</td>\n",
              "      <td>NaN</td>\n",
              "      <td>0.08</td>\n",
              "      <td>3.52</td>\n",
              "    </tr>\n",
              "    <tr>\n",
              "      <th>4</th>\n",
              "      <td>2014-01-05</td>\n",
              "      <td>50</td>\n",
              "      <td>8.0</td>\n",
              "      <td>NaN</td>\n",
              "      <td>0.08</td>\n",
              "      <td>4.00</td>\n",
              "    </tr>\n",
              "  </tbody>\n",
              "</table>\n",
              "</div>"
            ],
            "text/plain": [
              "        date  bitcoin_unscaled  bitcoin_monthly isPartial  scale  bitcoin\n",
              "0 2014-01-01                47              8.0     False   0.08     3.76\n",
              "1 2014-01-02                52              8.0       NaN   0.08     4.16\n",
              "2 2014-01-03                50              8.0       NaN   0.08     4.00\n",
              "3 2014-01-04                44              8.0       NaN   0.08     3.52\n",
              "4 2014-01-05                50              8.0       NaN   0.08     4.00"
            ]
          },
          "metadata": {
            "tags": []
          },
          "execution_count": 15
        }
      ]
    },
    {
      "cell_type": "code",
      "metadata": {
        "colab": {
          "base_uri": "https://localhost:8080/",
          "height": 196
        },
        "id": "-prgXL9Rgo3N",
        "outputId": "f3ffdae3-3be5-4f90-f025-870de3042e43"
      },
      "source": [
        "google_req_df = google_df[[\"date\", \"bitcoin\"]]\n",
        "google_req_df.columns = [\"date\", \"google_trends\"] \n",
        "google_req_df.head()"
      ],
      "execution_count": 16,
      "outputs": [
        {
          "output_type": "execute_result",
          "data": {
            "text/html": [
              "<div>\n",
              "<style scoped>\n",
              "    .dataframe tbody tr th:only-of-type {\n",
              "        vertical-align: middle;\n",
              "    }\n",
              "\n",
              "    .dataframe tbody tr th {\n",
              "        vertical-align: top;\n",
              "    }\n",
              "\n",
              "    .dataframe thead th {\n",
              "        text-align: right;\n",
              "    }\n",
              "</style>\n",
              "<table border=\"1\" class=\"dataframe\">\n",
              "  <thead>\n",
              "    <tr style=\"text-align: right;\">\n",
              "      <th></th>\n",
              "      <th>date</th>\n",
              "      <th>google_trends</th>\n",
              "    </tr>\n",
              "  </thead>\n",
              "  <tbody>\n",
              "    <tr>\n",
              "      <th>0</th>\n",
              "      <td>2014-01-01</td>\n",
              "      <td>3.76</td>\n",
              "    </tr>\n",
              "    <tr>\n",
              "      <th>1</th>\n",
              "      <td>2014-01-02</td>\n",
              "      <td>4.16</td>\n",
              "    </tr>\n",
              "    <tr>\n",
              "      <th>2</th>\n",
              "      <td>2014-01-03</td>\n",
              "      <td>4.00</td>\n",
              "    </tr>\n",
              "    <tr>\n",
              "      <th>3</th>\n",
              "      <td>2014-01-04</td>\n",
              "      <td>3.52</td>\n",
              "    </tr>\n",
              "    <tr>\n",
              "      <th>4</th>\n",
              "      <td>2014-01-05</td>\n",
              "      <td>4.00</td>\n",
              "    </tr>\n",
              "  </tbody>\n",
              "</table>\n",
              "</div>"
            ],
            "text/plain": [
              "        date  google_trends\n",
              "0 2014-01-01           3.76\n",
              "1 2014-01-02           4.16\n",
              "2 2014-01-03           4.00\n",
              "3 2014-01-04           3.52\n",
              "4 2014-01-05           4.00"
            ]
          },
          "metadata": {
            "tags": []
          },
          "execution_count": 16
        }
      ]
    },
    {
      "cell_type": "code",
      "metadata": {
        "colab": {
          "base_uri": "https://localhost:8080/",
          "height": 196
        },
        "id": "mJkIICD0hhRc",
        "outputId": "fbcb81ee-53f3-43db-d373-ea3985a0f96b"
      },
      "source": [
        "# Merging\n",
        "cpt_full_df = cpt_full_df.merge(google_req_df, how=\"left\", left_on=\"date\", right_on=\"date\")\n",
        "cpt_full_df.head()"
      ],
      "execution_count": 17,
      "outputs": [
        {
          "output_type": "execute_result",
          "data": {
            "text/html": [
              "<div>\n",
              "<style scoped>\n",
              "    .dataframe tbody tr th:only-of-type {\n",
              "        vertical-align: middle;\n",
              "    }\n",
              "\n",
              "    .dataframe tbody tr th {\n",
              "        vertical-align: top;\n",
              "    }\n",
              "\n",
              "    .dataframe thead th {\n",
              "        text-align: right;\n",
              "    }\n",
              "</style>\n",
              "<table border=\"1\" class=\"dataframe\">\n",
              "  <thead>\n",
              "    <tr style=\"text-align: right;\">\n",
              "      <th></th>\n",
              "      <th>date</th>\n",
              "      <th>open</th>\n",
              "      <th>close</th>\n",
              "      <th>high</th>\n",
              "      <th>low</th>\n",
              "      <th>Volume USDT</th>\n",
              "      <th>reddit_weighted_score</th>\n",
              "      <th>reddit_posts</th>\n",
              "      <th>reddit_likes_total</th>\n",
              "      <th>google_trends</th>\n",
              "    </tr>\n",
              "  </thead>\n",
              "  <tbody>\n",
              "    <tr>\n",
              "      <th>0</th>\n",
              "      <td>2014-11-28</td>\n",
              "      <td>363.59</td>\n",
              "      <td>376.28</td>\n",
              "      <td>381.34</td>\n",
              "      <td>360.57</td>\n",
              "      <td>8617.15</td>\n",
              "      <td>-3.285267</td>\n",
              "      <td>1202</td>\n",
              "      <td>5356.0</td>\n",
              "      <td>1.89</td>\n",
              "    </tr>\n",
              "    <tr>\n",
              "      <th>1</th>\n",
              "      <td>2014-11-29</td>\n",
              "      <td>376.42</td>\n",
              "      <td>376.72</td>\n",
              "      <td>386.60</td>\n",
              "      <td>372.25</td>\n",
              "      <td>7245.19</td>\n",
              "      <td>-1.696123</td>\n",
              "      <td>1076</td>\n",
              "      <td>2577.0</td>\n",
              "      <td>1.89</td>\n",
              "    </tr>\n",
              "    <tr>\n",
              "      <th>2</th>\n",
              "      <td>2014-11-30</td>\n",
              "      <td>376.57</td>\n",
              "      <td>373.34</td>\n",
              "      <td>381.99</td>\n",
              "      <td>373.32</td>\n",
              "      <td>3046.33</td>\n",
              "      <td>-2.324880</td>\n",
              "      <td>1005</td>\n",
              "      <td>3141.0</td>\n",
              "      <td>1.44</td>\n",
              "    </tr>\n",
              "    <tr>\n",
              "      <th>3</th>\n",
              "      <td>2014-12-01</td>\n",
              "      <td>376.40</td>\n",
              "      <td>378.39</td>\n",
              "      <td>382.31</td>\n",
              "      <td>373.03</td>\n",
              "      <td>6660.56</td>\n",
              "      <td>-2.131355</td>\n",
              "      <td>1287</td>\n",
              "      <td>3599.0</td>\n",
              "      <td>0.63</td>\n",
              "    </tr>\n",
              "    <tr>\n",
              "      <th>4</th>\n",
              "      <td>2014-12-02</td>\n",
              "      <td>378.39</td>\n",
              "      <td>379.25</td>\n",
              "      <td>382.86</td>\n",
              "      <td>375.23</td>\n",
              "      <td>6832.53</td>\n",
              "      <td>-1.606622</td>\n",
              "      <td>1447</td>\n",
              "      <td>4560.0</td>\n",
              "      <td>0.63</td>\n",
              "    </tr>\n",
              "  </tbody>\n",
              "</table>\n",
              "</div>"
            ],
            "text/plain": [
              "        date    open   close  ...  reddit_posts  reddit_likes_total  google_trends\n",
              "0 2014-11-28  363.59  376.28  ...          1202              5356.0           1.89\n",
              "1 2014-11-29  376.42  376.72  ...          1076              2577.0           1.89\n",
              "2 2014-11-30  376.57  373.34  ...          1005              3141.0           1.44\n",
              "3 2014-12-01  376.40  378.39  ...          1287              3599.0           0.63\n",
              "4 2014-12-02  378.39  379.25  ...          1447              4560.0           0.63\n",
              "\n",
              "[5 rows x 10 columns]"
            ]
          },
          "metadata": {
            "tags": []
          },
          "execution_count": 17
        }
      ]
    },
    {
      "cell_type": "code",
      "metadata": {
        "colab": {
          "base_uri": "https://localhost:8080/",
          "height": 281
        },
        "id": "sVNzGhA4lwmz",
        "outputId": "545b702e-63d2-4765-9151-35a0bc152a0e"
      },
      "source": [
        "plt.plot(cpt_full_df[\"google_trends\"])"
      ],
      "execution_count": 18,
      "outputs": [
        {
          "output_type": "execute_result",
          "data": {
            "text/plain": [
              "[<matplotlib.lines.Line2D at 0x7ff4221b7c90>]"
            ]
          },
          "metadata": {
            "tags": []
          },
          "execution_count": 18
        },
        {
          "output_type": "display_data",
          "data": {
            "image/png": "[encoded data removed]",
            "text/plain": [
              "<Figure size 432x288 with 1 Axes>"
            ]
          },
          "metadata": {
            "tags": [],
            "needs_background": "light"
          }
        }
      ]
    },
    {
      "cell_type": "code",
      "metadata": {
        "id": "ZqC_d8wnYtm6"
      },
      "source": [
        "# from pytrends import dailydata as dd\n",
        "\n",
        "# df_daily_bitcoin = dd.get_daily_data(\"bitcoin\",2014,1,2020,3,\"US\",True)\n",
        "# df_daily_bitcoin.head(50)"
      ],
      "execution_count": 19,
      "outputs": []
    },
    {
      "cell_type": "markdown",
      "metadata": {
        "id": "Ln228oDacI7I"
      },
      "source": [
        "### Twitter counts"
      ]
    },
    {
      "cell_type": "code",
      "metadata": {
        "id": "zKRwgeKzmZt_"
      },
      "source": [
        "# twitter_df = pd.read_csv(\"/content/drive/MyDrive/CIS 522 Final Project/Data/twitter_data.csv\")\n",
        "# twitter_df.head()"
      ],
      "execution_count": 20,
      "outputs": []
    },
    {
      "cell_type": "code",
      "metadata": {
        "colab": {
          "base_uri": "https://localhost:8080/",
          "height": 196
        },
        "id": "jiTO3KxKc1VW",
        "outputId": "18691a7c-c4fa-4827-9ce2-36d6e08ddb4d"
      },
      "source": [
        "twitter_df = pd.read_csv(\"/content/drive/MyDrive/CIS 522 Final Project/Data/bitcoin_daily_tweet_count.csv\").T.reset_index()\n",
        "twitter_df = twitter_df.loc[1:,:]\n",
        "twitter_df.columns = [\"date\", \"twitter_posts\"]\n",
        "twitter_df[\"twitter_posts\"] = twitter_df[\"twitter_posts\"].astype(float)\n",
        "twitter_df[\"date\"] = pd.to_datetime(twitter_df[\"date\"])\n",
        "twitter_df.head()"
      ],
      "execution_count": 21,
      "outputs": [
        {
          "output_type": "execute_result",
          "data": {
            "text/html": [
              "<div>\n",
              "<style scoped>\n",
              "    .dataframe tbody tr th:only-of-type {\n",
              "        vertical-align: middle;\n",
              "    }\n",
              "\n",
              "    .dataframe tbody tr th {\n",
              "        vertical-align: top;\n",
              "    }\n",
              "\n",
              "    .dataframe thead th {\n",
              "        text-align: right;\n",
              "    }\n",
              "</style>\n",
              "<table border=\"1\" class=\"dataframe\">\n",
              "  <thead>\n",
              "    <tr style=\"text-align: right;\">\n",
              "      <th></th>\n",
              "      <th>date</th>\n",
              "      <th>twitter_posts</th>\n",
              "    </tr>\n",
              "  </thead>\n",
              "  <tbody>\n",
              "    <tr>\n",
              "      <th>1</th>\n",
              "      <td>2014-04-09</td>\n",
              "      <td>8193.0</td>\n",
              "    </tr>\n",
              "    <tr>\n",
              "      <th>2</th>\n",
              "      <td>2014-04-10</td>\n",
              "      <td>15039.0</td>\n",
              "    </tr>\n",
              "    <tr>\n",
              "      <th>3</th>\n",
              "      <td>2014-04-11</td>\n",
              "      <td>14907.0</td>\n",
              "    </tr>\n",
              "    <tr>\n",
              "      <th>4</th>\n",
              "      <td>2014-04-12</td>\n",
              "      <td>7582.0</td>\n",
              "    </tr>\n",
              "    <tr>\n",
              "      <th>5</th>\n",
              "      <td>2014-04-13</td>\n",
              "      <td>10674.0</td>\n",
              "    </tr>\n",
              "  </tbody>\n",
              "</table>\n",
              "</div>"
            ],
            "text/plain": [
              "        date  twitter_posts\n",
              "1 2014-04-09         8193.0\n",
              "2 2014-04-10        15039.0\n",
              "3 2014-04-11        14907.0\n",
              "4 2014-04-12         7582.0\n",
              "5 2014-04-13        10674.0"
            ]
          },
          "metadata": {
            "tags": []
          },
          "execution_count": 21
        }
      ]
    },
    {
      "cell_type": "code",
      "metadata": {
        "colab": {
          "base_uri": "https://localhost:8080/",
          "height": 296
        },
        "id": "_ngWGsb8qYlo",
        "outputId": "06b5a95e-57af-4c35-f6df-4cd6bc8615a1"
      },
      "source": [
        "# Filling nans\n",
        "# plt.plot(twitter_df[\"twitter_posts\"].interpolate(model=\"time\"))\n",
        "plt.plot(twitter_df[\"twitter_posts\"])\n",
        "plt.xlabel(\"12\")"
      ],
      "execution_count": 22,
      "outputs": [
        {
          "output_type": "execute_result",
          "data": {
            "text/plain": [
              "Text(0.5, 0, '12')"
            ]
          },
          "metadata": {
            "tags": []
          },
          "execution_count": 22
        },
        {
          "output_type": "display_data",
          "data": {
            "image/png": "[encoded data removed]",
            "text/plain": [
              "<Figure size 432x288 with 1 Axes>"
            ]
          },
          "metadata": {
            "tags": [],
            "needs_background": "light"
          }
        }
      ]
    },
    {
      "cell_type": "code",
      "metadata": {
        "colab": {
          "base_uri": "https://localhost:8080/",
          "height": 281
        },
        "id": "rgxfWn-jxSy6",
        "outputId": "f3d4d9c4-661f-4100-e727-e2b87029fc54"
      },
      "source": [
        "plt.plot(twitter_df[\"twitter_posts\"].interpolate(model=\"piecewise_polynomial\"))"
      ],
      "execution_count": 23,
      "outputs": [
        {
          "output_type": "execute_result",
          "data": {
            "text/plain": [
              "[<matplotlib.lines.Line2D at 0x7ff420d5b150>]"
            ]
          },
          "metadata": {
            "tags": []
          },
          "execution_count": 23
        },
        {
          "output_type": "display_data",
          "data": {
            "image/png": "[encoded data removed]",
            "text/plain": [
              "<Figure size 432x288 with 1 Axes>"
            ]
          },
          "metadata": {
            "tags": [],
            "needs_background": "light"
          }
        }
      ]
    },
    {
      "cell_type": "code",
      "metadata": {
        "id": "rb8OlBHfxt25"
      },
      "source": [
        "twitter_df[\"twitter_posts\"] = twitter_df[\"twitter_posts\"].interpolate(model=\"piecewise_polynomial\")"
      ],
      "execution_count": 24,
      "outputs": []
    },
    {
      "cell_type": "code",
      "metadata": {
        "colab": {
          "base_uri": "https://localhost:8080/",
          "height": 196
        },
        "id": "hvdHlB8QjNdY",
        "outputId": "ac4fe35d-337e-4d8a-f91c-e01a6183f05f"
      },
      "source": [
        "cpt_full_df = cpt_full_df.merge(twitter_df, how=\"left\", left_on=\"date\", right_on=\"date\")\n",
        "cpt_full_df.head()"
      ],
      "execution_count": 25,
      "outputs": [
        {
          "output_type": "execute_result",
          "data": {
            "text/html": [
              "<div>\n",
              "<style scoped>\n",
              "    .dataframe tbody tr th:only-of-type {\n",
              "        vertical-align: middle;\n",
              "    }\n",
              "\n",
              "    .dataframe tbody tr th {\n",
              "        vertical-align: top;\n",
              "    }\n",
              "\n",
              "    .dataframe thead th {\n",
              "        text-align: right;\n",
              "    }\n",
              "</style>\n",
              "<table border=\"1\" class=\"dataframe\">\n",
              "  <thead>\n",
              "    <tr style=\"text-align: right;\">\n",
              "      <th></th>\n",
              "      <th>date</th>\n",
              "      <th>open</th>\n",
              "      <th>close</th>\n",
              "      <th>high</th>\n",
              "      <th>low</th>\n",
              "      <th>Volume USDT</th>\n",
              "      <th>reddit_weighted_score</th>\n",
              "      <th>reddit_posts</th>\n",
              "      <th>reddit_likes_total</th>\n",
              "      <th>google_trends</th>\n",
              "      <th>twitter_posts</th>\n",
              "    </tr>\n",
              "  </thead>\n",
              "  <tbody>\n",
              "    <tr>\n",
              "      <th>0</th>\n",
              "      <td>2014-11-28</td>\n",
              "      <td>363.59</td>\n",
              "      <td>376.28</td>\n",
              "      <td>381.34</td>\n",
              "      <td>360.57</td>\n",
              "      <td>8617.15</td>\n",
              "      <td>-3.285267</td>\n",
              "      <td>1202</td>\n",
              "      <td>5356.0</td>\n",
              "      <td>1.89</td>\n",
              "      <td>24830.0</td>\n",
              "    </tr>\n",
              "    <tr>\n",
              "      <th>1</th>\n",
              "      <td>2014-11-29</td>\n",
              "      <td>376.42</td>\n",
              "      <td>376.72</td>\n",
              "      <td>386.60</td>\n",
              "      <td>372.25</td>\n",
              "      <td>7245.19</td>\n",
              "      <td>-1.696123</td>\n",
              "      <td>1076</td>\n",
              "      <td>2577.0</td>\n",
              "      <td>1.89</td>\n",
              "      <td>26555.0</td>\n",
              "    </tr>\n",
              "    <tr>\n",
              "      <th>2</th>\n",
              "      <td>2014-11-30</td>\n",
              "      <td>376.57</td>\n",
              "      <td>373.34</td>\n",
              "      <td>381.99</td>\n",
              "      <td>373.32</td>\n",
              "      <td>3046.33</td>\n",
              "      <td>-2.324880</td>\n",
              "      <td>1005</td>\n",
              "      <td>3141.0</td>\n",
              "      <td>1.44</td>\n",
              "      <td>20117.0</td>\n",
              "    </tr>\n",
              "    <tr>\n",
              "      <th>3</th>\n",
              "      <td>2014-12-01</td>\n",
              "      <td>376.40</td>\n",
              "      <td>378.39</td>\n",
              "      <td>382.31</td>\n",
              "      <td>373.03</td>\n",
              "      <td>6660.56</td>\n",
              "      <td>-2.131355</td>\n",
              "      <td>1287</td>\n",
              "      <td>3599.0</td>\n",
              "      <td>0.63</td>\n",
              "      <td>26508.0</td>\n",
              "    </tr>\n",
              "    <tr>\n",
              "      <th>4</th>\n",
              "      <td>2014-12-02</td>\n",
              "      <td>378.39</td>\n",
              "      <td>379.25</td>\n",
              "      <td>382.86</td>\n",
              "      <td>375.23</td>\n",
              "      <td>6832.53</td>\n",
              "      <td>-1.606622</td>\n",
              "      <td>1447</td>\n",
              "      <td>4560.0</td>\n",
              "      <td>0.63</td>\n",
              "      <td>32744.0</td>\n",
              "    </tr>\n",
              "  </tbody>\n",
              "</table>\n",
              "</div>"
            ],
            "text/plain": [
              "        date    open   close  ...  reddit_likes_total  google_trends  twitter_posts\n",
              "0 2014-11-28  363.59  376.28  ...              5356.0           1.89        24830.0\n",
              "1 2014-11-29  376.42  376.72  ...              2577.0           1.89        26555.0\n",
              "2 2014-11-30  376.57  373.34  ...              3141.0           1.44        20117.0\n",
              "3 2014-12-01  376.40  378.39  ...              3599.0           0.63        26508.0\n",
              "4 2014-12-02  378.39  379.25  ...              4560.0           0.63        32744.0\n",
              "\n",
              "[5 rows x 11 columns]"
            ]
          },
          "metadata": {
            "tags": []
          },
          "execution_count": 25
        }
      ]
    },
    {
      "cell_type": "code",
      "metadata": {
        "id": "28RM6SbOym3f"
      },
      "source": [
        "# cpt_full_df.to_csv(\"/content/drive/MyDrive/CIS 522 Final Project/Data/bitcoin_complete.csv\")"
      ],
      "execution_count": 26,
      "outputs": []
    },
    {
      "cell_type": "code",
      "metadata": {
        "colab": {
          "base_uri": "https://localhost:8080/",
          "height": 281
        },
        "id": "l-LympT0kQsI",
        "outputId": "ca8f9113-e228-4297-a95c-2c6efe2dd2c5"
      },
      "source": [
        "plt.plot(cpt_full_df[\"twitter_posts\"].interpolate(method='linear'))"
      ],
      "execution_count": 27,
      "outputs": [
        {
          "output_type": "execute_result",
          "data": {
            "text/plain": [
              "[<matplotlib.lines.Line2D at 0x7ff420cc2d90>]"
            ]
          },
          "metadata": {
            "tags": []
          },
          "execution_count": 27
        },
        {
          "output_type": "display_data",
          "data": {
            "image/png": "[encoded data removed]",
            "text/plain": [
              "<Figure size 432x288 with 1 Axes>"
            ]
          },
          "metadata": {
            "tags": [],
            "needs_background": "light"
          }
        }
      ]
    },
    {
      "cell_type": "markdown",
      "metadata": {
        "id": "gMdta0GhVMfc"
      },
      "source": [
        "## Cleaning data"
      ]
    },
    {
      "cell_type": "markdown",
      "metadata": {
        "id": "bQIkS1lZVRx5"
      },
      "source": [
        "### Percentage Change of prices and volume"
      ]
    },
    {
      "cell_type": "code",
      "metadata": {
        "colab": {
          "base_uri": "https://localhost:8080/"
        },
        "id": "u7sgBQGO34jY",
        "outputId": "64a0ff4d-b430-487f-a9cf-c3fd0eb5b4cd"
      },
      "source": [
        "cpt_full_df.columns"
      ],
      "execution_count": 28,
      "outputs": [
        {
          "output_type": "execute_result",
          "data": {
            "text/plain": [
              "Index(['date', 'open', 'close', 'high', 'low', 'Volume USDT',\n",
              "       'reddit_weighted_score', 'reddit_posts', 'reddit_likes_total',\n",
              "       'google_trends', 'twitter_posts'],\n",
              "      dtype='object')"
            ]
          },
          "metadata": {
            "tags": []
          },
          "execution_count": 28
        }
      ]
    },
    {
      "cell_type": "code",
      "metadata": {
        "colab": {
          "base_uri": "https://localhost:8080/",
          "height": 196
        },
        "id": "6abX_1hm3ciI",
        "outputId": "318a93bb-22eb-417f-ea81-491ea84c6592"
      },
      "source": [
        "scaler = preprocessing.StandardScaler()\n",
        "cols = list(col for col in cpt_full_df.columns if col != \"date\" )\n",
        "cpt_full_df[cols] = scaler.fit_transform(cpt_full_df[cols])\n",
        "cpt_full_df.head()"
      ],
      "execution_count": 29,
      "outputs": [
        {
          "output_type": "execute_result",
          "data": {
            "text/html": [
              "<div>\n",
              "<style scoped>\n",
              "    .dataframe tbody tr th:only-of-type {\n",
              "        vertical-align: middle;\n",
              "    }\n",
              "\n",
              "    .dataframe tbody tr th {\n",
              "        vertical-align: top;\n",
              "    }\n",
              "\n",
              "    .dataframe thead th {\n",
              "        text-align: right;\n",
              "    }\n",
              "</style>\n",
              "<table border=\"1\" class=\"dataframe\">\n",
              "  <thead>\n",
              "    <tr style=\"text-align: right;\">\n",
              "      <th></th>\n",
              "      <th>date</th>\n",
              "      <th>open</th>\n",
              "      <th>close</th>\n",
              "      <th>high</th>\n",
              "      <th>low</th>\n",
              "      <th>Volume USDT</th>\n",
              "      <th>reddit_weighted_score</th>\n",
              "      <th>reddit_posts</th>\n",
              "      <th>reddit_likes_total</th>\n",
              "      <th>google_trends</th>\n",
              "      <th>twitter_posts</th>\n",
              "    </tr>\n",
              "  </thead>\n",
              "  <tbody>\n",
              "    <tr>\n",
              "      <th>0</th>\n",
              "      <td>2014-11-28</td>\n",
              "      <td>-0.838233</td>\n",
              "      <td>-0.835993</td>\n",
              "      <td>-0.831972</td>\n",
              "      <td>-0.845152</td>\n",
              "      <td>-0.491784</td>\n",
              "      <td>-0.162504</td>\n",
              "      <td>-0.342811</td>\n",
              "      <td>-0.278315</td>\n",
              "      <td>-0.476937</td>\n",
              "      <td>-0.486911</td>\n",
              "    </tr>\n",
              "    <tr>\n",
              "      <th>1</th>\n",
              "      <td>2014-11-29</td>\n",
              "      <td>-0.834964</td>\n",
              "      <td>-0.835880</td>\n",
              "      <td>-0.830680</td>\n",
              "      <td>-0.842026</td>\n",
              "      <td>-0.491815</td>\n",
              "      <td>0.782577</td>\n",
              "      <td>-0.414761</td>\n",
              "      <td>-0.547542</td>\n",
              "      <td>-0.476937</td>\n",
              "      <td>-0.396943</td>\n",
              "    </tr>\n",
              "    <tr>\n",
              "      <th>2</th>\n",
              "      <td>2014-11-30</td>\n",
              "      <td>-0.834926</td>\n",
              "      <td>-0.836741</td>\n",
              "      <td>-0.831812</td>\n",
              "      <td>-0.841740</td>\n",
              "      <td>-0.491910</td>\n",
              "      <td>0.408648</td>\n",
              "      <td>-0.455304</td>\n",
              "      <td>-0.492902</td>\n",
              "      <td>-0.537178</td>\n",
              "      <td>-0.732720</td>\n",
              "    </tr>\n",
              "    <tr>\n",
              "      <th>3</th>\n",
              "      <td>2014-12-01</td>\n",
              "      <td>-0.834969</td>\n",
              "      <td>-0.835455</td>\n",
              "      <td>-0.831733</td>\n",
              "      <td>-0.841817</td>\n",
              "      <td>-0.491828</td>\n",
              "      <td>0.523740</td>\n",
              "      <td>-0.294273</td>\n",
              "      <td>-0.448531</td>\n",
              "      <td>-0.645613</td>\n",
              "      <td>-0.399394</td>\n",
              "    </tr>\n",
              "    <tr>\n",
              "      <th>4</th>\n",
              "      <td>2014-12-02</td>\n",
              "      <td>-0.834462</td>\n",
              "      <td>-0.835236</td>\n",
              "      <td>-0.831598</td>\n",
              "      <td>-0.841229</td>\n",
              "      <td>-0.491824</td>\n",
              "      <td>0.835804</td>\n",
              "      <td>-0.202908</td>\n",
              "      <td>-0.355431</td>\n",
              "      <td>-0.645613</td>\n",
              "      <td>-0.074153</td>\n",
              "    </tr>\n",
              "  </tbody>\n",
              "</table>\n",
              "</div>"
            ],
            "text/plain": [
              "        date      open  ...  google_trends  twitter_posts\n",
              "0 2014-11-28 -0.838233  ...      -0.476937      -0.486911\n",
              "1 2014-11-29 -0.834964  ...      -0.476937      -0.396943\n",
              "2 2014-11-30 -0.834926  ...      -0.537178      -0.732720\n",
              "3 2014-12-01 -0.834969  ...      -0.645613      -0.399394\n",
              "4 2014-12-02 -0.834462  ...      -0.645613      -0.074153\n",
              "\n",
              "[5 rows x 11 columns]"
            ]
          },
          "metadata": {
            "tags": []
          },
          "execution_count": 29
        }
      ]
    },
    {
      "cell_type": "markdown",
      "metadata": {
        "id": "oYURhtlE-7yP"
      },
      "source": [
        "### Adding percentage change"
      ]
    },
    {
      "cell_type": "code",
      "metadata": {
        "colab": {
          "base_uri": "https://localhost:8080/",
          "height": 317
        },
        "id": "WgvDnvtJ_CSh",
        "outputId": "abddd7e2-d8ff-4cd7-b9cf-d5013ce2f5c2"
      },
      "source": [
        "cpt_full_df[\"open_dt\"] = cpt_full_df[\"open\"].pct_change()\n",
        "cpt_full_df[\"close_dt\"] = cpt_full_df[\"close\"].pct_change()\n",
        "cpt_full_df[\"low_dt\"] = cpt_full_df[\"low\"].pct_change()\n",
        "cpt_full_df[\"high_dt\"] = cpt_full_df[\"high\"].pct_change()\n",
        "\n",
        "cpt_full_df[\"Volume USDT_dt\"] = cpt_full_df[\"Volume USDT\"].pct_change()\n",
        "\n",
        "cpt_full_df.dropna(how=\"any\", axis=0, inplace=True)\n",
        "cpt_full_df.head()"
      ],
      "execution_count": 30,
      "outputs": [
        {
          "output_type": "execute_result",
          "data": {
            "text/html": [
              "<div>\n",
              "<style scoped>\n",
              "    .dataframe tbody tr th:only-of-type {\n",
              "        vertical-align: middle;\n",
              "    }\n",
              "\n",
              "    .dataframe tbody tr th {\n",
              "        vertical-align: top;\n",
              "    }\n",
              "\n",
              "    .dataframe thead th {\n",
              "        text-align: right;\n",
              "    }\n",
              "</style>\n",
              "<table border=\"1\" class=\"dataframe\">\n",
              "  <thead>\n",
              "    <tr style=\"text-align: right;\">\n",
              "      <th></th>\n",
              "      <th>date</th>\n",
              "      <th>open</th>\n",
              "      <th>close</th>\n",
              "      <th>high</th>\n",
              "      <th>low</th>\n",
              "      <th>Volume USDT</th>\n",
              "      <th>reddit_weighted_score</th>\n",
              "      <th>reddit_posts</th>\n",
              "      <th>reddit_likes_total</th>\n",
              "      <th>google_trends</th>\n",
              "      <th>twitter_posts</th>\n",
              "      <th>open_dt</th>\n",
              "      <th>close_dt</th>\n",
              "      <th>low_dt</th>\n",
              "      <th>high_dt</th>\n",
              "      <th>Volume USDT_dt</th>\n",
              "    </tr>\n",
              "  </thead>\n",
              "  <tbody>\n",
              "    <tr>\n",
              "      <th>1</th>\n",
              "      <td>2014-11-29</td>\n",
              "      <td>-0.834964</td>\n",
              "      <td>-0.835880</td>\n",
              "      <td>-0.830680</td>\n",
              "      <td>-0.842026</td>\n",
              "      <td>-0.491815</td>\n",
              "      <td>0.782577</td>\n",
              "      <td>-0.414761</td>\n",
              "      <td>-0.547542</td>\n",
              "      <td>-0.476937</td>\n",
              "      <td>-0.396943</td>\n",
              "      <td>-0.003900</td>\n",
              "      <td>-0.000134</td>\n",
              "      <td>-0.003699</td>\n",
              "      <td>-0.001552</td>\n",
              "      <td>0.000063</td>\n",
              "    </tr>\n",
              "    <tr>\n",
              "      <th>2</th>\n",
              "      <td>2014-11-30</td>\n",
              "      <td>-0.834926</td>\n",
              "      <td>-0.836741</td>\n",
              "      <td>-0.831812</td>\n",
              "      <td>-0.841740</td>\n",
              "      <td>-0.491910</td>\n",
              "      <td>0.408648</td>\n",
              "      <td>-0.455304</td>\n",
              "      <td>-0.492902</td>\n",
              "      <td>-0.537178</td>\n",
              "      <td>-0.732720</td>\n",
              "      <td>-0.000046</td>\n",
              "      <td>0.001030</td>\n",
              "      <td>-0.000340</td>\n",
              "      <td>0.001362</td>\n",
              "      <td>0.000194</td>\n",
              "    </tr>\n",
              "    <tr>\n",
              "      <th>3</th>\n",
              "      <td>2014-12-01</td>\n",
              "      <td>-0.834969</td>\n",
              "      <td>-0.835455</td>\n",
              "      <td>-0.831733</td>\n",
              "      <td>-0.841817</td>\n",
              "      <td>-0.491828</td>\n",
              "      <td>0.523740</td>\n",
              "      <td>-0.294273</td>\n",
              "      <td>-0.448531</td>\n",
              "      <td>-0.645613</td>\n",
              "      <td>-0.399394</td>\n",
              "      <td>0.000052</td>\n",
              "      <td>-0.001538</td>\n",
              "      <td>0.000092</td>\n",
              "      <td>-0.000094</td>\n",
              "      <td>-0.000167</td>\n",
              "    </tr>\n",
              "    <tr>\n",
              "      <th>4</th>\n",
              "      <td>2014-12-02</td>\n",
              "      <td>-0.834462</td>\n",
              "      <td>-0.835236</td>\n",
              "      <td>-0.831598</td>\n",
              "      <td>-0.841229</td>\n",
              "      <td>-0.491824</td>\n",
              "      <td>0.835804</td>\n",
              "      <td>-0.202908</td>\n",
              "      <td>-0.355431</td>\n",
              "      <td>-0.645613</td>\n",
              "      <td>-0.074153</td>\n",
              "      <td>-0.000607</td>\n",
              "      <td>-0.000262</td>\n",
              "      <td>-0.000699</td>\n",
              "      <td>-0.000162</td>\n",
              "      <td>-0.000008</td>\n",
              "    </tr>\n",
              "    <tr>\n",
              "      <th>5</th>\n",
              "      <td>2014-12-03</td>\n",
              "      <td>-0.834243</td>\n",
              "      <td>-0.835893</td>\n",
              "      <td>-0.831564</td>\n",
              "      <td>-0.841496</td>\n",
              "      <td>-0.491800</td>\n",
              "      <td>0.675420</td>\n",
              "      <td>-0.257727</td>\n",
              "      <td>-0.453569</td>\n",
              "      <td>-0.641596</td>\n",
              "      <td>-0.478566</td>\n",
              "      <td>-0.000263</td>\n",
              "      <td>0.000787</td>\n",
              "      <td>0.000318</td>\n",
              "      <td>-0.000041</td>\n",
              "      <td>-0.000050</td>\n",
              "    </tr>\n",
              "  </tbody>\n",
              "</table>\n",
              "</div>"
            ],
            "text/plain": [
              "        date      open     close  ...    low_dt   high_dt  Volume USDT_dt\n",
              "1 2014-11-29 -0.834964 -0.835880  ... -0.003699 -0.001552        0.000063\n",
              "2 2014-11-30 -0.834926 -0.836741  ... -0.000340  0.001362        0.000194\n",
              "3 2014-12-01 -0.834969 -0.835455  ...  0.000092 -0.000094       -0.000167\n",
              "4 2014-12-02 -0.834462 -0.835236  ... -0.000699 -0.000162       -0.000008\n",
              "5 2014-12-03 -0.834243 -0.835893  ...  0.000318 -0.000041       -0.000050\n",
              "\n",
              "[5 rows x 16 columns]"
            ]
          },
          "metadata": {
            "tags": []
          },
          "execution_count": 30
        }
      ]
    },
    {
      "cell_type": "code",
      "metadata": {
        "colab": {
          "base_uri": "https://localhost:8080/",
          "height": 608
        },
        "id": "w37z6Ei-HE9C",
        "outputId": "af1869cf-3f10-491d-fd08-3e4f06e2c788"
      },
      "source": [
        "cpt_full_df\n"
      ],
      "execution_count": 31,
      "outputs": [
        {
          "output_type": "execute_result",
          "data": {
            "text/html": [
              "<div>\n",
              "<style scoped>\n",
              "    .dataframe tbody tr th:only-of-type {\n",
              "        vertical-align: middle;\n",
              "    }\n",
              "\n",
              "    .dataframe tbody tr th {\n",
              "        vertical-align: top;\n",
              "    }\n",
              "\n",
              "    .dataframe thead th {\n",
              "        text-align: right;\n",
              "    }\n",
              "</style>\n",
              "<table border=\"1\" class=\"dataframe\">\n",
              "  <thead>\n",
              "    <tr style=\"text-align: right;\">\n",
              "      <th></th>\n",
              "      <th>date</th>\n",
              "      <th>open</th>\n",
              "      <th>close</th>\n",
              "      <th>high</th>\n",
              "      <th>low</th>\n",
              "      <th>Volume USDT</th>\n",
              "      <th>reddit_weighted_score</th>\n",
              "      <th>reddit_posts</th>\n",
              "      <th>reddit_likes_total</th>\n",
              "      <th>google_trends</th>\n",
              "      <th>twitter_posts</th>\n",
              "      <th>open_dt</th>\n",
              "      <th>close_dt</th>\n",
              "      <th>low_dt</th>\n",
              "      <th>high_dt</th>\n",
              "      <th>Volume USDT_dt</th>\n",
              "    </tr>\n",
              "  </thead>\n",
              "  <tbody>\n",
              "    <tr>\n",
              "      <th>1</th>\n",
              "      <td>2014-11-29</td>\n",
              "      <td>-0.834964</td>\n",
              "      <td>-0.835880</td>\n",
              "      <td>-0.830680</td>\n",
              "      <td>-0.842026</td>\n",
              "      <td>-0.491815</td>\n",
              "      <td>0.782577</td>\n",
              "      <td>-0.414761</td>\n",
              "      <td>-0.547542</td>\n",
              "      <td>-0.476937</td>\n",
              "      <td>-0.396943</td>\n",
              "      <td>-0.003900</td>\n",
              "      <td>-0.000134</td>\n",
              "      <td>-0.003699</td>\n",
              "      <td>-0.001552</td>\n",
              "      <td>0.000063</td>\n",
              "    </tr>\n",
              "    <tr>\n",
              "      <th>2</th>\n",
              "      <td>2014-11-30</td>\n",
              "      <td>-0.834926</td>\n",
              "      <td>-0.836741</td>\n",
              "      <td>-0.831812</td>\n",
              "      <td>-0.841740</td>\n",
              "      <td>-0.491910</td>\n",
              "      <td>0.408648</td>\n",
              "      <td>-0.455304</td>\n",
              "      <td>-0.492902</td>\n",
              "      <td>-0.537178</td>\n",
              "      <td>-0.732720</td>\n",
              "      <td>-0.000046</td>\n",
              "      <td>0.001030</td>\n",
              "      <td>-0.000340</td>\n",
              "      <td>0.001362</td>\n",
              "      <td>0.000194</td>\n",
              "    </tr>\n",
              "    <tr>\n",
              "      <th>3</th>\n",
              "      <td>2014-12-01</td>\n",
              "      <td>-0.834969</td>\n",
              "      <td>-0.835455</td>\n",
              "      <td>-0.831733</td>\n",
              "      <td>-0.841817</td>\n",
              "      <td>-0.491828</td>\n",
              "      <td>0.523740</td>\n",
              "      <td>-0.294273</td>\n",
              "      <td>-0.448531</td>\n",
              "      <td>-0.645613</td>\n",
              "      <td>-0.399394</td>\n",
              "      <td>0.000052</td>\n",
              "      <td>-0.001538</td>\n",
              "      <td>0.000092</td>\n",
              "      <td>-0.000094</td>\n",
              "      <td>-0.000167</td>\n",
              "    </tr>\n",
              "    <tr>\n",
              "      <th>4</th>\n",
              "      <td>2014-12-02</td>\n",
              "      <td>-0.834462</td>\n",
              "      <td>-0.835236</td>\n",
              "      <td>-0.831598</td>\n",
              "      <td>-0.841229</td>\n",
              "      <td>-0.491824</td>\n",
              "      <td>0.835804</td>\n",
              "      <td>-0.202908</td>\n",
              "      <td>-0.355431</td>\n",
              "      <td>-0.645613</td>\n",
              "      <td>-0.074153</td>\n",
              "      <td>-0.000607</td>\n",
              "      <td>-0.000262</td>\n",
              "      <td>-0.000699</td>\n",
              "      <td>-0.000162</td>\n",
              "      <td>-0.000008</td>\n",
              "    </tr>\n",
              "    <tr>\n",
              "      <th>5</th>\n",
              "      <td>2014-12-03</td>\n",
              "      <td>-0.834243</td>\n",
              "      <td>-0.835893</td>\n",
              "      <td>-0.831564</td>\n",
              "      <td>-0.841496</td>\n",
              "      <td>-0.491800</td>\n",
              "      <td>0.675420</td>\n",
              "      <td>-0.257727</td>\n",
              "      <td>-0.453569</td>\n",
              "      <td>-0.641596</td>\n",
              "      <td>-0.478566</td>\n",
              "      <td>-0.000263</td>\n",
              "      <td>0.000787</td>\n",
              "      <td>0.000318</td>\n",
              "      <td>-0.000041</td>\n",
              "      <td>-0.000050</td>\n",
              "    </tr>\n",
              "    <tr>\n",
              "      <th>...</th>\n",
              "      <td>...</td>\n",
              "      <td>...</td>\n",
              "      <td>...</td>\n",
              "      <td>...</td>\n",
              "      <td>...</td>\n",
              "      <td>...</td>\n",
              "      <td>...</td>\n",
              "      <td>...</td>\n",
              "      <td>...</td>\n",
              "      <td>...</td>\n",
              "      <td>...</td>\n",
              "      <td>...</td>\n",
              "      <td>...</td>\n",
              "      <td>...</td>\n",
              "      <td>...</td>\n",
              "      <td>...</td>\n",
              "    </tr>\n",
              "    <tr>\n",
              "      <th>1763</th>\n",
              "      <td>2019-09-26</td>\n",
              "      <td>1.220494</td>\n",
              "      <td>1.120198</td>\n",
              "      <td>1.153181</td>\n",
              "      <td>1.128187</td>\n",
              "      <td>2.555181</td>\n",
              "      <td>-0.283469</td>\n",
              "      <td>-0.300554</td>\n",
              "      <td>-0.095117</td>\n",
              "      <td>0.308876</td>\n",
              "      <td>-0.758693</td>\n",
              "      <td>-0.019100</td>\n",
              "      <td>-0.078992</td>\n",
              "      <td>-0.102610</td>\n",
              "      <td>-0.056052</td>\n",
              "      <td>-0.102164</td>\n",
              "    </tr>\n",
              "    <tr>\n",
              "      <th>1764</th>\n",
              "      <td>2019-09-27</td>\n",
              "      <td>1.121584</td>\n",
              "      <td>1.154001</td>\n",
              "      <td>1.110503</td>\n",
              "      <td>1.163517</td>\n",
              "      <td>1.397749</td>\n",
              "      <td>-7.879117</td>\n",
              "      <td>1.112177</td>\n",
              "      <td>5.516301</td>\n",
              "      <td>0.116104</td>\n",
              "      <td>-0.784771</td>\n",
              "      <td>-0.081041</td>\n",
              "      <td>0.030176</td>\n",
              "      <td>0.031315</td>\n",
              "      <td>-0.037009</td>\n",
              "      <td>-0.452974</td>\n",
              "    </tr>\n",
              "    <tr>\n",
              "      <th>1765</th>\n",
              "      <td>2019-09-28</td>\n",
              "      <td>1.158456</td>\n",
              "      <td>1.161733</td>\n",
              "      <td>1.125811</td>\n",
              "      <td>1.202012</td>\n",
              "      <td>0.686357</td>\n",
              "      <td>0.005126</td>\n",
              "      <td>-0.455875</td>\n",
              "      <td>-0.451922</td>\n",
              "      <td>-0.033829</td>\n",
              "      <td>-0.978006</td>\n",
              "      <td>0.032875</td>\n",
              "      <td>0.006700</td>\n",
              "      <td>0.033086</td>\n",
              "      <td>0.013785</td>\n",
              "      <td>-0.508955</td>\n",
              "    </tr>\n",
              "    <tr>\n",
              "      <th>1766</th>\n",
              "      <td>2019-09-29</td>\n",
              "      <td>1.163070</td>\n",
              "      <td>1.118305</td>\n",
              "      <td>1.098236</td>\n",
              "      <td>1.173328</td>\n",
              "      <td>0.488539</td>\n",
              "      <td>0.081178</td>\n",
              "      <td>-0.473577</td>\n",
              "      <td>-0.457638</td>\n",
              "      <td>-0.087377</td>\n",
              "      <td>-1.039811</td>\n",
              "      <td>0.003983</td>\n",
              "      <td>-0.037382</td>\n",
              "      <td>-0.023864</td>\n",
              "      <td>-0.024494</td>\n",
              "      <td>-0.288215</td>\n",
              "    </tr>\n",
              "    <tr>\n",
              "      <th>1767</th>\n",
              "      <td>2019-09-30</td>\n",
              "      <td>1.122827</td>\n",
              "      <td>1.182210</td>\n",
              "      <td>1.128782</td>\n",
              "      <td>1.123024</td>\n",
              "      <td>1.301435</td>\n",
              "      <td>0.197351</td>\n",
              "      <td>-0.444454</td>\n",
              "      <td>-0.481858</td>\n",
              "      <td>0.051847</td>\n",
              "      <td>-0.855754</td>\n",
              "      <td>-0.034600</td>\n",
              "      <td>0.057144</td>\n",
              "      <td>-0.042872</td>\n",
              "      <td>0.027814</td>\n",
              "      <td>1.663931</td>\n",
              "    </tr>\n",
              "  </tbody>\n",
              "</table>\n",
              "<p>1767 rows × 16 columns</p>\n",
              "</div>"
            ],
            "text/plain": [
              "           date      open     close  ...    low_dt   high_dt  Volume USDT_dt\n",
              "1    2014-11-29 -0.834964 -0.835880  ... -0.003699 -0.001552        0.000063\n",
              "2    2014-11-30 -0.834926 -0.836741  ... -0.000340  0.001362        0.000194\n",
              "3    2014-12-01 -0.834969 -0.835455  ...  0.000092 -0.000094       -0.000167\n",
              "4    2014-12-02 -0.834462 -0.835236  ... -0.000699 -0.000162       -0.000008\n",
              "5    2014-12-03 -0.834243 -0.835893  ...  0.000318 -0.000041       -0.000050\n",
              "...         ...       ...       ...  ...       ...       ...             ...\n",
              "1763 2019-09-26  1.220494  1.120198  ... -0.102610 -0.056052       -0.102164\n",
              "1764 2019-09-27  1.121584  1.154001  ...  0.031315 -0.037009       -0.452974\n",
              "1765 2019-09-28  1.158456  1.161733  ...  0.033086  0.013785       -0.508955\n",
              "1766 2019-09-29  1.163070  1.118305  ... -0.023864 -0.024494       -0.288215\n",
              "1767 2019-09-30  1.122827  1.182210  ... -0.042872  0.027814        1.663931\n",
              "\n",
              "[1767 rows x 16 columns]"
            ]
          },
          "metadata": {
            "tags": []
          },
          "execution_count": 31
        }
      ]
    },
    {
      "cell_type": "markdown",
      "metadata": {
        "id": "fJN5Uom7WZCf"
      },
      "source": [
        "### Normalising price columns"
      ]
    },
    {
      "cell_type": "code",
      "metadata": {
        "id": "_93J9nLUQ8VB"
      },
      "source": [
        "# cpt_full_df = cpt_full_df.drop(columns=[\"open\", \"low\"])"
      ],
      "execution_count": 32,
      "outputs": []
    },
    {
      "cell_type": "code",
      "metadata": {
        "id": "XdkhrdZBWj36"
      },
      "source": [
        "# min_return = min(cpt_full_df[['open', 'high', 'low', 'close']].min(axis=0))\n",
        "# max_return = max(cpt_full_df[['open', 'high', 'low', 'close']].max(axis=0))\n",
        "\n",
        "# # Min-max normalize price columns (0-1 range)\n",
        "# cpt_full_df['open'] = (cpt_full_df['open'] - min_return) / (max_return - min_return)\n",
        "# cpt_full_df['high'] = (cpt_full_df['high'] - min_return) / (max_return - min_return)\n",
        "# cpt_full_df['low'] = (cpt_full_df['low'] - min_return) / (max_return - min_return)\n",
        "# cpt_full_df['close'] = (cpt_full_df['close'] - min_return) / (max_return - min_return)"
      ],
      "execution_count": 33,
      "outputs": []
    },
    {
      "cell_type": "markdown",
      "metadata": {
        "id": "7OhWRv6mYecy"
      },
      "source": [
        "### Normalising volume columns"
      ]
    },
    {
      "cell_type": "code",
      "metadata": {
        "id": "dOWVngtbXX9a"
      },
      "source": [
        "# min_volume = cpt_full_df['Volume USDT'].min(axis=0)\n",
        "# max_volume = cpt_full_df['Volume USDT'].max(axis=0)\n",
        "\n",
        "# # Min-max normalize volume columns (0-1 range)\n",
        "# cpt_full_df['Volume USDT'] = (cpt_full_df['Volume USDT'] - min_volume) / (max_volume - min_volume)"
      ],
      "execution_count": 34,
      "outputs": []
    },
    {
      "cell_type": "markdown",
      "metadata": {
        "id": "eP0qGjOHeOQr"
      },
      "source": [
        "### Test Train split"
      ]
    },
    {
      "cell_type": "code",
      "metadata": {
        "colab": {
          "base_uri": "https://localhost:8080/",
          "height": 367
        },
        "id": "9ros1OfpeJ0B",
        "outputId": "1611f611-97ac-4363-e892-158acf95d906"
      },
      "source": [
        "per_of_test = 0.1\n",
        "per_of_val = 0.1\n",
        "\n",
        "times = sorted(cpt_full_df.index.values)\n",
        "last_npct = sorted(cpt_full_df.index.values)[-int(per_of_test*len(times))] # Last 10% of series\n",
        "last_2npct = sorted(cpt_full_df.index.values)[-int((per_of_val+per_of_test)*len(times))] # Last 20% of series\n",
        "\n",
        "df_train = cpt_full_df[(cpt_full_df.index < last_2npct)]  # Training data are 80% of total data\n",
        "df_val = cpt_full_df[(cpt_full_df.index >= last_2npct) & (cpt_full_df.index < last_npct)]\n",
        "df_test = cpt_full_df[(cpt_full_df.index >= last_npct)]\n",
        "\n",
        "# Remove date column\n",
        "df_train.drop(columns=['date'], inplace=True)\n",
        "df_val.drop(columns=['date'], inplace=True)\n",
        "df_test.drop(columns=['date'], inplace=True)\n",
        "\n",
        "# Convert pandas columns into arrays\n",
        "train_data = df_train.values\n",
        "val_data = df_val.values\n",
        "test_data = df_test.values\n",
        "\n",
        "feature_num=train_data.shape[1]\n",
        "\n",
        "print(f'Training data shape: {train_data.shape}')\n",
        "print(f'Validation data shape: {val_data.shape}')\n",
        "print(f'Test data shape: {test_data.shape}')\n",
        "\n",
        "df_train.head()"
      ],
      "execution_count": 35,
      "outputs": [
        {
          "output_type": "stream",
          "text": [
            "Training data shape: (1414, 15)\n",
            "Validation data shape: (177, 15)\n",
            "Test data shape: (176, 15)\n"
          ],
          "name": "stdout"
        },
        {
          "output_type": "stream",
          "text": [
            "/usr/local/lib/python3.7/dist-packages/pandas/core/frame.py:4174: SettingWithCopyWarning: \n",
            "A value is trying to be set on a copy of a slice from a DataFrame\n",
            "\n",
            "See the caveats in the documentation: https://pandas.pydata.org/pandas-docs/stable/user_guide/indexing.html#returning-a-view-versus-a-copy\n",
            "  errors=errors,\n"
          ],
          "name": "stderr"
        },
        {
          "output_type": "execute_result",
          "data": {
            "text/html": [
              "<div>\n",
              "<style scoped>\n",
              "    .dataframe tbody tr th:only-of-type {\n",
              "        vertical-align: middle;\n",
              "    }\n",
              "\n",
              "    .dataframe tbody tr th {\n",
              "        vertical-align: top;\n",
              "    }\n",
              "\n",
              "    .dataframe thead th {\n",
              "        text-align: right;\n",
              "    }\n",
              "</style>\n",
              "<table border=\"1\" class=\"dataframe\">\n",
              "  <thead>\n",
              "    <tr style=\"text-align: right;\">\n",
              "      <th></th>\n",
              "      <th>open</th>\n",
              "      <th>close</th>\n",
              "      <th>high</th>\n",
              "      <th>low</th>\n",
              "      <th>Volume USDT</th>\n",
              "      <th>reddit_weighted_score</th>\n",
              "      <th>reddit_posts</th>\n",
              "      <th>reddit_likes_total</th>\n",
              "      <th>google_trends</th>\n",
              "      <th>twitter_posts</th>\n",
              "      <th>open_dt</th>\n",
              "      <th>close_dt</th>\n",
              "      <th>low_dt</th>\n",
              "      <th>high_dt</th>\n",
              "      <th>Volume USDT_dt</th>\n",
              "    </tr>\n",
              "  </thead>\n",
              "  <tbody>\n",
              "    <tr>\n",
              "      <th>1</th>\n",
              "      <td>-0.834964</td>\n",
              "      <td>-0.835880</td>\n",
              "      <td>-0.830680</td>\n",
              "      <td>-0.842026</td>\n",
              "      <td>-0.491815</td>\n",
              "      <td>0.782577</td>\n",
              "      <td>-0.414761</td>\n",
              "      <td>-0.547542</td>\n",
              "      <td>-0.476937</td>\n",
              "      <td>-0.396943</td>\n",
              "      <td>-0.003900</td>\n",
              "      <td>-0.000134</td>\n",
              "      <td>-0.003699</td>\n",
              "      <td>-0.001552</td>\n",
              "      <td>0.000063</td>\n",
              "    </tr>\n",
              "    <tr>\n",
              "      <th>2</th>\n",
              "      <td>-0.834926</td>\n",
              "      <td>-0.836741</td>\n",
              "      <td>-0.831812</td>\n",
              "      <td>-0.841740</td>\n",
              "      <td>-0.491910</td>\n",
              "      <td>0.408648</td>\n",
              "      <td>-0.455304</td>\n",
              "      <td>-0.492902</td>\n",
              "      <td>-0.537178</td>\n",
              "      <td>-0.732720</td>\n",
              "      <td>-0.000046</td>\n",
              "      <td>0.001030</td>\n",
              "      <td>-0.000340</td>\n",
              "      <td>0.001362</td>\n",
              "      <td>0.000194</td>\n",
              "    </tr>\n",
              "    <tr>\n",
              "      <th>3</th>\n",
              "      <td>-0.834969</td>\n",
              "      <td>-0.835455</td>\n",
              "      <td>-0.831733</td>\n",
              "      <td>-0.841817</td>\n",
              "      <td>-0.491828</td>\n",
              "      <td>0.523740</td>\n",
              "      <td>-0.294273</td>\n",
              "      <td>-0.448531</td>\n",
              "      <td>-0.645613</td>\n",
              "      <td>-0.399394</td>\n",
              "      <td>0.000052</td>\n",
              "      <td>-0.001538</td>\n",
              "      <td>0.000092</td>\n",
              "      <td>-0.000094</td>\n",
              "      <td>-0.000167</td>\n",
              "    </tr>\n",
              "    <tr>\n",
              "      <th>4</th>\n",
              "      <td>-0.834462</td>\n",
              "      <td>-0.835236</td>\n",
              "      <td>-0.831598</td>\n",
              "      <td>-0.841229</td>\n",
              "      <td>-0.491824</td>\n",
              "      <td>0.835804</td>\n",
              "      <td>-0.202908</td>\n",
              "      <td>-0.355431</td>\n",
              "      <td>-0.645613</td>\n",
              "      <td>-0.074153</td>\n",
              "      <td>-0.000607</td>\n",
              "      <td>-0.000262</td>\n",
              "      <td>-0.000699</td>\n",
              "      <td>-0.000162</td>\n",
              "      <td>-0.000008</td>\n",
              "    </tr>\n",
              "    <tr>\n",
              "      <th>5</th>\n",
              "      <td>-0.834243</td>\n",
              "      <td>-0.835893</td>\n",
              "      <td>-0.831564</td>\n",
              "      <td>-0.841496</td>\n",
              "      <td>-0.491800</td>\n",
              "      <td>0.675420</td>\n",
              "      <td>-0.257727</td>\n",
              "      <td>-0.453569</td>\n",
              "      <td>-0.641596</td>\n",
              "      <td>-0.478566</td>\n",
              "      <td>-0.000263</td>\n",
              "      <td>0.000787</td>\n",
              "      <td>0.000318</td>\n",
              "      <td>-0.000041</td>\n",
              "      <td>-0.000050</td>\n",
              "    </tr>\n",
              "  </tbody>\n",
              "</table>\n",
              "</div>"
            ],
            "text/plain": [
              "       open     close      high  ...    low_dt   high_dt  Volume USDT_dt\n",
              "1 -0.834964 -0.835880 -0.830680  ... -0.003699 -0.001552        0.000063\n",
              "2 -0.834926 -0.836741 -0.831812  ... -0.000340  0.001362        0.000194\n",
              "3 -0.834969 -0.835455 -0.831733  ...  0.000092 -0.000094       -0.000167\n",
              "4 -0.834462 -0.835236 -0.831598  ... -0.000699 -0.000162       -0.000008\n",
              "5 -0.834243 -0.835893 -0.831564  ...  0.000318 -0.000041       -0.000050\n",
              "\n",
              "[5 rows x 15 columns]"
            ]
          },
          "metadata": {
            "tags": []
          },
          "execution_count": 35
        }
      ]
    },
    {
      "cell_type": "code",
      "metadata": {
        "id": "KNGW64ah0f0x"
      },
      "source": [
        ""
      ],
      "execution_count": 35,
      "outputs": []
    },
    {
      "cell_type": "markdown",
      "metadata": {
        "id": "dBJW5QOSkABN"
      },
      "source": [
        "### Plotting the Train Test Validation split"
      ]
    },
    {
      "cell_type": "code",
      "metadata": {
        "colab": {
          "base_uri": "https://localhost:8080/",
          "height": 792
        },
        "id": "jiDXW4XScAUd",
        "outputId": "16673b01-e6ba-4e69-85dd-aa3ed1e44145"
      },
      "source": [
        "fig = plt.figure(figsize=(15,12))\n",
        "st = fig.suptitle(\"Data Separation\", fontsize=20)\n",
        "st.set_y(0.95)\n",
        "\n",
        "###############################################################################\n",
        "\n",
        "ax1 = fig.add_subplot(211)\n",
        "ax1.plot(np.arange(train_data.shape[0]), df_train['close'], label='Training data')\n",
        "\n",
        "ax1.plot(np.arange(train_data.shape[0], \n",
        "                   train_data.shape[0]+val_data.shape[0]), df_val['close'], label='Validation data')\n",
        "\n",
        "ax1.plot(np.arange(train_data.shape[0]+val_data.shape[0], \n",
        "                   train_data.shape[0]+val_data.shape[0]+test_data.shape[0]), df_test['close'], label='Test data')\n",
        "ax1.set_xlabel('Date')\n",
        "ax1.set_ylabel('Normalized Closing Returns')\n",
        "ax1.set_title(\"Close Price\", fontsize=18)\n",
        "ax1.legend(loc=\"best\", fontsize=12)\n",
        "\n",
        "###############################################################################\n",
        "\n",
        "ax2 = fig.add_subplot(212)\n",
        "ax2.plot(np.arange(train_data.shape[0]), df_train['Volume USDT'], label='Training data')\n",
        "\n",
        "ax2.plot(np.arange(train_data.shape[0], \n",
        "                   train_data.shape[0]+val_data.shape[0]), df_val['Volume USDT'], label='Validation data')\n",
        "\n",
        "ax2.plot(np.arange(train_data.shape[0]+val_data.shape[0], \n",
        "                   train_data.shape[0]+val_data.shape[0]+test_data.shape[0]), df_test['Volume USDT'], label='Test data')\n",
        "ax2.set_xlabel('Date')\n",
        "ax2.set_ylabel('Normalized Volume Changes')\n",
        "ax2.set_title(\"Volume\", fontsize=18)\n",
        "ax2.legend(loc=\"best\", fontsize=12)"
      ],
      "execution_count": 36,
      "outputs": [
        {
          "output_type": "execute_result",
          "data": {
            "text/plain": [
              "<matplotlib.legend.Legend at 0x7ff420b5f510>"
            ]
          },
          "metadata": {
            "tags": []
          },
          "execution_count": 36
        },
        {
          "output_type": "display_data",
          "data": {
            "image/png": "[encoded data removed]",
            "text/plain": [
              "<Figure size 1080x864 with 2 Axes>"
            ]
          },
          "metadata": {
            "tags": [],
            "needs_background": "light"
          }
        }
      ]
    },
    {
      "cell_type": "markdown",
      "metadata": {
        "id": "-7bI7NtxmFdZ"
      },
      "source": [
        "### Creating data chunks\n",
        "\n",
        "Were predicting closing price for the next day is this chunking"
      ]
    },
    {
      "cell_type": "code",
      "metadata": {
        "id": "EYAKVj2rQ1bH"
      },
      "source": [
        ""
      ],
      "execution_count": 36,
      "outputs": []
    },
    {
      "cell_type": "code",
      "metadata": {
        "colab": {
          "base_uri": "https://localhost:8080/"
        },
        "id": "bexdegUSmDsq",
        "outputId": "0486c380-fe3b-4b23-aeda-d02c322e9d52"
      },
      "source": [
        "closing_index=1\n",
        "\n",
        "# Training data\n",
        "X_train, y_train = [], []\n",
        "for i in range(seq_len, len(train_data)-prediction_date+1):\n",
        "  X_train.append(train_data[i-seq_len:i]) # Chunks of training data with a length of 128 df-rows\n",
        "  y_train.append(train_data[:, closing_index][i+prediction_date-1]) #Value of 4th column (Close Price) of df-row 128+1\n",
        "X_train, y_train = np.array(X_train), np.array(y_train)\n",
        "\n",
        "###############################################################################\n",
        "\n",
        "# Validation data\n",
        "X_val, y_val = [], []\n",
        "for i in range(seq_len, len(val_data)-prediction_date+1):\n",
        "    X_val.append(val_data[i-seq_len:i])\n",
        "    y_val.append(val_data[:, closing_index][i+prediction_date-1])\n",
        "X_val, y_val = np.array(X_val), np.array(y_val)\n",
        "\n",
        "###############################################################################\n",
        "\n",
        "# Test data\n",
        "X_test, y_test = [], []\n",
        "for i in range(seq_len, len(test_data)-prediction_date+1):\n",
        "    X_test.append(test_data[i-seq_len:i])\n",
        "    y_test.append(test_data[:, closing_index][i+prediction_date-1])    \n",
        "X_test, y_test = np.array(X_test), np.array(y_test)\n",
        "\n",
        "print('Training set shape', X_train.shape, y_train.shape)\n",
        "print('Validation set shape', X_val.shape, y_val.shape)\n",
        "print('Testing set shape' ,X_test.shape, y_test.shape)"
      ],
      "execution_count": 37,
      "outputs": [
        {
          "output_type": "stream",
          "text": [
            "Training set shape (1384, 30, 15) (1384,)\n",
            "Validation set shape (147, 30, 15) (147,)\n",
            "Testing set shape (146, 30, 15) (146,)\n"
          ],
          "name": "stdout"
        }
      ]
    },
    {
      "cell_type": "markdown",
      "metadata": {
        "id": "NJJT_jCRqbMC"
      },
      "source": [
        "## Architecture"
      ]
    },
    {
      "cell_type": "markdown",
      "metadata": {
        "id": "7aF2fSN9sWbs"
      },
      "source": [
        "### Time embedding vector"
      ]
    },
    {
      "cell_type": "code",
      "metadata": {
        "id": "bwuZb9muqUSg"
      },
      "source": [
        "class Time2Vector(Layer):\n",
        "  def __init__(self, seq_len, **kwargs):\n",
        "    super(Time2Vector, self).__init__()\n",
        "    self.seq_len = seq_len\n",
        "\n",
        "  def build(self, input_shape):\n",
        "    '''Initialize weights and biases with shape (batch, seq_len)'''\n",
        "    self.weights_linear = self.add_weight(name='weight_linear',\n",
        "                                shape=(int(self.seq_len),),\n",
        "                                initializer='uniform',\n",
        "                                trainable=True)\n",
        "    \n",
        "    self.bias_linear = self.add_weight(name='bias_linear',\n",
        "                                shape=(int(self.seq_len),),\n",
        "                                initializer='uniform',\n",
        "                                trainable=True)\n",
        "    \n",
        "    self.weights_periodic = self.add_weight(name='weight_periodic',\n",
        "                                shape=(int(self.seq_len),),\n",
        "                                initializer='uniform',\n",
        "                                trainable=True)\n",
        "\n",
        "    self.bias_periodic = self.add_weight(name='bias_periodic',\n",
        "                                shape=(int(self.seq_len),),\n",
        "                                initializer='uniform',\n",
        "                                trainable=True)\n",
        "\n",
        "  def call(self, x):\n",
        "    '''Calculate linear and periodic time features'''\n",
        "    x = tf.math.reduce_mean(x[:,:,:4], axis=-1) \n",
        "    time_linear = self.weights_linear * x + self.bias_linear # Linear time feature\n",
        "    time_linear = tf.expand_dims(time_linear, axis=-1) # Add dimension (batch, seq_len, 1)\n",
        "    \n",
        "    time_periodic = tf.math.sin(tf.multiply(x, self.weights_periodic) + self.bias_periodic)\n",
        "    time_periodic = tf.expand_dims(time_periodic, axis=-1) # Add dimension (batch, seq_len, 1)\n",
        "    return tf.concat([time_linear, time_periodic], axis=-1) # shape = (batch, seq_len, 2)\n",
        "   \n",
        "  def get_config(self): # Needed for saving and loading model with custom layer\n",
        "    config = super().get_config().copy()\n",
        "    config.update({'seq_len': self.seq_len})\n",
        "    return config"
      ],
      "execution_count": 38,
      "outputs": []
    },
    {
      "cell_type": "markdown",
      "metadata": {
        "id": "yRqONgKlthwo"
      },
      "source": [
        "### Single Attention Head"
      ]
    },
    {
      "cell_type": "code",
      "metadata": {
        "id": "AJbrfmtmtlhX"
      },
      "source": [
        "class SingleAttention(Layer):\n",
        "  def __init__(self, d_k, d_v):\n",
        "    super(SingleAttention, self).__init__()\n",
        "    self.d_k = d_k\n",
        "    self.d_v = d_v\n",
        "\n",
        "  def build(self, input_shape):\n",
        "    self.query = Dense(self.d_k, \n",
        "                       input_shape=input_shape, \n",
        "                       kernel_initializer='glorot_uniform', \n",
        "                       bias_initializer='glorot_uniform')\n",
        "    \n",
        "    self.key = Dense(self.d_k, \n",
        "                     input_shape=input_shape, \n",
        "                     kernel_initializer='glorot_uniform', \n",
        "                     bias_initializer='glorot_uniform')\n",
        "    \n",
        "    self.value = Dense(self.d_v, \n",
        "                       input_shape=input_shape, \n",
        "                       kernel_initializer='glorot_uniform', \n",
        "                       bias_initializer='glorot_uniform')\n",
        "\n",
        "  def call(self, inputs): # inputs = (in_seq, in_seq, in_seq)\n",
        "    q = self.query(inputs[0])\n",
        "    k = self.key(inputs[1])\n",
        "\n",
        "    attn_weights = tf.matmul(q, k, transpose_b=True)\n",
        "    attn_weights = tf.map_fn(lambda x: x/np.sqrt(self.d_k), attn_weights)\n",
        "    attn_weights = tf.nn.softmax(attn_weights, axis=-1)\n",
        "    \n",
        "    v = self.value(inputs[2])\n",
        "    attn_out = tf.matmul(attn_weights, v)\n",
        "    return attn_out  "
      ],
      "execution_count": 39,
      "outputs": []
    },
    {
      "cell_type": "markdown",
      "metadata": {
        "id": "BBo2yt5huAFo"
      },
      "source": [
        "### Multi-Head attention"
      ]
    },
    {
      "cell_type": "code",
      "metadata": {
        "id": "0Wny0Oi5t8Ov"
      },
      "source": [
        "class MultiAttention(Layer):\n",
        "  def __init__(self, d_k, d_v, n_heads):\n",
        "    super(MultiAttention, self).__init__()\n",
        "    self.d_k = d_k\n",
        "    self.d_v = d_v\n",
        "    self.n_heads = n_heads\n",
        "    self.attn_heads = list()\n",
        "\n",
        "  def build(self, input_shape):\n",
        "    for n in range(self.n_heads):\n",
        "      self.attn_heads.append(SingleAttention(self.d_k, self.d_v))  \n",
        "    \n",
        "    # input_shape[0]=(batch, seq_len, 7), input_shape[0][-1]=7 \n",
        "    self.linear = Dense(input_shape[0][-1], \n",
        "                        input_shape=input_shape, \n",
        "                        kernel_initializer='glorot_uniform', \n",
        "                        bias_initializer='glorot_uniform')\n",
        "\n",
        "  def call(self, inputs):\n",
        "    attn = [self.attn_heads[i](inputs) for i in range(self.n_heads)]\n",
        "    concat_attn = tf.concat(attn, axis=-1)\n",
        "    multi_linear = self.linear(concat_attn)\n",
        "    return multi_linear  "
      ],
      "execution_count": 40,
      "outputs": []
    },
    {
      "cell_type": "markdown",
      "metadata": {
        "id": "HcLwHuuO-oXw"
      },
      "source": [
        "### Encoding for transformers"
      ]
    },
    {
      "cell_type": "code",
      "metadata": {
        "id": "h-7SHcA7-jAo"
      },
      "source": [
        "class TransformerEncoder(Layer):\n",
        "  def __init__(self, d_k, d_v, n_heads, ff_dim, dropout=0.15, **kwargs):\n",
        "    super(TransformerEncoder, self).__init__()\n",
        "    self.d_k = d_k\n",
        "    self.d_v = d_v\n",
        "    self.n_heads = n_heads\n",
        "    self.ff_dim = ff_dim\n",
        "    self.attn_heads = list()\n",
        "    self.dropout_rate = dropout\n",
        "\n",
        "  def build(self, input_shape):\n",
        "    self.attn_multi = MultiAttention(self.d_k, self.d_v, self.n_heads)\n",
        "    self.attn_dropout = Dropout(self.dropout_rate)\n",
        "    self.attn_normalize = LayerNormalization(input_shape=input_shape, epsilon=1e-6)\n",
        "\n",
        "    self.ff_conv1D_1 = Conv1D(filters=self.ff_dim, kernel_size=kernel_num, activation='relu', padding=\"same\")\n",
        "    # input_shape[0]=(batch, seq_len, 7), input_shape[0][-1] = 7 \n",
        "    self.ff_conv1D_2 = Conv1D(filters=input_shape[0][-1], kernel_size=kernel_num, padding=\"same\") \n",
        "    self.ff_dropout = Dropout(self.dropout_rate)\n",
        "    self.ff_normalize = LayerNormalization(input_shape=input_shape, epsilon=1e-6)    \n",
        "  \n",
        "  def call(self, inputs): # inputs = (in_seq, in_seq, in_seq)\n",
        "    attn_layer = self.attn_multi(inputs)\n",
        "    attn_layer = self.attn_dropout(attn_layer)\n",
        "    attn_layer = self.attn_normalize(inputs[0] + attn_layer)\n",
        "\n",
        "    ff_layer = self.ff_conv1D_1(attn_layer)\n",
        "    ff_layer = self.ff_conv1D_2(ff_layer)\n",
        "    ff_layer = self.ff_dropout(ff_layer)\n",
        "    ff_layer = self.ff_normalize(inputs[0] + ff_layer)\n",
        "    return ff_layer \n",
        "\n",
        "  def get_config(self): # Needed for saving and loading model with custom layer\n",
        "    config = super().get_config().copy()\n",
        "    config.update({'d_k': self.d_k,\n",
        "                   'd_v': self.d_v,\n",
        "                   'n_heads': self.n_heads,\n",
        "                   'ff_dim': self.ff_dim,\n",
        "                   'attn_heads': self.attn_heads,\n",
        "                   'dropout_rate': self.dropout_rate})\n",
        "    return config"
      ],
      "execution_count": 41,
      "outputs": []
    },
    {
      "cell_type": "markdown",
      "metadata": {
        "id": "cMGDq1kvIe3T"
      },
      "source": [
        "### Putting it all together"
      ]
    },
    {
      "cell_type": "code",
      "metadata": {
        "id": "-aO9P_qWIbBG"
      },
      "source": [
        "\n",
        "def create_model():\n",
        "  '''Initialize time and transformer layers'''\n",
        "  time_embedding = Time2Vector(seq_len)\n",
        "  attn_layer1 = TransformerEncoder(d_k, d_v, n_heads, ff_dim)\n",
        "  attn_layer2 = TransformerEncoder(d_k, d_v, n_heads, ff_dim)\n",
        "  attn_layer3 = TransformerEncoder(d_k, d_v, n_heads, ff_dim)\n",
        "\n",
        "  '''Construct model'''\n",
        "  in_seq = Input(shape=(seq_len, feature_num))   \n",
        "  x = time_embedding(in_seq)\n",
        "  x = Concatenate(axis=-1)([in_seq, x])\n",
        "  x = attn_layer1((x, x, x))\n",
        "  x = attn_layer2((x, x, x))\n",
        "  x = attn_layer3((x, x, x))\n",
        "  x = GlobalAveragePooling1D(data_format='channels_first')(x)\n",
        "  x = Dropout(0.1)(x)\n",
        "  x = Dense(64, activation='relu')(x)\n",
        "  x = Dropout(0.1)(x)\n",
        "  out = Dense(1, activation='linear')(x)\n",
        "\n",
        "  model = Model(inputs=in_seq, outputs=out)\n",
        "  model.compile(loss='mse', optimizer='adam', metrics=['mae', 'mape'])\n",
        "  return model"
      ],
      "execution_count": 42,
      "outputs": []
    },
    {
      "cell_type": "code",
      "metadata": {
        "colab": {
          "base_uri": "https://localhost:8080/"
        },
        "id": "NStgNeEU0VsW",
        "outputId": "510fde57-4d3d-44d4-c7c0-ee03df26107e"
      },
      "source": [
        "from tensorflow.python.client import device_lib\n",
        "print(device_lib.list_local_devices())"
      ],
      "execution_count": 43,
      "outputs": [
        {
          "output_type": "stream",
          "text": [
            "[name: \"/device:CPU:0\"\n",
            "device_type: \"CPU\"\n",
            "memory_limit: 268435456\n",
            "locality {\n",
            "}\n",
            "incarnation: 8265560835284041963\n",
            ", name: \"/device:GPU:0\"\n",
            "device_type: \"GPU\"\n",
            "memory_limit: 15703311680\n",
            "locality {\n",
            "  bus_id: 1\n",
            "  links {\n",
            "  }\n",
            "}\n",
            "incarnation: 10511972476611158257\n",
            "physical_device_desc: \"device: 0, name: Tesla P100-PCIE-16GB, pci bus id: 0000:00:04.0, compute capability: 6.0\"\n",
            "]\n"
          ],
          "name": "stdout"
        }
      ]
    },
    {
      "cell_type": "markdown",
      "metadata": {
        "id": "iFwZAk7rMI45"
      },
      "source": [
        "## Training"
      ]
    },
    {
      "cell_type": "code",
      "metadata": {
        "id": "Zw8S8Q5VLa67"
      },
      "source": [
        "model = create_model()\n",
        "model.summary()\n",
        "\n",
        "callback = tf.keras.callbacks.ModelCheckpoint('Transformer+TimeEmbedding.hdf5', \n",
        "                                              monitor='val_loss', \n",
        "                                              save_best_only=True, verbose=1)\n",
        "\n",
        "history = model.fit(X_train, y_train, \n",
        "                    batch_size=batch_size, \n",
        "                    epochs=15, \n",
        "                    callbacks=[callback],\n",
        "                    validation_data=(X_val, y_val))  \n",
        "\n",
        "model = tf.keras.models.load_model('/content/Transformer+TimeEmbedding.hdf5',\n",
        "                                   custom_objects={'Time2Vector': Time2Vector, \n",
        "                                                   'SingleAttention': SingleAttention,\n",
        "                                                   'MultiAttention': MultiAttention,\n",
        "                                                   'TransformerEncoder': TransformerEncoder})\n",
        "\n"
      ],
      "execution_count": null,
      "outputs": []
    },
    {
      "cell_type": "markdown",
      "metadata": {
        "id": "SqbXI_l1Mtwc"
      },
      "source": [
        "## Predictions"
      ]
    },
    {
      "cell_type": "markdown",
      "metadata": {
        "id": "vPAqXMY6Pgd0"
      },
      "source": [
        "Scores"
      ]
    },
    {
      "cell_type": "code",
      "metadata": {
        "colab": {
          "base_uri": "https://localhost:8080/"
        },
        "id": "ieCWJAH3OXcu",
        "outputId": "95830bb1-ad87-4c74-c5b0-aece013e36aa"
      },
      "source": [
        "#Calculate predication for training, validation and test data\n",
        "train_pred = model.predict(X_train)\n",
        "val_pred = model.predict(X_val)\n",
        "test_pred = model.predict(X_test)\n",
        "\n",
        "#Print evaluation metrics for all datasets\n",
        "train_eval = model.evaluate(X_train, y_train, verbose=0)\n",
        "val_eval = model.evaluate(X_val, y_val, verbose=0)\n",
        "test_eval = model.evaluate(X_test, y_test, verbose=0)\n",
        "print(' ')\n",
        "print('Evaluation metrics')\n",
        "print('Training Data - Loss: {:.4f}, MAE: {:.4f}, MAPE: {:.4f}'.format(train_eval[0], train_eval[1], train_eval[2]))\n",
        "print('Validation Data - Loss: {:.4f}, MAE: {:.4f}, MAPE: {:.4f}'.format(val_eval[0], val_eval[1], val_eval[2]))\n",
        "print('Test Data - Loss: {:.4f}, MAE: {:.4f}, MAPE: {:.4f}'.format(test_eval[0], test_eval[1], test_eval[2]))"
      ],
      "execution_count": 48,
      "outputs": [
        {
          "output_type": "stream",
          "text": [
            " \n",
            "Evaluation metrics\n",
            "Training Data - Loss: 0.0373, MAE: 0.1071, MAPE: 33.3118\n",
            "Validation Data - Loss: 0.1273, MAE: 0.2968, MAPE: 1335.0012\n",
            "Test Data - Loss: 0.8229, MAE: 0.8582, MAPE: 54.0229\n"
          ],
          "name": "stdout"
        }
      ]
    },
    {
      "cell_type": "markdown",
      "metadata": {
        "id": "DA6nkuaePkvj"
      },
      "source": [
        "Plots"
      ]
    },
    {
      "cell_type": "code",
      "metadata": {
        "id": "voavu8K4PjBx"
      },
      "source": [
        "'''Display results'''\n",
        "\n",
        "fig = plt.figure(figsize=(15,20))\n",
        "st = fig.suptitle(\"Transformer + TimeEmbedding Model\", fontsize=22)\n",
        "st.set_y(0.92)\n",
        "\n",
        "#Plot training data results\n",
        "ax11 = fig.add_subplot(311)\n",
        "ax11.plot(train_data[:, closing_index], label='Crypto Closing Returns')\n",
        "ax11.plot(np.arange(seq_len+prediction_date, train_pred.shape[0]+seq_len +prediction_date), train_pred, linewidth=3, label='Predicted Crypto Closing Returns')\n",
        "ax11.set_title(\"Training Data\", fontsize=18)\n",
        "ax11.set_xlabel('Date')\n",
        "ax11.set_ylabel('Crypto Closing Returns')\n",
        "ax11.legend(loc=\"best\", fontsize=12)\n",
        "\n",
        "#Plot validation data results\n",
        "ax21 = fig.add_subplot(312)\n",
        "ax21.plot(val_data[:, closing_index], label='Crypto Closing Returns')\n",
        "ax21.plot(np.arange(seq_len+prediction_date, val_pred.shape[0]+seq_len +prediction_date), val_pred, linewidth=3, label='Predicted Crypto Closing Returns')\n",
        "ax21.set_title(\"Validation Data\", fontsize=18)\n",
        "ax21.set_xlabel('Date')\n",
        "ax21.set_ylabel('Crypto Closing Returns')\n",
        "ax21.legend(loc=\"best\", fontsize=12)\n",
        "\n",
        "#Plot test data results\n",
        "ax31 = fig.add_subplot(313)\n",
        "ax31.plot(test_data[:, closing_index], label='Crypto Closing Returns')\n",
        "ax31.plot(np.arange(seq_len+prediction_date, test_pred.shape[0]+seq_len +prediction_date), test_pred, linewidth=3, label='Predicted Crypto Closing Returns')\n",
        "ax31.set_title(\"Test Data\", fontsize=18)\n",
        "ax31.set_xlabel('Date')\n",
        "ax31.set_ylabel('Crypto Closing Returns')\n",
        "ax31.legend(loc=\"best\", fontsize=12)"
      ],
      "execution_count": null,
      "outputs": []
    }
  ]
}