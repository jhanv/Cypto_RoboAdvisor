{
  "nbformat": 4,
  "nbformat_minor": 0,
  "metadata": {
    "colab": {
      "name": "LSTM_Bitcoin_prediction.ipynb",
      "provenance": [],
      "collapsed_sections": [],
      "include_colab_link": true
    },
    "kernelspec": {
      "name": "python3",
      "display_name": "Python 3"
    },
    "language_info": {
      "name": "python"
    },
    "accelerator": "GPU"
  },
  "cells": [
    {
      "cell_type": "markdown",
      "metadata": {
        "id": "view-in-github",
        "colab_type": "text"
      },
      "source": [
        "<a href=\"https://colab.research.google.com/github/jhanv/Cypto_RoboAdvisor/blob/main/LSTM_Bitcoin_prediction.ipynb\" target=\"_parent\"><img src=\"https://colab.research.google.com/assets/colab-badge.svg\" alt=\"Open In Colab\"/></a>"
      ]
    },
    {
      "cell_type": "markdown",
      "metadata": {
        "id": "-ZVcUb4c8st9"
      },
      "source": [
        "# Cyptocurrency Time Series LSTM"
      ]
    },
    {
      "cell_type": "markdown",
      "metadata": {
        "id": "dMohTysXFlmO"
      },
      "source": [
        "The central goal is to analyse the cryptomarket  and see if a deep learning model can predict the fluctuation of prices in conjunction with sentiment data. To this end, we hope to construct a few models (In this notebook we are exploring with LSTM) of varying complexity to help learn the patterns (if any) and help eliminate some of the uncertainty of this market. We believe that crypto currencies would have a prominent position in the future of finance and this paper would shed light into how people view the currency.  \n",
        "\n"
      ]
    },
    {
      "cell_type": "markdown",
      "metadata": {
        "id": "kzPzMl1p4Z6K"
      },
      "source": [
        "LSTM models are chosen since they are powerful sequence predictions because they are able to store past data. The assumption was that LSTM would be better at extracting the long term patterns that predict the price. "
      ]
    },
    {
      "cell_type": "markdown",
      "metadata": {
        "id": "T01aZjdg4dcT"
      },
      "source": [
        "## Imports"
      ]
    },
    {
      "cell_type": "code",
      "metadata": {
        "id": "2d_lR-IgDOmy",
        "colab": {
          "base_uri": "https://localhost:8080/"
        },
        "outputId": "2cccc855-7b10-423e-ebd5-43052ee5fcfe"
      },
      "source": [
        "from google.colab import drive\n",
        "drive.mount('/content/drive')"
      ],
      "execution_count": 303,
      "outputs": [
        {
          "output_type": "stream",
          "text": [
            "Drive already mounted at /content/drive; to attempt to forcibly remount, call drive.mount(\"/content/drive\", force_remount=True).\n"
          ],
          "name": "stdout"
        }
      ]
    },
    {
      "cell_type": "code",
      "metadata": {
        "id": "p_xNEPENAKYg"
      },
      "source": [
        "# Import\n",
        "import pandas as pd\n",
        "import numpy as np\n",
        "import os, datetime\n",
        "import tensorflow as tf\n",
        "from tensorflow.keras.models import *\n",
        "from tensorflow.keras.layers import *\n",
        "\n",
        "from sklearn import preprocessing\n",
        "\n",
        "import matplotlib.pyplot as plt\n",
        "plt.style.use('seaborn')\n",
        "\n",
        "\n",
        "%matplotlib inline"
      ],
      "execution_count": 304,
      "outputs": []
    },
    {
      "cell_type": "markdown",
      "metadata": {
        "id": "Jbl2Mx4FT-N-"
      },
      "source": [
        "## Hyperparameters"
      ]
    },
    {
      "cell_type": "code",
      "metadata": {
        "id": "MBJ3_LbmT7zS"
      },
      "source": [
        "batch_size = 32\n",
        "seq_len = 30\n",
        "prediction_date = 1\n",
        "\n",
        "feature_num = 5\n",
        "\n",
        "d_k = 64\n",
        "d_v = 64\n",
        "n_heads = 3\n",
        "ff_dim = 64"
      ],
      "execution_count": 305,
      "outputs": []
    },
    {
      "cell_type": "markdown",
      "metadata": {
        "id": "6thCeGcvAVrA"
      },
      "source": [
        "## Loading data\n",
        "\n"
      ]
    },
    {
      "cell_type": "code",
      "metadata": {
        "colab": {
          "base_uri": "https://localhost:8080/",
          "height": 195
        },
        "id": "W31wtGQ-It5c",
        "outputId": "918fb9cd-5c20-4943-9f02-8848445b51a6"
      },
      "source": [
        "cpt_df = pd.read_csv(\"/content/drive/MyDrive/CIS 522 Final Project/Data/Bitstamp_BTCUSD_d.csv\", skiprows=1)\n",
        "# cpt_df = pd.read_csv(\"Bitstamp_BTCUSD_d.csv\", skiprows=1)\n",
        "cpt_df = cpt_df[pd.to_datetime(cpt_df[\"date\"]) < \"2019-10-01\"] # Date selection\n",
        "cpt_df[\"date\"] = pd.to_datetime(cpt_df[\"date\"])\n",
        "cpt_df.head()"
      ],
      "execution_count": 306,
      "outputs": [
        {
          "output_type": "execute_result",
          "data": {
            "text/html": [
              "<div>\n",
              "<style scoped>\n",
              "    .dataframe tbody tr th:only-of-type {\n",
              "        vertical-align: middle;\n",
              "    }\n",
              "\n",
              "    .dataframe tbody tr th {\n",
              "        vertical-align: top;\n",
              "    }\n",
              "\n",
              "    .dataframe thead th {\n",
              "        text-align: right;\n",
              "    }\n",
              "</style>\n",
              "<table border=\"1\" class=\"dataframe\">\n",
              "  <thead>\n",
              "    <tr style=\"text-align: right;\">\n",
              "      <th></th>\n",
              "      <th>unix</th>\n",
              "      <th>date</th>\n",
              "      <th>symbol</th>\n",
              "      <th>open</th>\n",
              "      <th>high</th>\n",
              "      <th>low</th>\n",
              "      <th>close</th>\n",
              "      <th>Volume BTC</th>\n",
              "      <th>Volume USD</th>\n",
              "    </tr>\n",
              "  </thead>\n",
              "  <tbody>\n",
              "    <tr>\n",
              "      <th>579</th>\n",
              "      <td>1569801600</td>\n",
              "      <td>2019-09-30</td>\n",
              "      <td>BTC/USD</td>\n",
              "      <td>8060.13</td>\n",
              "      <td>8368.50</td>\n",
              "      <td>7714.70</td>\n",
              "      <td>8298.45</td>\n",
              "      <td>9518.992108</td>\n",
              "      <td>7.899288e+07</td>\n",
              "    </tr>\n",
              "    <tr>\n",
              "      <th>580</th>\n",
              "      <td>1569715200</td>\n",
              "      <td>2019-09-29</td>\n",
              "      <td>BTC/USD</td>\n",
              "      <td>8218.07</td>\n",
              "      <td>8244.07</td>\n",
              "      <td>7902.66</td>\n",
              "      <td>8047.60</td>\n",
              "      <td>5366.570718</td>\n",
              "      <td>4.318801e+07</td>\n",
              "    </tr>\n",
              "    <tr>\n",
              "      <th>581</th>\n",
              "      <td>1569628800</td>\n",
              "      <td>2019-09-28</td>\n",
              "      <td>BTC/USD</td>\n",
              "      <td>8199.96</td>\n",
              "      <td>8356.40</td>\n",
              "      <td>8009.84</td>\n",
              "      <td>8218.07</td>\n",
              "      <td>6315.489539</td>\n",
              "      <td>5.190114e+07</td>\n",
              "    </tr>\n",
              "    <tr>\n",
              "      <th>582</th>\n",
              "      <td>1569542400</td>\n",
              "      <td>2019-09-27</td>\n",
              "      <td>BTC/USD</td>\n",
              "      <td>8055.25</td>\n",
              "      <td>8294.04</td>\n",
              "      <td>7866.00</td>\n",
              "      <td>8187.72</td>\n",
              "      <td>10165.852937</td>\n",
              "      <td>8.323516e+07</td>\n",
              "    </tr>\n",
              "    <tr>\n",
              "      <th>583</th>\n",
              "      <td>1569456000</td>\n",
              "      <td>2019-09-26</td>\n",
              "      <td>BTC/USD</td>\n",
              "      <td>8443.44</td>\n",
              "      <td>8467.89</td>\n",
              "      <td>7733.99</td>\n",
              "      <td>8055.03</td>\n",
              "      <td>16662.320212</td>\n",
              "      <td>1.342155e+08</td>\n",
              "    </tr>\n",
              "  </tbody>\n",
              "</table>\n",
              "</div>"
            ],
            "text/plain": [
              "           unix       date   symbol  ...    close    Volume BTC    Volume USD\n",
              "579  1569801600 2019-09-30  BTC/USD  ...  8298.45   9518.992108  7.899288e+07\n",
              "580  1569715200 2019-09-29  BTC/USD  ...  8047.60   5366.570718  4.318801e+07\n",
              "581  1569628800 2019-09-28  BTC/USD  ...  8218.07   6315.489539  5.190114e+07\n",
              "582  1569542400 2019-09-27  BTC/USD  ...  8187.72  10165.852937  8.323516e+07\n",
              "583  1569456000 2019-09-26  BTC/USD  ...  8055.03  16662.320212  1.342155e+08\n",
              "\n",
              "[5 rows x 9 columns]"
            ]
          },
          "metadata": {
            "tags": []
          },
          "execution_count": 306
        }
      ]
    },
    {
      "cell_type": "code",
      "metadata": {
        "colab": {
          "base_uri": "https://localhost:8080/",
          "height": 195
        },
        "id": "GGLF2nnJLddG",
        "outputId": "d2eccf42-caca-4a4d-d3aa-4390cc89348c"
      },
      "source": [
        "cpt_full_df = cpt_df[[\"date\", \"open\", \"close\", \"high\", \"low\", \"Volume USD\"]].sort_values(\"date\").reset_index(drop=True)\n",
        "cpt_full_df.columns = [\"date\", \"open\", \"close\", \"high\", \"low\", \"Volume USDT\"]\n",
        "cpt_full_df.head()"
      ],
      "execution_count": 307,
      "outputs": [
        {
          "output_type": "execute_result",
          "data": {
            "text/html": [
              "<div>\n",
              "<style scoped>\n",
              "    .dataframe tbody tr th:only-of-type {\n",
              "        vertical-align: middle;\n",
              "    }\n",
              "\n",
              "    .dataframe tbody tr th {\n",
              "        vertical-align: top;\n",
              "    }\n",
              "\n",
              "    .dataframe thead th {\n",
              "        text-align: right;\n",
              "    }\n",
              "</style>\n",
              "<table border=\"1\" class=\"dataframe\">\n",
              "  <thead>\n",
              "    <tr style=\"text-align: right;\">\n",
              "      <th></th>\n",
              "      <th>date</th>\n",
              "      <th>open</th>\n",
              "      <th>close</th>\n",
              "      <th>high</th>\n",
              "      <th>low</th>\n",
              "      <th>Volume USDT</th>\n",
              "    </tr>\n",
              "  </thead>\n",
              "  <tbody>\n",
              "    <tr>\n",
              "      <th>0</th>\n",
              "      <td>2014-11-28</td>\n",
              "      <td>363.59</td>\n",
              "      <td>376.28</td>\n",
              "      <td>381.34</td>\n",
              "      <td>360.57</td>\n",
              "      <td>8617.15</td>\n",
              "    </tr>\n",
              "    <tr>\n",
              "      <th>1</th>\n",
              "      <td>2014-11-29</td>\n",
              "      <td>376.42</td>\n",
              "      <td>376.72</td>\n",
              "      <td>386.60</td>\n",
              "      <td>372.25</td>\n",
              "      <td>7245.19</td>\n",
              "    </tr>\n",
              "    <tr>\n",
              "      <th>2</th>\n",
              "      <td>2014-11-30</td>\n",
              "      <td>376.57</td>\n",
              "      <td>373.34</td>\n",
              "      <td>381.99</td>\n",
              "      <td>373.32</td>\n",
              "      <td>3046.33</td>\n",
              "    </tr>\n",
              "    <tr>\n",
              "      <th>3</th>\n",
              "      <td>2014-12-01</td>\n",
              "      <td>376.40</td>\n",
              "      <td>378.39</td>\n",
              "      <td>382.31</td>\n",
              "      <td>373.03</td>\n",
              "      <td>6660.56</td>\n",
              "    </tr>\n",
              "    <tr>\n",
              "      <th>4</th>\n",
              "      <td>2014-12-02</td>\n",
              "      <td>378.39</td>\n",
              "      <td>379.25</td>\n",
              "      <td>382.86</td>\n",
              "      <td>375.23</td>\n",
              "      <td>6832.53</td>\n",
              "    </tr>\n",
              "  </tbody>\n",
              "</table>\n",
              "</div>"
            ],
            "text/plain": [
              "        date    open   close    high     low  Volume USDT\n",
              "0 2014-11-28  363.59  376.28  381.34  360.57      8617.15\n",
              "1 2014-11-29  376.42  376.72  386.60  372.25      7245.19\n",
              "2 2014-11-30  376.57  373.34  381.99  373.32      3046.33\n",
              "3 2014-12-01  376.40  378.39  382.31  373.03      6660.56\n",
              "4 2014-12-02  378.39  379.25  382.86  375.23      6832.53"
            ]
          },
          "metadata": {
            "tags": []
          },
          "execution_count": 307
        }
      ]
    },
    {
      "cell_type": "markdown",
      "metadata": {
        "id": "TJeMnbHuTu-S"
      },
      "source": [
        "## Plotting (Without normalizations)"
      ]
    },
    {
      "cell_type": "code",
      "metadata": {
        "colab": {
          "base_uri": "https://localhost:8080/",
          "height": 637
        },
        "id": "02VlENIJQSeQ",
        "outputId": "c7dde133-f4fa-46aa-d855-fd83a06eb5ce"
      },
      "source": [
        "fig = plt.figure(figsize=(15,10))\n",
        "st = fig.suptitle(\"Crypto Close Price and Volume\", fontsize=20)\n",
        "st.set_y(0.92)\n",
        "\n",
        "ax1 = fig.add_subplot(211)\n",
        "ax1.plot(cpt_full_df['close'], label='crypto Close Price')\n",
        "ax1.set_xticks(range(0, cpt_full_df.shape[0], 200))\n",
        "ax1.set_xticklabels(cpt_full_df['date'].loc[::200])\n",
        "ax1.set_ylabel('Close Price', fontsize=18)\n",
        "ax1.legend(loc=\"upper left\", fontsize=12)\n",
        "\n",
        "ax2 = fig.add_subplot(212)\n",
        "ax2.plot(cpt_full_df['Volume USDT'], label='Crypto Volume')\n",
        "ax2.set_xticks(range(0, cpt_full_df.shape[0], 200))\n",
        "ax2.set_xticklabels(cpt_full_df['date'].loc[::200])\n",
        "ax2.set_ylabel('Volume USDT', fontsize=18)\n",
        "ax2.legend(loc=\"upper left\", fontsize=12)"
      ],
      "execution_count": 308,
      "outputs": [
        {
          "output_type": "execute_result",
          "data": {
            "text/plain": [
              "<matplotlib.legend.Legend at 0x7f4f80da56d0>"
            ]
          },
          "metadata": {
            "tags": []
          },
          "execution_count": 308
        },
        {
          "output_type": "display_data",
          "data": {
            "image/png": "[encoded data removed]",
            "text/plain": [
              "<Figure size 1080x720 with 2 Axes>"
            ]
          },
          "metadata": {
            "tags": [],
            "needs_background": "light"
          }
        }
      ]
    },
    {
      "cell_type": "markdown",
      "metadata": {
        "id": "-TvhmMjhGy7k"
      },
      "source": [
        "## NLP data"
      ]
    },
    {
      "cell_type": "markdown",
      "metadata": {
        "id": "fotaXqi_G7Qn"
      },
      "source": [
        "### Reddit data"
      ]
    },
    {
      "cell_type": "code",
      "metadata": {
        "id": "wGcUowQaG_ap"
      },
      "source": [
        "reddit_df = pd.read_csv(\"/content/drive/MyDrive/CIS 522 Final Project/Data/reddit_data.csv\", header=None)\n",
        "# reddit_df = pd.read_csv(\"output.csv\", header=None)\n",
        "reddit_df.columns = ['row', 'date', 'reddit_sentiment_label', 'reddit_sentiment_score', 'reddit_likes']\n",
        "reddit_df[\"date\"] = pd.to_datetime(reddit_df[\"date\"])"
      ],
      "execution_count": 309,
      "outputs": []
    },
    {
      "cell_type": "code",
      "metadata": {
        "id": "9Z1GsQpZI91U"
      },
      "source": [
        "reddit_df[\"const\"] = 1\n",
        "reddit_df[\"weighted_score\"] = reddit_df[\"reddit_sentiment_label\"] * reddit_df[\"reddit_sentiment_score\"] *\\\n",
        "reddit_df[\"reddit_likes\"]"
      ],
      "execution_count": 310,
      "outputs": []
    },
    {
      "cell_type": "code",
      "metadata": {
        "colab": {
          "base_uri": "https://localhost:8080/",
          "height": 402
        },
        "id": "4fOwi0F6KgjM",
        "outputId": "a0969e92-be3e-46f4-9d2a-6d902867272d"
      },
      "source": [
        "reddit_grp_df = reddit_df.groupby(\"date\").agg({\"weighted_score\": np.mean, \"const\": np.sum, \"reddit_likes\":np.sum})\n",
        "reddit_grp_df = reddit_grp_df.reset_index()\n",
        "reddit_grp_df[\"date\"] = pd.to_datetime(reddit_grp_df[\"date\"])\n",
        "reddit_grp_df.columns = [\"date\", \"reddit_weighted_score\", \"reddit_posts\", \"reddit_likes_total\"]\n",
        "reddit_grp_df"
      ],
      "execution_count": 311,
      "outputs": [
        {
          "output_type": "execute_result",
          "data": {
            "text/html": [
              "<div>\n",
              "<style scoped>\n",
              "    .dataframe tbody tr th:only-of-type {\n",
              "        vertical-align: middle;\n",
              "    }\n",
              "\n",
              "    .dataframe tbody tr th {\n",
              "        vertical-align: top;\n",
              "    }\n",
              "\n",
              "    .dataframe thead th {\n",
              "        text-align: right;\n",
              "    }\n",
              "</style>\n",
              "<table border=\"1\" class=\"dataframe\">\n",
              "  <thead>\n",
              "    <tr style=\"text-align: right;\">\n",
              "      <th></th>\n",
              "      <th>date</th>\n",
              "      <th>reddit_weighted_score</th>\n",
              "      <th>reddit_posts</th>\n",
              "      <th>reddit_likes_total</th>\n",
              "    </tr>\n",
              "  </thead>\n",
              "  <tbody>\n",
              "    <tr>\n",
              "      <th>0</th>\n",
              "      <td>2009-05-08</td>\n",
              "      <td>-0.000278</td>\n",
              "      <td>4</td>\n",
              "      <td>2.0</td>\n",
              "    </tr>\n",
              "    <tr>\n",
              "      <th>1</th>\n",
              "      <td>2009-07-18</td>\n",
              "      <td>0.000000</td>\n",
              "      <td>1</td>\n",
              "      <td>0.0</td>\n",
              "    </tr>\n",
              "    <tr>\n",
              "      <th>2</th>\n",
              "      <td>2009-09-24</td>\n",
              "      <td>-0.986288</td>\n",
              "      <td>2</td>\n",
              "      <td>2.0</td>\n",
              "    </tr>\n",
              "    <tr>\n",
              "      <th>3</th>\n",
              "      <td>2009-12-31</td>\n",
              "      <td>-0.999489</td>\n",
              "      <td>1</td>\n",
              "      <td>1.0</td>\n",
              "    </tr>\n",
              "    <tr>\n",
              "      <th>4</th>\n",
              "      <td>2010-03-28</td>\n",
              "      <td>-1.944747</td>\n",
              "      <td>1</td>\n",
              "      <td>2.0</td>\n",
              "    </tr>\n",
              "    <tr>\n",
              "      <th>...</th>\n",
              "      <td>...</td>\n",
              "      <td>...</td>\n",
              "      <td>...</td>\n",
              "      <td>...</td>\n",
              "    </tr>\n",
              "    <tr>\n",
              "      <th>3303</th>\n",
              "      <td>2019-12-27</td>\n",
              "      <td>-2.773279</td>\n",
              "      <td>873</td>\n",
              "      <td>3113.0</td>\n",
              "    </tr>\n",
              "    <tr>\n",
              "      <th>3304</th>\n",
              "      <td>2019-12-28</td>\n",
              "      <td>-3.787780</td>\n",
              "      <td>763</td>\n",
              "      <td>3530.0</td>\n",
              "    </tr>\n",
              "    <tr>\n",
              "      <th>3305</th>\n",
              "      <td>2019-12-29</td>\n",
              "      <td>-3.141962</td>\n",
              "      <td>866</td>\n",
              "      <td>3440.0</td>\n",
              "    </tr>\n",
              "    <tr>\n",
              "      <th>3306</th>\n",
              "      <td>2019-12-30</td>\n",
              "      <td>-4.134217</td>\n",
              "      <td>1017</td>\n",
              "      <td>5217.0</td>\n",
              "    </tr>\n",
              "    <tr>\n",
              "      <th>3307</th>\n",
              "      <td>2019-12-31</td>\n",
              "      <td>-2.702515</td>\n",
              "      <td>953</td>\n",
              "      <td>3229.0</td>\n",
              "    </tr>\n",
              "  </tbody>\n",
              "</table>\n",
              "<p>3308 rows × 4 columns</p>\n",
              "</div>"
            ],
            "text/plain": [
              "           date  reddit_weighted_score  reddit_posts  reddit_likes_total\n",
              "0    2009-05-08              -0.000278             4                 2.0\n",
              "1    2009-07-18               0.000000             1                 0.0\n",
              "2    2009-09-24              -0.986288             2                 2.0\n",
              "3    2009-12-31              -0.999489             1                 1.0\n",
              "4    2010-03-28              -1.944747             1                 2.0\n",
              "...         ...                    ...           ...                 ...\n",
              "3303 2019-12-27              -2.773279           873              3113.0\n",
              "3304 2019-12-28              -3.787780           763              3530.0\n",
              "3305 2019-12-29              -3.141962           866              3440.0\n",
              "3306 2019-12-30              -4.134217          1017              5217.0\n",
              "3307 2019-12-31              -2.702515           953              3229.0\n",
              "\n",
              "[3308 rows x 4 columns]"
            ]
          },
          "metadata": {
            "tags": []
          },
          "execution_count": 311
        }
      ]
    },
    {
      "cell_type": "code",
      "metadata": {
        "colab": {
          "base_uri": "https://localhost:8080/",
          "height": 195
        },
        "id": "73R0F3VJOw50",
        "outputId": "0eec7b99-7cea-483a-ff01-5a90251e5c37"
      },
      "source": [
        "cpt_full_df = cpt_full_df.merge(reddit_grp_df, how=\"left\", left_on=\"date\", right_on=\"date\")\n",
        "cpt_full_df.head()"
      ],
      "execution_count": 312,
      "outputs": [
        {
          "output_type": "execute_result",
          "data": {
            "text/html": [
              "<div>\n",
              "<style scoped>\n",
              "    .dataframe tbody tr th:only-of-type {\n",
              "        vertical-align: middle;\n",
              "    }\n",
              "\n",
              "    .dataframe tbody tr th {\n",
              "        vertical-align: top;\n",
              "    }\n",
              "\n",
              "    .dataframe thead th {\n",
              "        text-align: right;\n",
              "    }\n",
              "</style>\n",
              "<table border=\"1\" class=\"dataframe\">\n",
              "  <thead>\n",
              "    <tr style=\"text-align: right;\">\n",
              "      <th></th>\n",
              "      <th>date</th>\n",
              "      <th>open</th>\n",
              "      <th>close</th>\n",
              "      <th>high</th>\n",
              "      <th>low</th>\n",
              "      <th>Volume USDT</th>\n",
              "      <th>reddit_weighted_score</th>\n",
              "      <th>reddit_posts</th>\n",
              "      <th>reddit_likes_total</th>\n",
              "    </tr>\n",
              "  </thead>\n",
              "  <tbody>\n",
              "    <tr>\n",
              "      <th>0</th>\n",
              "      <td>2014-11-28</td>\n",
              "      <td>363.59</td>\n",
              "      <td>376.28</td>\n",
              "      <td>381.34</td>\n",
              "      <td>360.57</td>\n",
              "      <td>8617.15</td>\n",
              "      <td>-3.285267</td>\n",
              "      <td>1202</td>\n",
              "      <td>5356.0</td>\n",
              "    </tr>\n",
              "    <tr>\n",
              "      <th>1</th>\n",
              "      <td>2014-11-29</td>\n",
              "      <td>376.42</td>\n",
              "      <td>376.72</td>\n",
              "      <td>386.60</td>\n",
              "      <td>372.25</td>\n",
              "      <td>7245.19</td>\n",
              "      <td>-1.696123</td>\n",
              "      <td>1076</td>\n",
              "      <td>2577.0</td>\n",
              "    </tr>\n",
              "    <tr>\n",
              "      <th>2</th>\n",
              "      <td>2014-11-30</td>\n",
              "      <td>376.57</td>\n",
              "      <td>373.34</td>\n",
              "      <td>381.99</td>\n",
              "      <td>373.32</td>\n",
              "      <td>3046.33</td>\n",
              "      <td>-2.324880</td>\n",
              "      <td>1005</td>\n",
              "      <td>3141.0</td>\n",
              "    </tr>\n",
              "    <tr>\n",
              "      <th>3</th>\n",
              "      <td>2014-12-01</td>\n",
              "      <td>376.40</td>\n",
              "      <td>378.39</td>\n",
              "      <td>382.31</td>\n",
              "      <td>373.03</td>\n",
              "      <td>6660.56</td>\n",
              "      <td>-2.131355</td>\n",
              "      <td>1287</td>\n",
              "      <td>3599.0</td>\n",
              "    </tr>\n",
              "    <tr>\n",
              "      <th>4</th>\n",
              "      <td>2014-12-02</td>\n",
              "      <td>378.39</td>\n",
              "      <td>379.25</td>\n",
              "      <td>382.86</td>\n",
              "      <td>375.23</td>\n",
              "      <td>6832.53</td>\n",
              "      <td>-1.606622</td>\n",
              "      <td>1447</td>\n",
              "      <td>4560.0</td>\n",
              "    </tr>\n",
              "  </tbody>\n",
              "</table>\n",
              "</div>"
            ],
            "text/plain": [
              "        date    open  ...  reddit_posts  reddit_likes_total\n",
              "0 2014-11-28  363.59  ...          1202              5356.0\n",
              "1 2014-11-29  376.42  ...          1076              2577.0\n",
              "2 2014-11-30  376.57  ...          1005              3141.0\n",
              "3 2014-12-01  376.40  ...          1287              3599.0\n",
              "4 2014-12-02  378.39  ...          1447              4560.0\n",
              "\n",
              "[5 rows x 9 columns]"
            ]
          },
          "metadata": {
            "tags": []
          },
          "execution_count": 312
        }
      ]
    },
    {
      "cell_type": "code",
      "metadata": {
        "colab": {
          "base_uri": "https://localhost:8080/",
          "height": 283
        },
        "id": "zyXmjVQWnEsq",
        "outputId": "1b56d7ce-06e6-4ac6-fdb7-073eaf8d6aa2"
      },
      "source": [
        "plt.plot(cpt_full_df[\"reddit_weighted_score\"])"
      ],
      "execution_count": 313,
      "outputs": [
        {
          "output_type": "execute_result",
          "data": {
            "text/plain": [
              "[<matplotlib.lines.Line2D at 0x7f4f80d2b990>]"
            ]
          },
          "metadata": {
            "tags": []
          },
          "execution_count": 313
        },
        {
          "output_type": "display_data",
          "data": {
            "image/png": "[encoded data removed]",
            "text/plain": [
              "<Figure size 432x288 with 1 Axes>"
            ]
          },
          "metadata": {
            "tags": [],
            "needs_background": "light"
          }
        }
      ]
    },
    {
      "cell_type": "markdown",
      "metadata": {
        "id": "VI6WHq7tYhLQ"
      },
      "source": [
        "### Google Trends"
      ]
    },
    {
      "cell_type": "code",
      "metadata": {
        "colab": {
          "base_uri": "https://localhost:8080/",
          "height": 195
        },
        "id": "LdJXMfgEdnji",
        "outputId": "77831bfb-5cd8-425e-b9b0-f949e55f4018"
      },
      "source": [
        "google_df = pd.read_csv(\"/content/drive/MyDrive/CIS 522 Final Project/Data/goole_trends_bitcoin.csv\")\n",
        "google_df[\"date\"] = pd.to_datetime(google_df[\"date\"])\n",
        "google_df.head()"
      ],
      "execution_count": 314,
      "outputs": [
        {
          "output_type": "execute_result",
          "data": {
            "text/html": [
              "<div>\n",
              "<style scoped>\n",
              "    .dataframe tbody tr th:only-of-type {\n",
              "        vertical-align: middle;\n",
              "    }\n",
              "\n",
              "    .dataframe tbody tr th {\n",
              "        vertical-align: top;\n",
              "    }\n",
              "\n",
              "    .dataframe thead th {\n",
              "        text-align: right;\n",
              "    }\n",
              "</style>\n",
              "<table border=\"1\" class=\"dataframe\">\n",
              "  <thead>\n",
              "    <tr style=\"text-align: right;\">\n",
              "      <th></th>\n",
              "      <th>date</th>\n",
              "      <th>bitcoin_unscaled</th>\n",
              "      <th>bitcoin_monthly</th>\n",
              "      <th>isPartial</th>\n",
              "      <th>scale</th>\n",
              "      <th>bitcoin</th>\n",
              "    </tr>\n",
              "  </thead>\n",
              "  <tbody>\n",
              "    <tr>\n",
              "      <th>0</th>\n",
              "      <td>2014-01-01</td>\n",
              "      <td>47</td>\n",
              "      <td>8.0</td>\n",
              "      <td>False</td>\n",
              "      <td>0.08</td>\n",
              "      <td>3.76</td>\n",
              "    </tr>\n",
              "    <tr>\n",
              "      <th>1</th>\n",
              "      <td>2014-01-02</td>\n",
              "      <td>52</td>\n",
              "      <td>8.0</td>\n",
              "      <td>NaN</td>\n",
              "      <td>0.08</td>\n",
              "      <td>4.16</td>\n",
              "    </tr>\n",
              "    <tr>\n",
              "      <th>2</th>\n",
              "      <td>2014-01-03</td>\n",
              "      <td>50</td>\n",
              "      <td>8.0</td>\n",
              "      <td>NaN</td>\n",
              "      <td>0.08</td>\n",
              "      <td>4.00</td>\n",
              "    </tr>\n",
              "    <tr>\n",
              "      <th>3</th>\n",
              "      <td>2014-01-04</td>\n",
              "      <td>44</td>\n",
              "      <td>8.0</td>\n",
              "      <td>NaN</td>\n",
              "      <td>0.08</td>\n",
              "      <td>3.52</td>\n",
              "    </tr>\n",
              "    <tr>\n",
              "      <th>4</th>\n",
              "      <td>2014-01-05</td>\n",
              "      <td>50</td>\n",
              "      <td>8.0</td>\n",
              "      <td>NaN</td>\n",
              "      <td>0.08</td>\n",
              "      <td>4.00</td>\n",
              "    </tr>\n",
              "  </tbody>\n",
              "</table>\n",
              "</div>"
            ],
            "text/plain": [
              "        date  bitcoin_unscaled  bitcoin_monthly isPartial  scale  bitcoin\n",
              "0 2014-01-01                47              8.0     False   0.08     3.76\n",
              "1 2014-01-02                52              8.0       NaN   0.08     4.16\n",
              "2 2014-01-03                50              8.0       NaN   0.08     4.00\n",
              "3 2014-01-04                44              8.0       NaN   0.08     3.52\n",
              "4 2014-01-05                50              8.0       NaN   0.08     4.00"
            ]
          },
          "metadata": {
            "tags": []
          },
          "execution_count": 314
        }
      ]
    },
    {
      "cell_type": "code",
      "metadata": {
        "colab": {
          "base_uri": "https://localhost:8080/",
          "height": 195
        },
        "id": "-prgXL9Rgo3N",
        "outputId": "55f990b1-3892-4082-f323-1343897d6d7d"
      },
      "source": [
        "google_req_df = google_df[[\"date\", \"bitcoin\"]]\n",
        "google_req_df.columns = [\"date\", \"google_trends\"] \n",
        "google_req_df.head()"
      ],
      "execution_count": 315,
      "outputs": [
        {
          "output_type": "execute_result",
          "data": {
            "text/html": [
              "<div>\n",
              "<style scoped>\n",
              "    .dataframe tbody tr th:only-of-type {\n",
              "        vertical-align: middle;\n",
              "    }\n",
              "\n",
              "    .dataframe tbody tr th {\n",
              "        vertical-align: top;\n",
              "    }\n",
              "\n",
              "    .dataframe thead th {\n",
              "        text-align: right;\n",
              "    }\n",
              "</style>\n",
              "<table border=\"1\" class=\"dataframe\">\n",
              "  <thead>\n",
              "    <tr style=\"text-align: right;\">\n",
              "      <th></th>\n",
              "      <th>date</th>\n",
              "      <th>google_trends</th>\n",
              "    </tr>\n",
              "  </thead>\n",
              "  <tbody>\n",
              "    <tr>\n",
              "      <th>0</th>\n",
              "      <td>2014-01-01</td>\n",
              "      <td>3.76</td>\n",
              "    </tr>\n",
              "    <tr>\n",
              "      <th>1</th>\n",
              "      <td>2014-01-02</td>\n",
              "      <td>4.16</td>\n",
              "    </tr>\n",
              "    <tr>\n",
              "      <th>2</th>\n",
              "      <td>2014-01-03</td>\n",
              "      <td>4.00</td>\n",
              "    </tr>\n",
              "    <tr>\n",
              "      <th>3</th>\n",
              "      <td>2014-01-04</td>\n",
              "      <td>3.52</td>\n",
              "    </tr>\n",
              "    <tr>\n",
              "      <th>4</th>\n",
              "      <td>2014-01-05</td>\n",
              "      <td>4.00</td>\n",
              "    </tr>\n",
              "  </tbody>\n",
              "</table>\n",
              "</div>"
            ],
            "text/plain": [
              "        date  google_trends\n",
              "0 2014-01-01           3.76\n",
              "1 2014-01-02           4.16\n",
              "2 2014-01-03           4.00\n",
              "3 2014-01-04           3.52\n",
              "4 2014-01-05           4.00"
            ]
          },
          "metadata": {
            "tags": []
          },
          "execution_count": 315
        }
      ]
    },
    {
      "cell_type": "code",
      "metadata": {
        "colab": {
          "base_uri": "https://localhost:8080/",
          "height": 195
        },
        "id": "mJkIICD0hhRc",
        "outputId": "b7b08f65-37d1-42ea-849d-d5bebcf4783a"
      },
      "source": [
        "# Merging\n",
        "cpt_full_df = cpt_full_df.merge(google_req_df, how=\"left\", left_on=\"date\", right_on=\"date\")\n",
        "cpt_full_df.head()"
      ],
      "execution_count": 316,
      "outputs": [
        {
          "output_type": "execute_result",
          "data": {
            "text/html": [
              "<div>\n",
              "<style scoped>\n",
              "    .dataframe tbody tr th:only-of-type {\n",
              "        vertical-align: middle;\n",
              "    }\n",
              "\n",
              "    .dataframe tbody tr th {\n",
              "        vertical-align: top;\n",
              "    }\n",
              "\n",
              "    .dataframe thead th {\n",
              "        text-align: right;\n",
              "    }\n",
              "</style>\n",
              "<table border=\"1\" class=\"dataframe\">\n",
              "  <thead>\n",
              "    <tr style=\"text-align: right;\">\n",
              "      <th></th>\n",
              "      <th>date</th>\n",
              "      <th>open</th>\n",
              "      <th>close</th>\n",
              "      <th>high</th>\n",
              "      <th>low</th>\n",
              "      <th>Volume USDT</th>\n",
              "      <th>reddit_weighted_score</th>\n",
              "      <th>reddit_posts</th>\n",
              "      <th>reddit_likes_total</th>\n",
              "      <th>google_trends</th>\n",
              "    </tr>\n",
              "  </thead>\n",
              "  <tbody>\n",
              "    <tr>\n",
              "      <th>0</th>\n",
              "      <td>2014-11-28</td>\n",
              "      <td>363.59</td>\n",
              "      <td>376.28</td>\n",
              "      <td>381.34</td>\n",
              "      <td>360.57</td>\n",
              "      <td>8617.15</td>\n",
              "      <td>-3.285267</td>\n",
              "      <td>1202</td>\n",
              "      <td>5356.0</td>\n",
              "      <td>1.89</td>\n",
              "    </tr>\n",
              "    <tr>\n",
              "      <th>1</th>\n",
              "      <td>2014-11-29</td>\n",
              "      <td>376.42</td>\n",
              "      <td>376.72</td>\n",
              "      <td>386.60</td>\n",
              "      <td>372.25</td>\n",
              "      <td>7245.19</td>\n",
              "      <td>-1.696123</td>\n",
              "      <td>1076</td>\n",
              "      <td>2577.0</td>\n",
              "      <td>1.89</td>\n",
              "    </tr>\n",
              "    <tr>\n",
              "      <th>2</th>\n",
              "      <td>2014-11-30</td>\n",
              "      <td>376.57</td>\n",
              "      <td>373.34</td>\n",
              "      <td>381.99</td>\n",
              "      <td>373.32</td>\n",
              "      <td>3046.33</td>\n",
              "      <td>-2.324880</td>\n",
              "      <td>1005</td>\n",
              "      <td>3141.0</td>\n",
              "      <td>1.44</td>\n",
              "    </tr>\n",
              "    <tr>\n",
              "      <th>3</th>\n",
              "      <td>2014-12-01</td>\n",
              "      <td>376.40</td>\n",
              "      <td>378.39</td>\n",
              "      <td>382.31</td>\n",
              "      <td>373.03</td>\n",
              "      <td>6660.56</td>\n",
              "      <td>-2.131355</td>\n",
              "      <td>1287</td>\n",
              "      <td>3599.0</td>\n",
              "      <td>0.63</td>\n",
              "    </tr>\n",
              "    <tr>\n",
              "      <th>4</th>\n",
              "      <td>2014-12-02</td>\n",
              "      <td>378.39</td>\n",
              "      <td>379.25</td>\n",
              "      <td>382.86</td>\n",
              "      <td>375.23</td>\n",
              "      <td>6832.53</td>\n",
              "      <td>-1.606622</td>\n",
              "      <td>1447</td>\n",
              "      <td>4560.0</td>\n",
              "      <td>0.63</td>\n",
              "    </tr>\n",
              "  </tbody>\n",
              "</table>\n",
              "</div>"
            ],
            "text/plain": [
              "        date    open   close  ...  reddit_posts  reddit_likes_total  google_trends\n",
              "0 2014-11-28  363.59  376.28  ...          1202              5356.0           1.89\n",
              "1 2014-11-29  376.42  376.72  ...          1076              2577.0           1.89\n",
              "2 2014-11-30  376.57  373.34  ...          1005              3141.0           1.44\n",
              "3 2014-12-01  376.40  378.39  ...          1287              3599.0           0.63\n",
              "4 2014-12-02  378.39  379.25  ...          1447              4560.0           0.63\n",
              "\n",
              "[5 rows x 10 columns]"
            ]
          },
          "metadata": {
            "tags": []
          },
          "execution_count": 316
        }
      ]
    },
    {
      "cell_type": "code",
      "metadata": {
        "colab": {
          "base_uri": "https://localhost:8080/",
          "height": 282
        },
        "id": "sVNzGhA4lwmz",
        "outputId": "746ffa9a-c012-48f0-d5f2-9904d758e2ec"
      },
      "source": [
        "plt.plot(cpt_full_df[\"google_trends\"])"
      ],
      "execution_count": 317,
      "outputs": [
        {
          "output_type": "execute_result",
          "data": {
            "text/plain": [
              "[<matplotlib.lines.Line2D at 0x7f4f80c20050>]"
            ]
          },
          "metadata": {
            "tags": []
          },
          "execution_count": 317
        },
        {
          "output_type": "display_data",
          "data": {
            "image/png": "[encoded data removed]",
            "text/plain": [
              "<Figure size 432x288 with 1 Axes>"
            ]
          },
          "metadata": {
            "tags": [],
            "needs_background": "light"
          }
        }
      ]
    },
    {
      "cell_type": "code",
      "metadata": {
        "id": "ZqC_d8wnYtm6"
      },
      "source": [
        "# from pytrends import dailydata as dd\n",
        "\n",
        "# df_daily_bitcoin = dd.get_daily_data(\"bitcoin\",2014,1,2020,3,\"US\",True)\n",
        "# df_daily_bitcoin.head(50)"
      ],
      "execution_count": 318,
      "outputs": []
    },
    {
      "cell_type": "markdown",
      "metadata": {
        "id": "Ln228oDacI7I"
      },
      "source": [
        "### Twitter counts"
      ]
    },
    {
      "cell_type": "code",
      "metadata": {
        "id": "zKRwgeKzmZt_"
      },
      "source": [
        "# twitter_df = pd.read_csv(\"/content/drive/MyDrive/CIS 522 Final Project/Data/twitter_data.csv\")\n",
        "# twitter_df.head()"
      ],
      "execution_count": 319,
      "outputs": []
    },
    {
      "cell_type": "code",
      "metadata": {
        "colab": {
          "base_uri": "https://localhost:8080/",
          "height": 195
        },
        "id": "jiTO3KxKc1VW",
        "outputId": "28c921a3-4ffd-4f28-8fc2-4e20c06ff067"
      },
      "source": [
        "twitter_df = pd.read_csv(\"/content/drive/MyDrive/CIS 522 Final Project/Data/bitcoin_daily_tweet_count.csv\").T.reset_index()\n",
        "twitter_df = twitter_df.loc[1:,:]\n",
        "twitter_df.columns = [\"date\", \"twitter_posts\"]\n",
        "twitter_df[\"twitter_posts\"] = twitter_df[\"twitter_posts\"].astype(float)\n",
        "twitter_df[\"date\"] = pd.to_datetime(twitter_df[\"date\"])\n",
        "twitter_df.head()"
      ],
      "execution_count": 320,
      "outputs": [
        {
          "output_type": "execute_result",
          "data": {
            "text/html": [
              "<div>\n",
              "<style scoped>\n",
              "    .dataframe tbody tr th:only-of-type {\n",
              "        vertical-align: middle;\n",
              "    }\n",
              "\n",
              "    .dataframe tbody tr th {\n",
              "        vertical-align: top;\n",
              "    }\n",
              "\n",
              "    .dataframe thead th {\n",
              "        text-align: right;\n",
              "    }\n",
              "</style>\n",
              "<table border=\"1\" class=\"dataframe\">\n",
              "  <thead>\n",
              "    <tr style=\"text-align: right;\">\n",
              "      <th></th>\n",
              "      <th>date</th>\n",
              "      <th>twitter_posts</th>\n",
              "    </tr>\n",
              "  </thead>\n",
              "  <tbody>\n",
              "    <tr>\n",
              "      <th>1</th>\n",
              "      <td>2014-04-09</td>\n",
              "      <td>8193.0</td>\n",
              "    </tr>\n",
              "    <tr>\n",
              "      <th>2</th>\n",
              "      <td>2014-04-10</td>\n",
              "      <td>15039.0</td>\n",
              "    </tr>\n",
              "    <tr>\n",
              "      <th>3</th>\n",
              "      <td>2014-04-11</td>\n",
              "      <td>14907.0</td>\n",
              "    </tr>\n",
              "    <tr>\n",
              "      <th>4</th>\n",
              "      <td>2014-04-12</td>\n",
              "      <td>7582.0</td>\n",
              "    </tr>\n",
              "    <tr>\n",
              "      <th>5</th>\n",
              "      <td>2014-04-13</td>\n",
              "      <td>10674.0</td>\n",
              "    </tr>\n",
              "  </tbody>\n",
              "</table>\n",
              "</div>"
            ],
            "text/plain": [
              "        date  twitter_posts\n",
              "1 2014-04-09         8193.0\n",
              "2 2014-04-10        15039.0\n",
              "3 2014-04-11        14907.0\n",
              "4 2014-04-12         7582.0\n",
              "5 2014-04-13        10674.0"
            ]
          },
          "metadata": {
            "tags": []
          },
          "execution_count": 320
        }
      ]
    },
    {
      "cell_type": "code",
      "metadata": {
        "colab": {
          "base_uri": "https://localhost:8080/",
          "height": 282
        },
        "id": "_ngWGsb8qYlo",
        "outputId": "ad7861cc-217e-42dd-bd1e-71b7ccca72f4"
      },
      "source": [
        "# Filling nans\n",
        "# plt.plot(twitter_df[\"twitter_posts\"].interpolate(model=\"time\"))\n",
        "plt.plot(twitter_df[\"twitter_posts\"])\n"
      ],
      "execution_count": 321,
      "outputs": [
        {
          "output_type": "execute_result",
          "data": {
            "text/plain": [
              "[<matplotlib.lines.Line2D at 0x7f4f80ceca50>]"
            ]
          },
          "metadata": {
            "tags": []
          },
          "execution_count": 321
        },
        {
          "output_type": "display_data",
          "data": {
            "image/png": "[encoded data removed]",
            "text/plain": [
              "<Figure size 432x288 with 1 Axes>"
            ]
          },
          "metadata": {
            "tags": [],
            "needs_background": "light"
          }
        }
      ]
    },
    {
      "cell_type": "code",
      "metadata": {
        "colab": {
          "base_uri": "https://localhost:8080/",
          "height": 282
        },
        "id": "rgxfWn-jxSy6",
        "outputId": "6d46a933-f84b-4e4f-e88e-6a15937ba592"
      },
      "source": [
        "plt.plot(twitter_df[\"twitter_posts\"].interpolate(model=\"piecewise_polynomial\"))"
      ],
      "execution_count": 322,
      "outputs": [
        {
          "output_type": "execute_result",
          "data": {
            "text/plain": [
              "[<matplotlib.lines.Line2D at 0x7f4f80bda050>]"
            ]
          },
          "metadata": {
            "tags": []
          },
          "execution_count": 322
        },
        {
          "output_type": "display_data",
          "data": {
            "image/png": "[encoded data removed]",
            "text/plain": [
              "<Figure size 432x288 with 1 Axes>"
            ]
          },
          "metadata": {
            "tags": [],
            "needs_background": "light"
          }
        }
      ]
    },
    {
      "cell_type": "code",
      "metadata": {
        "id": "rb8OlBHfxt25"
      },
      "source": [
        "twitter_df[\"twitter_posts\"] = twitter_df[\"twitter_posts\"].interpolate(model=\"piecewise_polynomial\")"
      ],
      "execution_count": 323,
      "outputs": []
    },
    {
      "cell_type": "code",
      "metadata": {
        "colab": {
          "base_uri": "https://localhost:8080/",
          "height": 195
        },
        "id": "hvdHlB8QjNdY",
        "outputId": "cdb6824e-790d-4be5-cfb2-0d1182b4151c"
      },
      "source": [
        "cpt_full_df = cpt_full_df.merge(twitter_df, how=\"left\", left_on=\"date\", right_on=\"date\")\n",
        "cpt_full_df.head()"
      ],
      "execution_count": 324,
      "outputs": [
        {
          "output_type": "execute_result",
          "data": {
            "text/html": [
              "<div>\n",
              "<style scoped>\n",
              "    .dataframe tbody tr th:only-of-type {\n",
              "        vertical-align: middle;\n",
              "    }\n",
              "\n",
              "    .dataframe tbody tr th {\n",
              "        vertical-align: top;\n",
              "    }\n",
              "\n",
              "    .dataframe thead th {\n",
              "        text-align: right;\n",
              "    }\n",
              "</style>\n",
              "<table border=\"1\" class=\"dataframe\">\n",
              "  <thead>\n",
              "    <tr style=\"text-align: right;\">\n",
              "      <th></th>\n",
              "      <th>date</th>\n",
              "      <th>open</th>\n",
              "      <th>close</th>\n",
              "      <th>high</th>\n",
              "      <th>low</th>\n",
              "      <th>Volume USDT</th>\n",
              "      <th>reddit_weighted_score</th>\n",
              "      <th>reddit_posts</th>\n",
              "      <th>reddit_likes_total</th>\n",
              "      <th>google_trends</th>\n",
              "      <th>twitter_posts</th>\n",
              "    </tr>\n",
              "  </thead>\n",
              "  <tbody>\n",
              "    <tr>\n",
              "      <th>0</th>\n",
              "      <td>2014-11-28</td>\n",
              "      <td>363.59</td>\n",
              "      <td>376.28</td>\n",
              "      <td>381.34</td>\n",
              "      <td>360.57</td>\n",
              "      <td>8617.15</td>\n",
              "      <td>-3.285267</td>\n",
              "      <td>1202</td>\n",
              "      <td>5356.0</td>\n",
              "      <td>1.89</td>\n",
              "      <td>24830.0</td>\n",
              "    </tr>\n",
              "    <tr>\n",
              "      <th>1</th>\n",
              "      <td>2014-11-29</td>\n",
              "      <td>376.42</td>\n",
              "      <td>376.72</td>\n",
              "      <td>386.60</td>\n",
              "      <td>372.25</td>\n",
              "      <td>7245.19</td>\n",
              "      <td>-1.696123</td>\n",
              "      <td>1076</td>\n",
              "      <td>2577.0</td>\n",
              "      <td>1.89</td>\n",
              "      <td>26555.0</td>\n",
              "    </tr>\n",
              "    <tr>\n",
              "      <th>2</th>\n",
              "      <td>2014-11-30</td>\n",
              "      <td>376.57</td>\n",
              "      <td>373.34</td>\n",
              "      <td>381.99</td>\n",
              "      <td>373.32</td>\n",
              "      <td>3046.33</td>\n",
              "      <td>-2.324880</td>\n",
              "      <td>1005</td>\n",
              "      <td>3141.0</td>\n",
              "      <td>1.44</td>\n",
              "      <td>20117.0</td>\n",
              "    </tr>\n",
              "    <tr>\n",
              "      <th>3</th>\n",
              "      <td>2014-12-01</td>\n",
              "      <td>376.40</td>\n",
              "      <td>378.39</td>\n",
              "      <td>382.31</td>\n",
              "      <td>373.03</td>\n",
              "      <td>6660.56</td>\n",
              "      <td>-2.131355</td>\n",
              "      <td>1287</td>\n",
              "      <td>3599.0</td>\n",
              "      <td>0.63</td>\n",
              "      <td>26508.0</td>\n",
              "    </tr>\n",
              "    <tr>\n",
              "      <th>4</th>\n",
              "      <td>2014-12-02</td>\n",
              "      <td>378.39</td>\n",
              "      <td>379.25</td>\n",
              "      <td>382.86</td>\n",
              "      <td>375.23</td>\n",
              "      <td>6832.53</td>\n",
              "      <td>-1.606622</td>\n",
              "      <td>1447</td>\n",
              "      <td>4560.0</td>\n",
              "      <td>0.63</td>\n",
              "      <td>32744.0</td>\n",
              "    </tr>\n",
              "  </tbody>\n",
              "</table>\n",
              "</div>"
            ],
            "text/plain": [
              "        date    open   close  ...  reddit_likes_total  google_trends  twitter_posts\n",
              "0 2014-11-28  363.59  376.28  ...              5356.0           1.89        24830.0\n",
              "1 2014-11-29  376.42  376.72  ...              2577.0           1.89        26555.0\n",
              "2 2014-11-30  376.57  373.34  ...              3141.0           1.44        20117.0\n",
              "3 2014-12-01  376.40  378.39  ...              3599.0           0.63        26508.0\n",
              "4 2014-12-02  378.39  379.25  ...              4560.0           0.63        32744.0\n",
              "\n",
              "[5 rows x 11 columns]"
            ]
          },
          "metadata": {
            "tags": []
          },
          "execution_count": 324
        }
      ]
    },
    {
      "cell_type": "code",
      "metadata": {
        "id": "28RM6SbOym3f"
      },
      "source": [
        "# cpt_full_df.to_csv(\"/content/drive/MyDrive/CIS 522 Final Project/Data/bitcoin_complete.csv\")"
      ],
      "execution_count": 325,
      "outputs": []
    },
    {
      "cell_type": "code",
      "metadata": {
        "id": "T6C49RoMrPxI"
      },
      "source": [
        "cpt_full_df = cpt_full_df[[\"date\", \"open\", \"close\", \"high\", \"low\", \"Volume USDT\"]]"
      ],
      "execution_count": 326,
      "outputs": []
    },
    {
      "cell_type": "code",
      "metadata": {
        "id": "l-LympT0kQsI"
      },
      "source": [
        "# plt.plot(cpt_full_df[\"twitter_posts\"].interpolate(method='linear'))"
      ],
      "execution_count": 327,
      "outputs": []
    },
    {
      "cell_type": "markdown",
      "metadata": {
        "id": "gMdta0GhVMfc"
      },
      "source": [
        "## Cleaning data"
      ]
    },
    {
      "cell_type": "code",
      "metadata": {
        "colab": {
          "base_uri": "https://localhost:8080/"
        },
        "id": "u7sgBQGO34jY",
        "outputId": "c595affc-3e84-4400-f31f-90aea923d190"
      },
      "source": [
        "cpt_full_df.columns"
      ],
      "execution_count": 328,
      "outputs": [
        {
          "output_type": "execute_result",
          "data": {
            "text/plain": [
              "Index(['date', 'open', 'close', 'high', 'low', 'Volume USDT'], dtype='object')"
            ]
          },
          "metadata": {
            "tags": []
          },
          "execution_count": 328
        }
      ]
    },
    {
      "cell_type": "markdown",
      "metadata": {
        "id": "FZgDh8rxtOp_"
      },
      "source": [
        "### Standard Scaling"
      ]
    },
    {
      "cell_type": "code",
      "metadata": {
        "colab": {
          "base_uri": "https://localhost:8080/",
          "height": 195
        },
        "id": "6abX_1hm3ciI",
        "outputId": "3bf642f0-1204-47f2-cfdb-0d0f3b8415d3"
      },
      "source": [
        "scaler = preprocessing.StandardScaler()\n",
        "cols = list(col for col in cpt_full_df.columns if col != \"date\" )\n",
        "cpt_full_df[cols] = scaler.fit_transform(cpt_full_df[cols])\n",
        "cpt_full_df.head()"
      ],
      "execution_count": 329,
      "outputs": [
        {
          "output_type": "execute_result",
          "data": {
            "text/html": [
              "<div>\n",
              "<style scoped>\n",
              "    .dataframe tbody tr th:only-of-type {\n",
              "        vertical-align: middle;\n",
              "    }\n",
              "\n",
              "    .dataframe tbody tr th {\n",
              "        vertical-align: top;\n",
              "    }\n",
              "\n",
              "    .dataframe thead th {\n",
              "        text-align: right;\n",
              "    }\n",
              "</style>\n",
              "<table border=\"1\" class=\"dataframe\">\n",
              "  <thead>\n",
              "    <tr style=\"text-align: right;\">\n",
              "      <th></th>\n",
              "      <th>date</th>\n",
              "      <th>open</th>\n",
              "      <th>close</th>\n",
              "      <th>high</th>\n",
              "      <th>low</th>\n",
              "      <th>Volume USDT</th>\n",
              "    </tr>\n",
              "  </thead>\n",
              "  <tbody>\n",
              "    <tr>\n",
              "      <th>0</th>\n",
              "      <td>2014-11-28</td>\n",
              "      <td>-0.838233</td>\n",
              "      <td>-0.835993</td>\n",
              "      <td>-0.831972</td>\n",
              "      <td>-0.845152</td>\n",
              "      <td>-0.491784</td>\n",
              "    </tr>\n",
              "    <tr>\n",
              "      <th>1</th>\n",
              "      <td>2014-11-29</td>\n",
              "      <td>-0.834964</td>\n",
              "      <td>-0.835880</td>\n",
              "      <td>-0.830680</td>\n",
              "      <td>-0.842026</td>\n",
              "      <td>-0.491815</td>\n",
              "    </tr>\n",
              "    <tr>\n",
              "      <th>2</th>\n",
              "      <td>2014-11-30</td>\n",
              "      <td>-0.834926</td>\n",
              "      <td>-0.836741</td>\n",
              "      <td>-0.831812</td>\n",
              "      <td>-0.841740</td>\n",
              "      <td>-0.491910</td>\n",
              "    </tr>\n",
              "    <tr>\n",
              "      <th>3</th>\n",
              "      <td>2014-12-01</td>\n",
              "      <td>-0.834969</td>\n",
              "      <td>-0.835455</td>\n",
              "      <td>-0.831733</td>\n",
              "      <td>-0.841817</td>\n",
              "      <td>-0.491828</td>\n",
              "    </tr>\n",
              "    <tr>\n",
              "      <th>4</th>\n",
              "      <td>2014-12-02</td>\n",
              "      <td>-0.834462</td>\n",
              "      <td>-0.835236</td>\n",
              "      <td>-0.831598</td>\n",
              "      <td>-0.841229</td>\n",
              "      <td>-0.491824</td>\n",
              "    </tr>\n",
              "  </tbody>\n",
              "</table>\n",
              "</div>"
            ],
            "text/plain": [
              "        date      open     close      high       low  Volume USDT\n",
              "0 2014-11-28 -0.838233 -0.835993 -0.831972 -0.845152    -0.491784\n",
              "1 2014-11-29 -0.834964 -0.835880 -0.830680 -0.842026    -0.491815\n",
              "2 2014-11-30 -0.834926 -0.836741 -0.831812 -0.841740    -0.491910\n",
              "3 2014-12-01 -0.834969 -0.835455 -0.831733 -0.841817    -0.491828\n",
              "4 2014-12-02 -0.834462 -0.835236 -0.831598 -0.841229    -0.491824"
            ]
          },
          "metadata": {
            "tags": []
          },
          "execution_count": 329
        }
      ]
    },
    {
      "cell_type": "markdown",
      "metadata": {
        "id": "bQIkS1lZVRx5"
      },
      "source": [
        "### Percentage Change of prices and volume"
      ]
    },
    {
      "cell_type": "markdown",
      "metadata": {
        "id": "oYURhtlE-7yP"
      },
      "source": [
        "### Adding percentage change"
      ]
    },
    {
      "cell_type": "code",
      "metadata": {
        "colab": {
          "base_uri": "https://localhost:8080/",
          "height": 195
        },
        "id": "WgvDnvtJ_CSh",
        "outputId": "2dfeb18a-0840-4733-f198-f0edc3bcffb8"
      },
      "source": [
        "cpt_full_df[\"open_dt\"] = cpt_full_df[\"open\"].pct_change()\n",
        "cpt_full_df[\"close_dt\"] = cpt_full_df[\"close\"].pct_change()\n",
        "cpt_full_df[\"low_dt\"] = cpt_full_df[\"low\"].pct_change()\n",
        "cpt_full_df[\"high_dt\"] = cpt_full_df[\"high\"].pct_change()\n",
        "\n",
        "cpt_full_df[\"Volume USDT_dt\"] = cpt_full_df[\"Volume USDT\"].pct_change()\n",
        "\n",
        "# cpt_full_df[\"reddit_weighted_score_dt\"] = cpt_full_df[\"reddit_weighted_score\"].pct_change()\n",
        "# cpt_full_df[\"reddit_posts_dt\"] = cpt_full_df[\"reddit_posts\"].pct_change()\n",
        "# cpt_full_df[\"reddit_likes_total_dt\"] = cpt_full_df[\"reddit_likes_total\"].pct_change()\n",
        "# cpt_full_df[\"google_trends_dt\"] = cpt_full_df[\"google_trends\"].pct_change()\n",
        "\n",
        "# cpt_full_df[\"twitter_posts_dt\"] = cpt_full_df[\"twitter_posts\"].pct_change()\n",
        "\n",
        "cpt_full_df.dropna(how=\"any\", axis=0, inplace=True)\n",
        "cpt_full_df.head()"
      ],
      "execution_count": 330,
      "outputs": [
        {
          "output_type": "execute_result",
          "data": {
            "text/html": [
              "<div>\n",
              "<style scoped>\n",
              "    .dataframe tbody tr th:only-of-type {\n",
              "        vertical-align: middle;\n",
              "    }\n",
              "\n",
              "    .dataframe tbody tr th {\n",
              "        vertical-align: top;\n",
              "    }\n",
              "\n",
              "    .dataframe thead th {\n",
              "        text-align: right;\n",
              "    }\n",
              "</style>\n",
              "<table border=\"1\" class=\"dataframe\">\n",
              "  <thead>\n",
              "    <tr style=\"text-align: right;\">\n",
              "      <th></th>\n",
              "      <th>date</th>\n",
              "      <th>open</th>\n",
              "      <th>close</th>\n",
              "      <th>high</th>\n",
              "      <th>low</th>\n",
              "      <th>Volume USDT</th>\n",
              "      <th>open_dt</th>\n",
              "      <th>close_dt</th>\n",
              "      <th>low_dt</th>\n",
              "      <th>high_dt</th>\n",
              "      <th>Volume USDT_dt</th>\n",
              "    </tr>\n",
              "  </thead>\n",
              "  <tbody>\n",
              "    <tr>\n",
              "      <th>1</th>\n",
              "      <td>2014-11-29</td>\n",
              "      <td>-0.834964</td>\n",
              "      <td>-0.835880</td>\n",
              "      <td>-0.830680</td>\n",
              "      <td>-0.842026</td>\n",
              "      <td>-0.491815</td>\n",
              "      <td>-0.003900</td>\n",
              "      <td>-0.000134</td>\n",
              "      <td>-0.003699</td>\n",
              "      <td>-0.001552</td>\n",
              "      <td>0.000063</td>\n",
              "    </tr>\n",
              "    <tr>\n",
              "      <th>2</th>\n",
              "      <td>2014-11-30</td>\n",
              "      <td>-0.834926</td>\n",
              "      <td>-0.836741</td>\n",
              "      <td>-0.831812</td>\n",
              "      <td>-0.841740</td>\n",
              "      <td>-0.491910</td>\n",
              "      <td>-0.000046</td>\n",
              "      <td>0.001030</td>\n",
              "      <td>-0.000340</td>\n",
              "      <td>0.001362</td>\n",
              "      <td>0.000194</td>\n",
              "    </tr>\n",
              "    <tr>\n",
              "      <th>3</th>\n",
              "      <td>2014-12-01</td>\n",
              "      <td>-0.834969</td>\n",
              "      <td>-0.835455</td>\n",
              "      <td>-0.831733</td>\n",
              "      <td>-0.841817</td>\n",
              "      <td>-0.491828</td>\n",
              "      <td>0.000052</td>\n",
              "      <td>-0.001538</td>\n",
              "      <td>0.000092</td>\n",
              "      <td>-0.000094</td>\n",
              "      <td>-0.000167</td>\n",
              "    </tr>\n",
              "    <tr>\n",
              "      <th>4</th>\n",
              "      <td>2014-12-02</td>\n",
              "      <td>-0.834462</td>\n",
              "      <td>-0.835236</td>\n",
              "      <td>-0.831598</td>\n",
              "      <td>-0.841229</td>\n",
              "      <td>-0.491824</td>\n",
              "      <td>-0.000607</td>\n",
              "      <td>-0.000262</td>\n",
              "      <td>-0.000699</td>\n",
              "      <td>-0.000162</td>\n",
              "      <td>-0.000008</td>\n",
              "    </tr>\n",
              "    <tr>\n",
              "      <th>5</th>\n",
              "      <td>2014-12-03</td>\n",
              "      <td>-0.834243</td>\n",
              "      <td>-0.835893</td>\n",
              "      <td>-0.831564</td>\n",
              "      <td>-0.841496</td>\n",
              "      <td>-0.491800</td>\n",
              "      <td>-0.000263</td>\n",
              "      <td>0.000787</td>\n",
              "      <td>0.000318</td>\n",
              "      <td>-0.000041</td>\n",
              "      <td>-0.000050</td>\n",
              "    </tr>\n",
              "  </tbody>\n",
              "</table>\n",
              "</div>"
            ],
            "text/plain": [
              "        date      open     close  ...    low_dt   high_dt  Volume USDT_dt\n",
              "1 2014-11-29 -0.834964 -0.835880  ... -0.003699 -0.001552        0.000063\n",
              "2 2014-11-30 -0.834926 -0.836741  ... -0.000340  0.001362        0.000194\n",
              "3 2014-12-01 -0.834969 -0.835455  ...  0.000092 -0.000094       -0.000167\n",
              "4 2014-12-02 -0.834462 -0.835236  ... -0.000699 -0.000162       -0.000008\n",
              "5 2014-12-03 -0.834243 -0.835893  ...  0.000318 -0.000041       -0.000050\n",
              "\n",
              "[5 rows x 11 columns]"
            ]
          },
          "metadata": {
            "tags": []
          },
          "execution_count": 330
        }
      ]
    },
    {
      "cell_type": "code",
      "metadata": {
        "colab": {
          "base_uri": "https://localhost:8080/",
          "height": 402
        },
        "id": "w37z6Ei-HE9C",
        "outputId": "6af15074-3736-4fbc-ef03-07866d11bad7"
      },
      "source": [
        "cpt_full_df\n"
      ],
      "execution_count": 331,
      "outputs": [
        {
          "output_type": "execute_result",
          "data": {
            "text/html": [
              "<div>\n",
              "<style scoped>\n",
              "    .dataframe tbody tr th:only-of-type {\n",
              "        vertical-align: middle;\n",
              "    }\n",
              "\n",
              "    .dataframe tbody tr th {\n",
              "        vertical-align: top;\n",
              "    }\n",
              "\n",
              "    .dataframe thead th {\n",
              "        text-align: right;\n",
              "    }\n",
              "</style>\n",
              "<table border=\"1\" class=\"dataframe\">\n",
              "  <thead>\n",
              "    <tr style=\"text-align: right;\">\n",
              "      <th></th>\n",
              "      <th>date</th>\n",
              "      <th>open</th>\n",
              "      <th>close</th>\n",
              "      <th>high</th>\n",
              "      <th>low</th>\n",
              "      <th>Volume USDT</th>\n",
              "      <th>open_dt</th>\n",
              "      <th>close_dt</th>\n",
              "      <th>low_dt</th>\n",
              "      <th>high_dt</th>\n",
              "      <th>Volume USDT_dt</th>\n",
              "    </tr>\n",
              "  </thead>\n",
              "  <tbody>\n",
              "    <tr>\n",
              "      <th>1</th>\n",
              "      <td>2014-11-29</td>\n",
              "      <td>-0.834964</td>\n",
              "      <td>-0.835880</td>\n",
              "      <td>-0.830680</td>\n",
              "      <td>-0.842026</td>\n",
              "      <td>-0.491815</td>\n",
              "      <td>-0.003900</td>\n",
              "      <td>-0.000134</td>\n",
              "      <td>-0.003699</td>\n",
              "      <td>-0.001552</td>\n",
              "      <td>0.000063</td>\n",
              "    </tr>\n",
              "    <tr>\n",
              "      <th>2</th>\n",
              "      <td>2014-11-30</td>\n",
              "      <td>-0.834926</td>\n",
              "      <td>-0.836741</td>\n",
              "      <td>-0.831812</td>\n",
              "      <td>-0.841740</td>\n",
              "      <td>-0.491910</td>\n",
              "      <td>-0.000046</td>\n",
              "      <td>0.001030</td>\n",
              "      <td>-0.000340</td>\n",
              "      <td>0.001362</td>\n",
              "      <td>0.000194</td>\n",
              "    </tr>\n",
              "    <tr>\n",
              "      <th>3</th>\n",
              "      <td>2014-12-01</td>\n",
              "      <td>-0.834969</td>\n",
              "      <td>-0.835455</td>\n",
              "      <td>-0.831733</td>\n",
              "      <td>-0.841817</td>\n",
              "      <td>-0.491828</td>\n",
              "      <td>0.000052</td>\n",
              "      <td>-0.001538</td>\n",
              "      <td>0.000092</td>\n",
              "      <td>-0.000094</td>\n",
              "      <td>-0.000167</td>\n",
              "    </tr>\n",
              "    <tr>\n",
              "      <th>4</th>\n",
              "      <td>2014-12-02</td>\n",
              "      <td>-0.834462</td>\n",
              "      <td>-0.835236</td>\n",
              "      <td>-0.831598</td>\n",
              "      <td>-0.841229</td>\n",
              "      <td>-0.491824</td>\n",
              "      <td>-0.000607</td>\n",
              "      <td>-0.000262</td>\n",
              "      <td>-0.000699</td>\n",
              "      <td>-0.000162</td>\n",
              "      <td>-0.000008</td>\n",
              "    </tr>\n",
              "    <tr>\n",
              "      <th>5</th>\n",
              "      <td>2014-12-03</td>\n",
              "      <td>-0.834243</td>\n",
              "      <td>-0.835893</td>\n",
              "      <td>-0.831564</td>\n",
              "      <td>-0.841496</td>\n",
              "      <td>-0.491800</td>\n",
              "      <td>-0.000263</td>\n",
              "      <td>0.000787</td>\n",
              "      <td>0.000318</td>\n",
              "      <td>-0.000041</td>\n",
              "      <td>-0.000050</td>\n",
              "    </tr>\n",
              "    <tr>\n",
              "      <th>...</th>\n",
              "      <td>...</td>\n",
              "      <td>...</td>\n",
              "      <td>...</td>\n",
              "      <td>...</td>\n",
              "      <td>...</td>\n",
              "      <td>...</td>\n",
              "      <td>...</td>\n",
              "      <td>...</td>\n",
              "      <td>...</td>\n",
              "      <td>...</td>\n",
              "      <td>...</td>\n",
              "    </tr>\n",
              "    <tr>\n",
              "      <th>1763</th>\n",
              "      <td>2019-09-26</td>\n",
              "      <td>1.220494</td>\n",
              "      <td>1.120198</td>\n",
              "      <td>1.153181</td>\n",
              "      <td>1.128187</td>\n",
              "      <td>2.555181</td>\n",
              "      <td>-0.019100</td>\n",
              "      <td>-0.078992</td>\n",
              "      <td>-0.102610</td>\n",
              "      <td>-0.056052</td>\n",
              "      <td>-0.102164</td>\n",
              "    </tr>\n",
              "    <tr>\n",
              "      <th>1764</th>\n",
              "      <td>2019-09-27</td>\n",
              "      <td>1.121584</td>\n",
              "      <td>1.154001</td>\n",
              "      <td>1.110503</td>\n",
              "      <td>1.163517</td>\n",
              "      <td>1.397749</td>\n",
              "      <td>-0.081041</td>\n",
              "      <td>0.030176</td>\n",
              "      <td>0.031315</td>\n",
              "      <td>-0.037009</td>\n",
              "      <td>-0.452974</td>\n",
              "    </tr>\n",
              "    <tr>\n",
              "      <th>1765</th>\n",
              "      <td>2019-09-28</td>\n",
              "      <td>1.158456</td>\n",
              "      <td>1.161733</td>\n",
              "      <td>1.125811</td>\n",
              "      <td>1.202012</td>\n",
              "      <td>0.686357</td>\n",
              "      <td>0.032875</td>\n",
              "      <td>0.006700</td>\n",
              "      <td>0.033086</td>\n",
              "      <td>0.013785</td>\n",
              "      <td>-0.508955</td>\n",
              "    </tr>\n",
              "    <tr>\n",
              "      <th>1766</th>\n",
              "      <td>2019-09-29</td>\n",
              "      <td>1.163070</td>\n",
              "      <td>1.118305</td>\n",
              "      <td>1.098236</td>\n",
              "      <td>1.173328</td>\n",
              "      <td>0.488539</td>\n",
              "      <td>0.003983</td>\n",
              "      <td>-0.037382</td>\n",
              "      <td>-0.023864</td>\n",
              "      <td>-0.024494</td>\n",
              "      <td>-0.288215</td>\n",
              "    </tr>\n",
              "    <tr>\n",
              "      <th>1767</th>\n",
              "      <td>2019-09-30</td>\n",
              "      <td>1.122827</td>\n",
              "      <td>1.182210</td>\n",
              "      <td>1.128782</td>\n",
              "      <td>1.123024</td>\n",
              "      <td>1.301435</td>\n",
              "      <td>-0.034600</td>\n",
              "      <td>0.057144</td>\n",
              "      <td>-0.042872</td>\n",
              "      <td>0.027814</td>\n",
              "      <td>1.663931</td>\n",
              "    </tr>\n",
              "  </tbody>\n",
              "</table>\n",
              "<p>1767 rows × 11 columns</p>\n",
              "</div>"
            ],
            "text/plain": [
              "           date      open     close  ...    low_dt   high_dt  Volume USDT_dt\n",
              "1    2014-11-29 -0.834964 -0.835880  ... -0.003699 -0.001552        0.000063\n",
              "2    2014-11-30 -0.834926 -0.836741  ... -0.000340  0.001362        0.000194\n",
              "3    2014-12-01 -0.834969 -0.835455  ...  0.000092 -0.000094       -0.000167\n",
              "4    2014-12-02 -0.834462 -0.835236  ... -0.000699 -0.000162       -0.000008\n",
              "5    2014-12-03 -0.834243 -0.835893  ...  0.000318 -0.000041       -0.000050\n",
              "...         ...       ...       ...  ...       ...       ...             ...\n",
              "1763 2019-09-26  1.220494  1.120198  ... -0.102610 -0.056052       -0.102164\n",
              "1764 2019-09-27  1.121584  1.154001  ...  0.031315 -0.037009       -0.452974\n",
              "1765 2019-09-28  1.158456  1.161733  ...  0.033086  0.013785       -0.508955\n",
              "1766 2019-09-29  1.163070  1.118305  ... -0.023864 -0.024494       -0.288215\n",
              "1767 2019-09-30  1.122827  1.182210  ... -0.042872  0.027814        1.663931\n",
              "\n",
              "[1767 rows x 11 columns]"
            ]
          },
          "metadata": {
            "tags": []
          },
          "execution_count": 331
        }
      ]
    },
    {
      "cell_type": "code",
      "metadata": {
        "colab": {
          "base_uri": "https://localhost:8080/",
          "height": 354
        },
        "id": "MNobIC10z-o-",
        "outputId": "38dbf025-9f02-4225-e862-3aae30f21bea"
      },
      "source": [
        "import seaborn as sns\n",
        "sns.heatmap(cpt_full_df.corr())"
      ],
      "execution_count": 332,
      "outputs": [
        {
          "output_type": "execute_result",
          "data": {
            "text/plain": [
              "<matplotlib.axes._subplots.AxesSubplot at 0x7f4f80bbf850>"
            ]
          },
          "metadata": {
            "tags": []
          },
          "execution_count": 332
        },
        {
          "output_type": "display_data",
          "data": {
            "image/png": "[encoded data removed]",
            "text/plain": [
              "<Figure size 432x288 with 2 Axes>"
            ]
          },
          "metadata": {
            "tags": [],
            "needs_background": "light"
          }
        }
      ]
    },
    {
      "cell_type": "markdown",
      "metadata": {
        "id": "eP0qGjOHeOQr"
      },
      "source": [
        "### Test Train split"
      ]
    },
    {
      "cell_type": "code",
      "metadata": {
        "colab": {
          "base_uri": "https://localhost:8080/",
          "height": 330
        },
        "id": "9ros1OfpeJ0B",
        "outputId": "d0cdf881-7363-4415-e030-bb8fea51fb82"
      },
      "source": [
        "per_of_test = 0.1\n",
        "per_of_val = 0.1\n",
        "\n",
        "times = sorted(cpt_full_df.index.values)\n",
        "last_npct = sorted(cpt_full_df.index.values)[-int(per_of_test*len(times))] # Last 10% of series\n",
        "last_2npct = sorted(cpt_full_df.index.values)[-int((per_of_val+per_of_test)*len(times))] # Last 20% of series\n",
        "\n",
        "df_train = cpt_full_df[(cpt_full_df.index < last_2npct)]  # Training data are 80% of total data\n",
        "df_val = cpt_full_df[(cpt_full_df.index >= last_2npct) & (cpt_full_df.index < last_npct)]\n",
        "df_test = cpt_full_df[(cpt_full_df.index >= last_npct)]\n",
        "\n",
        "# Remove date column\n",
        "df_train.drop(columns=['date'], inplace=True)\n",
        "df_val.drop(columns=['date'], inplace=True)\n",
        "df_test.drop(columns=['date'], inplace=True)\n",
        "\n",
        "# Convert pandas columns into arrays\n",
        "train_data = df_train.values\n",
        "val_data = df_val.values\n",
        "test_data = df_test.values\n",
        "\n",
        "feature_num=train_data.shape[1]\n",
        "\n",
        "print(f'Training data shape: {train_data.shape}')\n",
        "print(f'Validation data shape: {val_data.shape}')\n",
        "print(f'Test data shape: {test_data.shape}')\n",
        "\n",
        "df_train.head()"
      ],
      "execution_count": 333,
      "outputs": [
        {
          "output_type": "stream",
          "text": [
            "Training data shape: (1414, 10)\n",
            "Validation data shape: (177, 10)\n",
            "Test data shape: (176, 10)\n"
          ],
          "name": "stdout"
        },
        {
          "output_type": "stream",
          "text": [
            "/usr/local/lib/python3.7/dist-packages/pandas/core/frame.py:4174: SettingWithCopyWarning: \n",
            "A value is trying to be set on a copy of a slice from a DataFrame\n",
            "\n",
            "See the caveats in the documentation: https://pandas.pydata.org/pandas-docs/stable/user_guide/indexing.html#returning-a-view-versus-a-copy\n",
            "  errors=errors,\n"
          ],
          "name": "stderr"
        },
        {
          "output_type": "execute_result",
          "data": {
            "text/html": [
              "<div>\n",
              "<style scoped>\n",
              "    .dataframe tbody tr th:only-of-type {\n",
              "        vertical-align: middle;\n",
              "    }\n",
              "\n",
              "    .dataframe tbody tr th {\n",
              "        vertical-align: top;\n",
              "    }\n",
              "\n",
              "    .dataframe thead th {\n",
              "        text-align: right;\n",
              "    }\n",
              "</style>\n",
              "<table border=\"1\" class=\"dataframe\">\n",
              "  <thead>\n",
              "    <tr style=\"text-align: right;\">\n",
              "      <th></th>\n",
              "      <th>open</th>\n",
              "      <th>close</th>\n",
              "      <th>high</th>\n",
              "      <th>low</th>\n",
              "      <th>Volume USDT</th>\n",
              "      <th>open_dt</th>\n",
              "      <th>close_dt</th>\n",
              "      <th>low_dt</th>\n",
              "      <th>high_dt</th>\n",
              "      <th>Volume USDT_dt</th>\n",
              "    </tr>\n",
              "  </thead>\n",
              "  <tbody>\n",
              "    <tr>\n",
              "      <th>1</th>\n",
              "      <td>-0.834964</td>\n",
              "      <td>-0.835880</td>\n",
              "      <td>-0.830680</td>\n",
              "      <td>-0.842026</td>\n",
              "      <td>-0.491815</td>\n",
              "      <td>-0.003900</td>\n",
              "      <td>-0.000134</td>\n",
              "      <td>-0.003699</td>\n",
              "      <td>-0.001552</td>\n",
              "      <td>0.000063</td>\n",
              "    </tr>\n",
              "    <tr>\n",
              "      <th>2</th>\n",
              "      <td>-0.834926</td>\n",
              "      <td>-0.836741</td>\n",
              "      <td>-0.831812</td>\n",
              "      <td>-0.841740</td>\n",
              "      <td>-0.491910</td>\n",
              "      <td>-0.000046</td>\n",
              "      <td>0.001030</td>\n",
              "      <td>-0.000340</td>\n",
              "      <td>0.001362</td>\n",
              "      <td>0.000194</td>\n",
              "    </tr>\n",
              "    <tr>\n",
              "      <th>3</th>\n",
              "      <td>-0.834969</td>\n",
              "      <td>-0.835455</td>\n",
              "      <td>-0.831733</td>\n",
              "      <td>-0.841817</td>\n",
              "      <td>-0.491828</td>\n",
              "      <td>0.000052</td>\n",
              "      <td>-0.001538</td>\n",
              "      <td>0.000092</td>\n",
              "      <td>-0.000094</td>\n",
              "      <td>-0.000167</td>\n",
              "    </tr>\n",
              "    <tr>\n",
              "      <th>4</th>\n",
              "      <td>-0.834462</td>\n",
              "      <td>-0.835236</td>\n",
              "      <td>-0.831598</td>\n",
              "      <td>-0.841229</td>\n",
              "      <td>-0.491824</td>\n",
              "      <td>-0.000607</td>\n",
              "      <td>-0.000262</td>\n",
              "      <td>-0.000699</td>\n",
              "      <td>-0.000162</td>\n",
              "      <td>-0.000008</td>\n",
              "    </tr>\n",
              "    <tr>\n",
              "      <th>5</th>\n",
              "      <td>-0.834243</td>\n",
              "      <td>-0.835893</td>\n",
              "      <td>-0.831564</td>\n",
              "      <td>-0.841496</td>\n",
              "      <td>-0.491800</td>\n",
              "      <td>-0.000263</td>\n",
              "      <td>0.000787</td>\n",
              "      <td>0.000318</td>\n",
              "      <td>-0.000041</td>\n",
              "      <td>-0.000050</td>\n",
              "    </tr>\n",
              "  </tbody>\n",
              "</table>\n",
              "</div>"
            ],
            "text/plain": [
              "       open     close      high  ...    low_dt   high_dt  Volume USDT_dt\n",
              "1 -0.834964 -0.835880 -0.830680  ... -0.003699 -0.001552        0.000063\n",
              "2 -0.834926 -0.836741 -0.831812  ... -0.000340  0.001362        0.000194\n",
              "3 -0.834969 -0.835455 -0.831733  ...  0.000092 -0.000094       -0.000167\n",
              "4 -0.834462 -0.835236 -0.831598  ... -0.000699 -0.000162       -0.000008\n",
              "5 -0.834243 -0.835893 -0.831564  ...  0.000318 -0.000041       -0.000050\n",
              "\n",
              "[5 rows x 10 columns]"
            ]
          },
          "metadata": {
            "tags": []
          },
          "execution_count": 333
        }
      ]
    },
    {
      "cell_type": "markdown",
      "metadata": {
        "id": "dBJW5QOSkABN"
      },
      "source": [
        "### Plotting the Train Test Validation split"
      ]
    },
    {
      "cell_type": "code",
      "metadata": {
        "colab": {
          "base_uri": "https://localhost:8080/",
          "height": 792
        },
        "id": "jiDXW4XScAUd",
        "outputId": "b6710bc6-f8b6-4f13-d33d-69dab6e9a10e"
      },
      "source": [
        "fig = plt.figure(figsize=(15,12))\n",
        "st = fig.suptitle(\"Data Separation\", fontsize=20)\n",
        "st.set_y(0.95)\n",
        "\n",
        "###############################################################################\n",
        "\n",
        "ax1 = fig.add_subplot(211)\n",
        "ax1.plot(np.arange(train_data.shape[0]), df_train['close'], label='Training data')\n",
        "\n",
        "ax1.plot(np.arange(train_data.shape[0], \n",
        "                   train_data.shape[0]+val_data.shape[0]), df_val['close'], label='Validation data')\n",
        "\n",
        "ax1.plot(np.arange(train_data.shape[0]+val_data.shape[0], \n",
        "                   train_data.shape[0]+val_data.shape[0]+test_data.shape[0]), df_test['close'], label='Test data')\n",
        "ax1.set_xlabel('Date')\n",
        "ax1.set_ylabel('Normalized Closing Returns')\n",
        "ax1.set_title(\"Close Price\", fontsize=18)\n",
        "ax1.legend(loc=\"best\", fontsize=12)\n",
        "\n",
        "###############################################################################\n",
        "\n",
        "ax2 = fig.add_subplot(212)\n",
        "ax2.plot(np.arange(train_data.shape[0]), df_train['Volume USDT'], label='Training data')\n",
        "\n",
        "ax2.plot(np.arange(train_data.shape[0], \n",
        "                   train_data.shape[0]+val_data.shape[0]), df_val['Volume USDT'], label='Validation data')\n",
        "\n",
        "ax2.plot(np.arange(train_data.shape[0]+val_data.shape[0], \n",
        "                   train_data.shape[0]+val_data.shape[0]+test_data.shape[0]), df_test['Volume USDT'], label='Test data')\n",
        "ax2.set_xlabel('Date')\n",
        "ax2.set_ylabel('Normalized Volume Changes')\n",
        "ax2.set_title(\"Volume\", fontsize=18)\n",
        "ax2.legend(loc=\"best\", fontsize=12)"
      ],
      "execution_count": 334,
      "outputs": [
        {
          "output_type": "execute_result",
          "data": {
            "text/plain": [
              "<matplotlib.legend.Legend at 0x7f4f809cf9d0>"
            ]
          },
          "metadata": {
            "tags": []
          },
          "execution_count": 334
        },
        {
          "output_type": "display_data",
          "data": {
            "image/png": "[encoded data removed]",
            "text/plain": [
              "<Figure size 1080x864 with 2 Axes>"
            ]
          },
          "metadata": {
            "tags": [],
            "needs_background": "light"
          }
        }
      ]
    },
    {
      "cell_type": "markdown",
      "metadata": {
        "id": "-7bI7NtxmFdZ"
      },
      "source": [
        "### Creating data chunks\n",
        "\n",
        "Were predicting closing price for the next day is this chunking"
      ]
    },
    {
      "cell_type": "code",
      "metadata": {
        "colab": {
          "base_uri": "https://localhost:8080/"
        },
        "id": "bexdegUSmDsq",
        "outputId": "11f37662-0b89-4a42-a571-8577ee23f476"
      },
      "source": [
        "closing_index=1\n",
        "\n",
        "# Training data\n",
        "X_train, y_train = [], []\n",
        "for i in range(seq_len, len(train_data)-prediction_date+1):\n",
        "  X_train.append(train_data[i-seq_len:i]) # Chunks of training data with a length of 128 df-rows\n",
        "  y_train.append(train_data[:, closing_index][i+prediction_date-1]) #Value of 4th column (Close Price) of df-row 128+1\n",
        "X_train, y_train = np.array(X_train), np.array(y_train)\n",
        "\n",
        "###############################################################################\n",
        "\n",
        "# Validation data\n",
        "X_val, y_val = [], []\n",
        "for i in range(seq_len, len(val_data)-prediction_date+1):\n",
        "    X_val.append(val_data[i-seq_len:i])\n",
        "    y_val.append(val_data[:, closing_index][i+prediction_date-1])\n",
        "X_val, y_val = np.array(X_val), np.array(y_val)\n",
        "\n",
        "###############################################################################\n",
        "\n",
        "# Test data\n",
        "X_test, y_test = [], []\n",
        "for i in range(seq_len, len(test_data)-prediction_date+1):\n",
        "    X_test.append(test_data[i-seq_len:i])\n",
        "    y_test.append(test_data[:, closing_index][i+prediction_date-1])    \n",
        "X_test, y_test = np.array(X_test), np.array(y_test)\n",
        "\n",
        "print('Training set shape', X_train.shape, y_train.shape)\n",
        "print('Validation set shape', X_val.shape, y_val.shape)\n",
        "print('Testing set shape' ,X_test.shape, y_test.shape)"
      ],
      "execution_count": 335,
      "outputs": [
        {
          "output_type": "stream",
          "text": [
            "Training set shape (1384, 30, 10) (1384,)\n",
            "Validation set shape (147, 30, 10) (147,)\n",
            "Testing set shape (146, 30, 10) (146,)\n"
          ],
          "name": "stdout"
        }
      ]
    },
    {
      "cell_type": "markdown",
      "metadata": {
        "id": "NJJT_jCRqbMC"
      },
      "source": [
        "## Architecture"
      ]
    },
    {
      "cell_type": "code",
      "metadata": {
        "id": "HlcrnxCTZg17"
      },
      "source": [
        "import pandas as pd\n",
        "import numpy as np\n",
        "import matplotlib.pyplot as plt\n",
        "from sklearn.preprocessing import MinMaxScaler\n",
        "import keras\n",
        "from keras.models import Sequential\n",
        "from keras.layers import Dense\n",
        "from keras.layers import LSTM\n",
        "from keras.layers import Dropout\n",
        "from keras.layers import Activation\n",
        "from keras.models import load_model"
      ],
      "execution_count": 339,
      "outputs": []
    },
    {
      "cell_type": "code",
      "metadata": {
        "id": "QxxD1NAbd-HV"
      },
      "source": [
        "feature_num = X_train.shape[2]\n",
        "epochs = 50\n",
        "prediction_date = 1"
      ],
      "execution_count": 340,
      "outputs": []
    },
    {
      "cell_type": "code",
      "metadata": {
        "id": "hEzZDsR9aoJX"
      },
      "source": [
        "model = Sequential()\n",
        "model.add(LSTM(units=seq_len, return_sequences = True, input_shape = (X_train.shape[1],feature_num)))\n",
        "model.add(Dropout(0.15))\n",
        "model.add(LSTM(units=seq_len, return_sequences = True))\n",
        "model.add(Dropout(0.15))\n",
        "model.add(LSTM(units=seq_len))\n",
        "model.add(Dropout(0.15))\n",
        "model.add(Dense(units=feature_num))"
      ],
      "execution_count": 341,
      "outputs": []
    },
    {
      "cell_type": "code",
      "metadata": {
        "id": "RGHsccNqecf_"
      },
      "source": [
        "model.compile(loss=\"mean_squared_error\", optimizer=\"adam\", metrics=['mae','mape'])\n",
        "model.fit(X_train, y_train, batch_size = 32, epochs = epochs)\n",
        "model.summary\n",
        "\n",
        "model.save(\"multiple_features_\"+str(epochs)+\"_epochs.h5\")\n",
        "print(\"Saved model to disk\")"
      ],
      "execution_count": null,
      "outputs": []
    },
    {
      "cell_type": "code",
      "metadata": {
        "colab": {
          "base_uri": "https://localhost:8080/"
        },
        "id": "wd7QDCiZrgZq",
        "outputId": "49c74ed1-a6da-47d0-cdd5-3d4dc420e57f"
      },
      "source": [
        "#Calculate predication for training, validation and test data\n",
        "train_pred = model.predict(X_train)\n",
        "val_pred = model.predict(X_val)\n",
        "test_pred = model.predict(X_test)\n",
        "\n",
        "#Print evaluation metrics for all datasets\n",
        "train_eval = model.evaluate(X_train, y_train, verbose=0)\n",
        "val_eval = model.evaluate(X_val, y_val, verbose=0)\n",
        "test_eval = model.evaluate(X_test, y_test, verbose=0)\n",
        "print(' ')\n",
        "print('Evaluation metrics')\n",
        "print('Training Data - Loss: {:.4f}, MAE: {:.4f}, MAPE: {:.4f}'.format(train_eval[0], train_eval[1], train_eval[2]))\n",
        "print('Validation Data - Loss: {:.4f}, MAE: {:.4f}, MAPE: {:.4f}'.format(val_eval[0], val_eval[1], val_eval[2]))\n",
        "print('Test Data - Loss: {:.4f}, MAE: {:.4f}, MAPE: {:.4f}'.format(test_eval[0], test_eval[1], test_eval[2]))"
      ],
      "execution_count": 343,
      "outputs": [
        {
          "output_type": "stream",
          "text": [
            " \n",
            "Evaluation metrics\n",
            "Training Data - Loss: 0.0057, MAE: 0.0446, MAPE: 19.9422\n",
            "Validation Data - Loss: 0.0547, MAE: 0.1899, MAPE: 969.2788\n",
            "Test Data - Loss: 0.0377, MAE: 0.1640, MAPE: 10.1231\n"
          ],
          "name": "stdout"
        }
      ]
    },
    {
      "cell_type": "code",
      "metadata": {
        "colab": {
          "base_uri": "https://localhost:8080/"
        },
        "id": "e8vQ3ZYV01qS",
        "outputId": "931fc93a-2279-4990-848b-8d4237cbbee2"
      },
      "source": [
        "import sklearn\n",
        "from sklearn.metrics import mean_absolute_error\n",
        "print(\"Train\", mean_absolute_error(y_train, train_pred[:,0]))\n",
        "print(\"Valid\", mean_absolute_error(y_val, val_pred[:,0]))\n",
        "print(\"Test\", mean_absolute_error(y_test, test_pred[:,0]))"
      ],
      "execution_count": 344,
      "outputs": [
        {
          "output_type": "stream",
          "text": [
            "Train 0.045142150782189285\n",
            "Valid 0.1930530193756507\n",
            "Test 0.16620064234178977\n"
          ],
          "name": "stdout"
        }
      ]
    },
    {
      "cell_type": "code",
      "metadata": {
        "colab": {
          "base_uri": "https://localhost:8080/",
          "height": 1000
        },
        "id": "r61j7CBrrgZy",
        "outputId": "e08e953f-150e-48df-eb7d-9efa125e0c45"
      },
      "source": [
        "'''Display results'''\n",
        "\n",
        "fig = plt.figure(figsize=(15,20))\n",
        "st = fig.suptitle(\"LSTM Model\", fontsize=22)\n",
        "st.set_y(0.92)\n",
        "\n",
        "#Plot training data results\n",
        "ax11 = fig.add_subplot(311)\n",
        "ax11.plot(y_train, label='Crypto Closing Returns')\n",
        "ax11.plot(train_pred[:,0], linewidth=3, label='Predicted Crypto Closing Returns')\n",
        "ax11.set_title(\"Training Data\", fontsize=18)\n",
        "ax11.set_xlabel('Date')\n",
        "ax11.set_ylabel('Crypto Closing Returns')\n",
        "ax11.legend(loc=\"best\", fontsize=12)\n",
        "\n",
        "#Plot validation data results\n",
        "ax21 = fig.add_subplot(312)\n",
        "ax21.plot(y_val, label='Crypto Closing Returns')\n",
        "ax21.plot(val_pred[:,0], linewidth=3, label='Predicted Crypto Closing Returns')\n",
        "ax21.set_title(\"Validation Data\", fontsize=18)\n",
        "ax21.set_xlabel('Date')\n",
        "ax21.set_ylabel('Crypto Closing Returns')\n",
        "ax21.legend(loc=\"best\", fontsize=10)\n",
        "\n",
        "#Plot test data results\n",
        "ax31 = fig.add_subplot(313)\n",
        "ax31.plot(y_test, label='Crypto Closing Returns')\n",
        "ax31.plot(test_pred[:,0], linewidth=3, label='Predicted Crypto Closing Returns')\n",
        "ax31.set_title(\"Test Data\", fontsize=18)\n",
        "ax31.set_xlabel('Date')\n",
        "ax31.set_ylabel('Crypto Closing Returns')\n",
        "ax31.legend(loc=\"best\", fontsize=10)"
      ],
      "execution_count": 345,
      "outputs": [
        {
          "output_type": "execute_result",
          "data": {
            "text/plain": [
              "<matplotlib.legend.Legend at 0x7f4f89031210>"
            ]
          },
          "metadata": {
            "tags": []
          },
          "execution_count": 345
        },
        {
          "output_type": "display_data",
          "data": {
            "image/png": "[encoded data removed]",
            "text/plain": [
              "<Figure size 1080x1440 with 3 Axes>"
            ]
          },
          "metadata": {
            "tags": [],
            "needs_background": "light"
          }
        }
      ]
    }
  ]
}