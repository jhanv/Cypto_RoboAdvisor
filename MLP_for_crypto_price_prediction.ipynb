{
  "nbformat": 4,
  "nbformat_minor": 0,
  "metadata": {
    "colab": {
      "name": "MLP for crypto price prediction.ipynb",
      "provenance": [],
      "collapsed_sections": [],
      "toc_visible": true,
      "include_colab_link": true
    },
    "kernelspec": {
      "name": "python3",
      "display_name": "Python 3"
    },
    "language_info": {
      "name": "python"
    },
    "accelerator": "GPU"
  },
  "cells": [
    {
      "cell_type": "markdown",
      "metadata": {
        "id": "view-in-github",
        "colab_type": "text"
      },
      "source": [
        "<a href=\"https://colab.research.google.com/github/jhanv/Cypto_RoboAdvisor/blob/main/MLP_for_crypto_price_prediction.ipynb\" target=\"_parent\"><img src=\"https://colab.research.google.com/assets/colab-badge.svg\" alt=\"Open In Colab\"/></a>"
      ]
    },
    {
      "cell_type": "markdown",
      "metadata": {
        "id": "uAOdoYlbK2Kf"
      },
      "source": [
        "\n",
        "The central goal is to analyse the cryptomarket and see if a deep learning model can predict the fluctuation of prices in conjunction with sentiment data. To this end, we hope to construct a few models (In this notebook we are exploring with MLP) of varying complexity to help learn the patterns (if any) and help eliminate some of the uncertainty of this market. We believe that crypto currencies would have a prominent position in the future of finance and this paper would shed light into how people view the currency.\n",
        "\n",
        "The simplest model option: a MLP model. Since a MLP model does not have any inbuilt time-series attention mechanism, it is the simplest model that could be used for our task. After experimentation and hypertuning, we decided on using ReLU activation, MSE loss, Adam optimization, and a learning rate of around 3e-5. "
      ]
    },
    {
      "cell_type": "code",
      "metadata": {
        "colab": {
          "base_uri": "https://localhost:8080/"
        },
        "id": "YA72BL-rBgDj",
        "outputId": "8b85d371-9e72-49ea-9526-65c32742285b"
      },
      "source": [
        "from google.colab import drive\n",
        "drive.mount('/content/drive')"
      ],
      "execution_count": null,
      "outputs": [
        {
          "output_type": "stream",
          "text": [
            "Drive already mounted at /content/drive; to attempt to forcibly remount, call drive.mount(\"/content/drive\", force_remount=True).\n"
          ],
          "name": "stdout"
        }
      ]
    },
    {
      "cell_type": "markdown",
      "metadata": {
        "id": "o5GlquFNESH0"
      },
      "source": [
        "# Imports"
      ]
    },
    {
      "cell_type": "code",
      "metadata": {
        "colab": {
          "base_uri": "https://localhost:8080/"
        },
        "id": "RZRQjO6_Bo4G",
        "outputId": "908096ac-343e-427e-9e8d-27f48d069561"
      },
      "source": [
        "# imports\n",
        "import os\n",
        "import csv\n",
        "import json\n",
        "import random\n",
        "import pathlib\n",
        "\n",
        "import torch\n",
        "import numpy as np\n",
        "import pandas as pd\n",
        "import matplotlib.pyplot as plt\n",
        "\n",
        "import torch.nn as nn\n",
        "import torch.optim as optim\n",
        "import torch.nn.functional as F\n",
        "import torch.utils.data as data\n",
        "from torch.utils.data import DataLoader, TensorDataset\n",
        "from IPython.display import HTML, display\n",
        "\n",
        "dev = torch.device(\"cuda:0\" if torch.cuda.is_available() else \"cpu\")\n",
        "dev, torch.get_num_threads()"
      ],
      "execution_count": null,
      "outputs": [
        {
          "output_type": "execute_result",
          "data": {
            "text/plain": [
              "(device(type='cpu'), 1)"
            ]
          },
          "metadata": {
            "tags": []
          },
          "execution_count": 62
        }
      ]
    },
    {
      "cell_type": "markdown",
      "metadata": {
        "id": "lpdgnNubw70a"
      },
      "source": [
        "# Helper Functions"
      ]
    },
    {
      "cell_type": "code",
      "metadata": {
        "id": "2VCHeq-bw8he"
      },
      "source": [
        "# @title Helper functions\n",
        "def imshow(img):\n",
        "    img = img / 2 + 0.5     # unnormalize\n",
        "    npimg = img.numpy()\n",
        "    plt.imshow(np.transpose(npimg, (1, 2, 0)))\n",
        "    plt.axis(False)\n",
        "    plt.show()\n",
        "\n",
        "def progress(epoch, loss, epochs=100):\n",
        "    return HTML(\"\"\"\n",
        "        <label for=\"file\">Training loss: {loss}</label>\n",
        "        <progress\n",
        "            value='{epoch}'\n",
        "            max='{epochs}',\n",
        "            style='width: 100%'\n",
        "        >\n",
        "            {epoch}\n",
        "        </progress>\n",
        "    \"\"\".format(loss=loss, epoch=epoch, epochs=epochs))"
      ],
      "execution_count": null,
      "outputs": []
    },
    {
      "cell_type": "markdown",
      "metadata": {
        "id": "5wU8xOyNCspz"
      },
      "source": [
        "# Loading Data"
      ]
    },
    {
      "cell_type": "code",
      "metadata": {
        "id": "5r7edThb-amX"
      },
      "source": [
        "def download_data(sentiment):\n",
        "  df = pd.read_csv(\"/content/drive/MyDrive/CIS 522/CIS 522 Final Project/Data/bitcoin_complete.csv\")\n",
        "  df.head()\n",
        "\n",
        "  df['Volume USDT'] = df['Volume USDT'].apply(lambda x : float(\"Nan\") if x == 0 else x)  \n",
        "  df['Volume USDT'] = df['Volume USDT'].interpolate(method = 'linear', limit_direction = 'forward')\n",
        "  if sentiment: \n",
        "    cpt_full_df = df.iloc[:,1:]\n",
        "  else: \n",
        "    cpt_full_df = df.iloc[:,1:7]\n",
        "\n",
        "  return cpt_full_df"
      ],
      "execution_count": null,
      "outputs": []
    },
    {
      "cell_type": "markdown",
      "metadata": {
        "id": "0IzmmHbPD4Fr"
      },
      "source": [
        "## Plotting (Without normalizations)"
      ]
    },
    {
      "cell_type": "code",
      "metadata": {
        "id": "Vps4yFSSD7P-"
      },
      "source": [
        "# fig = plt.figure(figsize=(15,10))\n",
        "# st = fig.suptitle(\"Crypto Close Price and Volume\", fontsize=20)\n",
        "# st.set_y(0.92)\n",
        "\n",
        "# ax1 = fig.add_subplot(211)\n",
        "# ax1.plot(cpt_full_df['close'], label='crypto Close Price')\n",
        "# ax1.set_xticks(range(0, cpt_full_df.shape[0], 200))\n",
        "# ax1.set_xticklabels(cpt_full_df['date'].loc[::200])\n",
        "# ax1.set_ylabel('Close Price', fontsize=18)\n",
        "# ax1.legend(loc=\"upper left\", fontsize=12)\n",
        "\n",
        "# ax2 = fig.add_subplot(212)\n",
        "# ax2.plot(cpt_full_df['Volume USDT'], label='Crypto Volume')\n",
        "# ax2.set_xticks(range(0, cpt_full_df.shape[0], 200))\n",
        "# ax2.set_xticklabels(cpt_full_df['date'].loc[::200])\n",
        "# ax2.set_ylabel('Volume USDT', fontsize=18)\n",
        "# ax2.legend(loc=\"upper left\", fontsize=12)"
      ],
      "execution_count": null,
      "outputs": []
    },
    {
      "cell_type": "markdown",
      "metadata": {
        "id": "DNBIMQMhD9xY"
      },
      "source": [
        "## Normalizing Data"
      ]
    },
    {
      "cell_type": "code",
      "metadata": {
        "id": "Q3bjUk2Jn278"
      },
      "source": [
        "def percentage_format(cpt_full_df, sentiment):\n",
        "  # Calculate\n",
        "\n",
        "  cpt_full_df[\"open\"] = cpt_full_df[\"open\"].pct_change()\n",
        "  cpt_full_df[\"close\"] = cpt_full_df[\"close\"].pct_change()\n",
        "  cpt_full_df[\"low\"] = cpt_full_df[\"low\"].pct_change()\n",
        "  cpt_full_df[\"high\"] = cpt_full_df[\"high\"].pct_change()\n",
        "  cpt_full_df[\"Volume USDT\"] = cpt_full_df[\"Volume USDT\"].pct_change()\n",
        "\n",
        "  if sentiment: \n",
        "    cpt_full_df[\"reddit_posts\"] = cpt_full_df[\"reddit_posts\"].pct_change()\n",
        "    cpt_full_df[\"reddit_likes_total\"] = cpt_full_df[\"reddit_likes_total\"].pct_change()\n",
        "    cpt_full_df[\"google_trends\"] = cpt_full_df[\"google_trends\"].pct_change()\n",
        "    cpt_full_df[\"twitter_posts\"] = cpt_full_df[\"twitter_posts\"].pct_change()\n",
        "\n",
        "  cpt_full_df.dropna(how=\"any\", axis=0, inplace=True)\n",
        "\n",
        "  return cpt_full_df"
      ],
      "execution_count": null,
      "outputs": []
    },
    {
      "cell_type": "code",
      "metadata": {
        "id": "yMsxkqFLHbm1"
      },
      "source": [
        "def difference_format(cpt_full_df, sentiment):\n",
        "  cpt_full_df[\"open\"] = cpt_full_df[\"open\"].diff()\n",
        "  cpt_full_df[\"close\"] = cpt_full_df[\"close\"].diff()\n",
        "  cpt_full_df[\"low\"] = cpt_full_df[\"low\"].diff()\n",
        "  cpt_full_df[\"high\"] = cpt_full_df[\"high\"].diff()\n",
        "  cpt_full_df[\"Volume USDT\"] = cpt_full_df[\"Volume USDT\"].diff()\n",
        "  \n",
        "  if sentiment: \n",
        "    cpt_full_df[\"reddit_posts\"] = cpt_full_df[\"reddit_posts\"].diff()\n",
        "    cpt_full_df[\"reddit_likes_total\"] = cpt_full_df[\"reddit_likes_total\"].diff()\n",
        "    cpt_full_df[\"google_trends\"] = cpt_full_df[\"google_trends\"].diff()\n",
        "    cpt_full_df[\"twitter_posts\"] = cpt_full_df[\"twitter_posts\"].diff()\n",
        "\n",
        "  cpt_full_df.dropna(how=\"any\", axis=0, inplace=True)\n",
        "\n",
        "  return cpt_full_df"
      ],
      "execution_count": null,
      "outputs": []
    },
    {
      "cell_type": "code",
      "metadata": {
        "id": "d53RWgrOEBO0"
      },
      "source": [
        "def normalize(cpt_full_df, sentiment):\n",
        "  min_return = min(cpt_full_df[['open', 'high', 'low', 'close']].min(axis=0))\n",
        "  max_return = max(cpt_full_df[['open', 'high', 'low', 'close']].max(axis=0))\n",
        "\n",
        "  # Min-max normalize price columns (0-1 range)\n",
        "  cpt_full_df['open'] = (cpt_full_df['open'] - min_return) / (max_return - min_return)\n",
        "  cpt_full_df['high'] = (cpt_full_df['high'] - min_return) / (max_return - min_return)\n",
        "  cpt_full_df['low'] = (cpt_full_df['low'] - min_return) / (max_return - min_return)\n",
        "  cpt_full_df['close'] = (cpt_full_df['close'] - min_return) / (max_return - min_return)\n",
        "\n",
        "  min_volume = cpt_full_df['Volume USDT'].min(axis=0)\n",
        "  max_volume = cpt_full_df['Volume USDT'].max(axis=0)\n",
        "\n",
        "  # Min-max normalize volume columns (0-1 range)\n",
        "  cpt_full_df['Volume USDT'] = (cpt_full_df['Volume USDT'] - min_volume) / (max_volume - min_volume)\n",
        "\n",
        "\n",
        "  if sentiment: \n",
        "    # Min max reddit stuff \n",
        "    min_volume = cpt_full_df['reddit_weighted_score'].min(axis=0)\n",
        "    max_volume = cpt_full_df['reddit_weighted_score'].max(axis=0)\n",
        "\n",
        "    cpt_full_df['reddit_weighted_score'] = (cpt_full_df['reddit_weighted_score'] - min_volume) / (max_volume - min_volume)\n",
        "\n",
        "    min_volume = cpt_full_df['reddit_posts'].min(axis=0)\n",
        "    max_volume = cpt_full_df['reddit_posts'].max(axis=0)\n",
        "\n",
        "    cpt_full_df['reddit_posts'] = (cpt_full_df['reddit_posts'] - min_volume) / (max_volume - min_volume)\n",
        "\n",
        "    min_volume = cpt_full_df['reddit_likes_total'].min(axis=0)\n",
        "    max_volume = cpt_full_df['reddit_likes_total'].max(axis=0)\n",
        "\n",
        "    cpt_full_df['reddit_likes_total'] = (cpt_full_df['reddit_likes_total'] - min_volume) / (max_volume - min_volume)\n",
        "\n",
        "    min_volume = cpt_full_df['google_trends'].min(axis=0)\n",
        "    max_volume = cpt_full_df['google_trends'].max(axis=0)\n",
        "\n",
        "    cpt_full_df['google_trends'] = (cpt_full_df['google_trends'] - min_volume) / (max_volume - min_volume)\n",
        "\n",
        "    min_volume = cpt_full_df['twitter_posts'].min(axis=0)\n",
        "    max_volume = cpt_full_df['twitter_posts'].max(axis=0)\n",
        "\n",
        "    cpt_full_df['twitter_posts'] = (cpt_full_df['twitter_posts'] - min_volume) / (max_volume - min_volume)\n",
        "\n",
        "  return cpt_full_df"
      ],
      "execution_count": null,
      "outputs": []
    },
    {
      "cell_type": "code",
      "metadata": {
        "id": "1ypZRgsnod7J"
      },
      "source": [
        "def apply_transformations(cpt_full_df, sentiment):\n",
        "  if data_format == 1:\n",
        "    cpt_full_df = percentage_format(cpt_full_df, sentiment)\n",
        "  elif data_format == 2: \n",
        "    cpt_full_df = difference_format(cpt_full_df, sentiment)    \n",
        "  if normalize == 1: \n",
        "    cpt_full_df = normalize(cpt_full_df, sentiment)\n",
        "  return cpt_full_df"
      ],
      "execution_count": null,
      "outputs": []
    },
    {
      "cell_type": "markdown",
      "metadata": {
        "id": "ZMHz9nYp78fJ"
      },
      "source": [
        "## Splitting into train, test, and validation sets"
      ]
    },
    {
      "cell_type": "code",
      "metadata": {
        "id": "NYMtPtnAEDe6"
      },
      "source": [
        "def split_data(cpt_full_df):\n",
        "  per_of_test = 0.1\n",
        "  per_of_val = 0.1\n",
        "\n",
        "  times = sorted(cpt_full_df.index.values)\n",
        "  last_npct = sorted(cpt_full_df.index.values)[-int(per_of_test*len(times))] # Last 10% of series\n",
        "  last_2npct = sorted(cpt_full_df.index.values)[-int((per_of_val+per_of_test)*len(times))] # Last 20% of series\n",
        "\n",
        "  df_train = cpt_full_df[(cpt_full_df.index < last_2npct)]  # Training data are 80% of total data\n",
        "  df_val = cpt_full_df[(cpt_full_df.index >= last_2npct) & (cpt_full_df.index < last_npct)]\n",
        "  df_test = cpt_full_df[(cpt_full_df.index >= last_npct)]\n",
        "\n",
        "  # Remove date column\n",
        "  df_train.drop(columns=['date'], inplace=True)\n",
        "  df_val.drop(columns=['date'], inplace=True)\n",
        "  df_test.drop(columns=['date'], inplace=True)\n",
        "\n",
        "  closing_index=df_train.columns.get_loc('close')\n",
        "\n",
        "  # Convert pandas columns into arrays\n",
        "  train_data = df_train.values\n",
        "  val_data = df_val.values\n",
        "  test_data = df_test.values\n",
        "  print(f'Training data shape: {train_data.shape}')\n",
        "  print(f'Validation data shape: {val_data.shape}')\n",
        "  print(f'Test data shape: {test_data.shape}')\n",
        "\n",
        "  df_train.head()\n",
        "\n",
        "  return train_data, val_data, test_data, closing_index"
      ],
      "execution_count": null,
      "outputs": []
    },
    {
      "cell_type": "code",
      "metadata": {
        "id": "1dX11-HFXRHY"
      },
      "source": [
        "def sequence_data(train_data, val_data, test_data, closing_index):\n",
        "  # Training data\n",
        "  X_train, y_train = [], []\n",
        "  for i in range(seq_len+day_out_pred-1, len(train_data)):\n",
        "    X_train.append(train_data[i-seq_len-day_out_pred+1:i-day_out_pred+1]) # Chunks of training data with a length of 128 df-rows\n",
        "    y_train.append(train_data[:, closing_index][i]) #Value of 4th column (Close Price) of df-row 128+1\n",
        "  X_train, y_train = np.array(X_train), np.array(y_train)\n",
        "\n",
        "  ###############################################################################\n",
        "\n",
        "  # Validation data\n",
        "  X_val, y_val = [], []\n",
        "  for i in range(seq_len+day_out_pred-1, len(val_data)):\n",
        "      X_val.append(val_data[i-seq_len-day_out_pred+1:i-day_out_pred+1])\n",
        "      y_val.append(val_data[:, closing_index][i])\n",
        "  X_val, y_val = np.array(X_val), np.array(y_val)\n",
        "\n",
        "  ###############################################################################\n",
        "\n",
        "  # Test data\n",
        "  X_test, y_test = [], []\n",
        "  for i in range(seq_len+day_out_pred-1, len(test_data)):\n",
        "      X_test.append(test_data[i-seq_len-day_out_pred+1:i-day_out_pred+1])\n",
        "      y_test.append(test_data[:, closing_index][i])    \n",
        "  X_test, y_test = np.array(X_test), np.array(y_test)\n",
        "\n",
        "  print('Training set shape', X_train.shape, y_train.shape)\n",
        "  print('Validation set shape', X_val.shape, y_val.shape)\n",
        "  print('Testing set shape' ,X_test.shape, y_test.shape)\n",
        "  \n",
        "  return X_train, y_train, X_val, y_val, X_test, y_test"
      ],
      "execution_count": null,
      "outputs": []
    },
    {
      "cell_type": "markdown",
      "metadata": {
        "id": "Ycd2DwigCvsl"
      },
      "source": [
        "# Architecture"
      ]
    },
    {
      "cell_type": "code",
      "metadata": {
        "id": "VORKfMKHXZ80"
      },
      "source": [
        "def create_dataloaders(X_train, y_train, X_val, y_val, X_test, y_test):\n",
        "  X_train = torch.FloatTensor(X_train.astype(float)).to(dev)\n",
        "  y_train = torch.FloatTensor(y_train).to(dev)\n",
        "  training_dataset = TensorDataset(X_train, y_train)\n",
        "  train_loader = DataLoader(training_dataset, batch_size=batch_size, drop_last=True,\n",
        "                          shuffle=True)\n",
        "\n",
        "  X_val = torch.FloatTensor(X_val.astype(float)).to(dev)\n",
        "  y_val = torch.FloatTensor(y_val).to(dev)\n",
        "  validation_dataset = TensorDataset(X_val, y_val) \n",
        "  val_loader = DataLoader(validation_dataset, batch_size=batch_size, drop_last=True,\n",
        "                          shuffle=True)\n",
        "\n",
        "  X_test = torch.FloatTensor(X_test.astype(float)).to(dev)\n",
        "  y_test = torch.FloatTensor(y_test).to(dev)\n",
        "  test_dataset = TensorDataset(X_test, y_test) \n",
        "  test_loader = DataLoader(test_dataset, batch_size=batch_size, drop_last=True,\n",
        "                          shuffle=True)\n",
        "  \n",
        "  return train_loader, val_loader, test_loader"
      ],
      "execution_count": null,
      "outputs": []
    },
    {
      "cell_type": "code",
      "metadata": {
        "id": "o6JC-b2s_AJR"
      },
      "source": [
        "class Net(nn.Module):\n",
        "    def __init__(self, actv, num_inputs, hidden_units, num_outputs):\n",
        "        super(Net, self).__init__()\n",
        "\n",
        "        exec('self.actv = nn.%s'%actv)   # [TO-DO]\n",
        "\n",
        "        self.layers = nn.ModuleList()\n",
        "        for i in range(len(hidden_units)):\n",
        "          next_num_inputs = hidden_units[i] \n",
        "          new_layer = nn.Linear(num_inputs, next_num_inputs)\n",
        "          nn.init.xavier_normal_(new_layer.weight)\n",
        "          self.layers += [new_layer]   # [TO-DO]\n",
        "\n",
        "          # exec('actv = nn.%s'%actv)\n",
        "          self.layers += [self.actv]\n",
        "\n",
        "          new_batchnorm = nn.BatchNorm1d(next_num_inputs)\n",
        "          self.layers += [new_batchnorm]\n",
        "\n",
        "          num_inputs = next_num_inputs\n",
        "\n",
        "        self.out = nn.Linear(num_inputs, num_outputs)\n",
        "\n",
        "    def forward(self, x):\n",
        "        # flattening\n",
        "        x = x.view(x.shape[0], -1)   # [TO-DO]\n",
        "\n",
        "        for layer in self.layers:\n",
        "          # x = self.actv(layer(x))  # [TO-DO]\n",
        "          x = layer(x)\n",
        "\n",
        "        x = self.out(x) # [TO-DO]\n",
        "        return x"
      ],
      "execution_count": null,
      "outputs": []
    },
    {
      "cell_type": "code",
      "metadata": {
        "id": "X7TVLvFHa92c"
      },
      "source": [
        "def train(net, criterion, optimizer,\n",
        "                              train_loader, val_loader, \n",
        "                              num_epochs=1, verbose=True, \n",
        "                              training_plot=False):\n",
        "  if verbose:\n",
        "    progress_bar = display(progress(0, 0, num_epochs), display_id=True)\n",
        "\n",
        "  net.train()\n",
        "  training_losses = []\n",
        "  validation_losses = []\n",
        "  for epoch in range(num_epochs):  # loop over the dataset multiple times\n",
        "      running_loss = 0.0\n",
        "      running_accuracy = 0.0\n",
        "      total = 0\n",
        "      for i, data in enumerate(train_loader, 0):\n",
        "          # get the inputs; data is a list of [inputs, labels]\n",
        "          inputs, labels = data\n",
        "          inputs = inputs.to(dev).float()\n",
        "          labels = labels.to(dev).float()\n",
        "\n",
        "          # zero the parameter gradients\n",
        "          optimizer.zero_grad()\n",
        "\n",
        "          # forward + backward + optimize\n",
        "          outputs = net(inputs)\n",
        "\n",
        "          loss = criterion(outputs, labels)\n",
        "          loss.backward()\n",
        "          optimizer.step()\n",
        "\n",
        "          running_loss += loss.item()\n",
        "          total += labels.size(0)\n",
        "\n",
        "          # print statistics\n",
        "          if verbose:\n",
        "          #   training_losses += [loss.item()]\n",
        "          #   running_loss += loss.item()\n",
        "            if i % 10 == 9:    # update every 10 mini-batches\n",
        "                progress_bar.update(progress(epoch+1, running_loss / 10, num_epochs))\n",
        "          #       running_loss = 0.0\n",
        "\n",
        "      training_losses.append(running_loss/len(train_loader))\n",
        "\n",
        "      net.eval()\n",
        "      running_loss = 0.0\n",
        "      total = 0\n",
        "      for data in val_loader:\n",
        "          inputs, labels = data\n",
        "          inputs = inputs.to(dev).float()\n",
        "          labels = labels.to(dev).float()\n",
        "\n",
        "\n",
        "          outputs = net(inputs)\n",
        "\n",
        "          loss = criterion(outputs, labels)\n",
        "\n",
        "          running_loss += loss.item()\n",
        "          total += labels.size(0)\n",
        "          \n",
        "      validation_losses.append(running_loss/len(val_loader))\n",
        "\n",
        "      print('Training loss: %0.2f %%' % (training_losses[-1]))\n",
        "      print('Validation loss: %0.2f %%' % (validation_losses[-1]))\n",
        "\n",
        "  return training_losses, validation_losses\n",
        "\n",
        "\n",
        "def test(net, data_loader):\n",
        "  net.eval()\n",
        "  MAE_total = 0\n",
        "  MAPE_total = 0\n",
        "  total = 0\n",
        "  for data in data_loader:\n",
        "      inputs, labels = data\n",
        "      inputs = inputs.to(dev).float()\n",
        "      labels = labels.to(dev).float()\n",
        "\n",
        "      outputs = net(inputs)\n",
        "      MAE_total += (outputs - labels).abs().sum().item()\n",
        "      MAPE_total +=  ((labels - outputs).abs() / labels.abs()).sum().item()\n",
        "      total += labels.size(0)\n",
        "      \n",
        "  MAE = MAE_total / total\n",
        "  MAPE = MAPE_total / total\n",
        "  return MAE, MAPE"
      ],
      "execution_count": null,
      "outputs": []
    },
    {
      "cell_type": "code",
      "metadata": {
        "id": "Rcjjh3IJb0S6"
      },
      "source": [
        "def train_model(X_train, train_loader, val_loader):\n",
        "  net = Net(activation, X_train.shape[1] * X_train.shape[2], architecture, 1).to(dev) \n",
        "  optimizer = optim.Adam(net.parameters(), lr)\n",
        "  training_losses, validation_losses  = train(net, criterion, optimizer,\n",
        "                                        train_loader,val_loader,\n",
        "                                        num_epochs=50)\n",
        "  return net, training_losses, validation_losses "
      ],
      "execution_count": null,
      "outputs": []
    },
    {
      "cell_type": "code",
      "metadata": {
        "id": "VX_53PjTyqXa"
      },
      "source": [
        "def get_results (net, train_loader, val_loader, test_loader):\n",
        "  train_MAE, train_MAPE = test(net, train_loader)\n",
        "  val_MAE, val_MAPE = test(net, val_loader)\n",
        "  test_MAE, test_MAPE = test(net, test_loader)\n",
        "\n",
        "  return train_MAE, train_MAPE,  val_MAE, val_MAPE,  test_MAE, test_MAPE, "
      ],
      "execution_count": null,
      "outputs": []
    },
    {
      "cell_type": "markdown",
      "metadata": {
        "id": "5xWOtK8km8DF"
      },
      "source": [
        "# Displaying and saving results"
      ]
    },
    {
      "cell_type": "code",
      "metadata": {
        "id": "rsy8ztjDswyi"
      },
      "source": [
        "def write_results(train_MAE, train_MAPE,  val_MAE, val_MAPE,  test_MAE, test_MAPE):\n",
        "  file=open(results_folder + \"/results.txt\", \"a+\")\n",
        "  file.write(\"%d : data_format\\n\" % data_format)\n",
        "  file.write(\"%d : day_out_pred\\n\" % day_out_pred)\n",
        "  file.write(\"%d : seq_len\\n\" % seq_len)\n",
        "  file.write(\"%d : normalized\\n\" % normalization)\n",
        "  file.write(\"\\n\")\n",
        "  file.write(\"Train MAE: \" + str(train_MAE) + \", MAPE: \" + str(train_MAPE) + \"\\n\")\n",
        "  file.write(\"Validation MAE: \" + str(val_MAE) + \", MAPE: \" + str(val_MAPE) + \"\\n\")\n",
        "  file.write(\"Test MAE: \" + str(test_MAE) + \", MAPE: \" + str(test_MAPE) + \"\\n\")\n",
        "  file.write(\"\\n\")\n",
        "  file.close()"
      ],
      "execution_count": null,
      "outputs": []
    },
    {
      "cell_type": "code",
      "metadata": {
        "id": "c-bYZru_tpwv"
      },
      "source": [
        "# Loss plot \n",
        "def save_lossplot (training_losses, validation_losses):\n",
        "  plt.title(\"Losses\")\n",
        "  plt.plot(training_losses,label=\"Training loss\")\n",
        "  plt.plot(validation_losses, label = \"Validation loss\")\n",
        "  plt.legend()\n",
        "  plt.xlabel('Batch')\n",
        "  plt.ylabel('Training loss')\n",
        "  file_name = str(data_format) + \" \" + str(day_out_pred) + \" \" + str(seq_len) + \" \" + str(normalization) + \" losses\"\n",
        "  plt.savefig(results_folder + \"/\" + file_name + \".png\")\n",
        "  plt.show()\n",
        "  plt.close()\n"
      ],
      "execution_count": null,
      "outputs": []
    },
    {
      "cell_type": "code",
      "metadata": {
        "id": "pbiwF9XWEv_b"
      },
      "source": [
        "def save_resultplot (net, X_train, y_train, X_val, y_val, X_test, y_test):\n",
        "  #Calculate predication for training, validation and test data\n",
        "  train_pred = net(X_train).detach().cpu()\n",
        "  val_pred = net(X_val).detach().cpu()\n",
        "  test_pred = net(X_test).detach().cpu()\n",
        "\n",
        "  '''Display results'''\n",
        "\n",
        "  fig = plt.figure(figsize=(15,20))\n",
        "  st = fig.suptitle(\"MLP model\", fontsize=22)\n",
        "  st.set_y(0.92)\n",
        "\n",
        "  #Plot training data results\n",
        "  ax11 = fig.add_subplot(311)\n",
        "  ax11.plot(y_train, label='Crypto Closing Returns')\n",
        "  ax11.plot(train_pred, label='Predicted Crypto Closing Returns')\n",
        "  # ax11.plot(train_data[:, 3], label='Crypto Closing Returns')\n",
        "  # ax11.plot(np.arange(seq_len, train_pred.shape[0]+seq_len), train_pred, linewidth=3, label='Predicted Crypto Closing Returns')\n",
        "  ax11.set_title(\"Training Data\", fontsize=18)\n",
        "  ax11.set_xlabel('Date')\n",
        "  ax11.set_ylabel('Crypto Closing Returns')\n",
        "  ax11.legend(loc=\"best\", fontsize=12)\n",
        "\n",
        "  #Plot validation data results\n",
        "  ax21 = fig.add_subplot(312)\n",
        "  ax21.plot(y_val, label='Crypto Closing Returns')\n",
        "  ax21.plot(val_pred, label='Predicted Crypto Closing Returns')\n",
        "  # ax21.plot(val_data[:, 3], label='Crypto Closing Returns')\n",
        "  # ax21.plot(np.arange(seq_len, val_pred.shape[0]+seq_len), val_pred, linewidth=3, label='Predicted Crypto Closing Returns')\n",
        "  ax21.set_title(\"Validation Data\", fontsize=18)\n",
        "  ax21.set_xlabel('Date')\n",
        "  ax21.set_ylabel('Crypto Closing Returns')\n",
        "  ax21.legend(loc=\"best\", fontsize=12)\n",
        "\n",
        "  #Plot test data results\n",
        "  ax31 = fig.add_subplot(313)\n",
        "  ax31.plot(y_test, label='Crypto Closing Returns')\n",
        "  ax31.plot(test_pred, label='Predicted Crypto Closing Returns')\n",
        "  # ax31.plot(test_data[:, 3], label='Crypto Closing Returns')\n",
        "  # ax31.plot(np.arange(seq_len, test_pred.shape[0]+seq_len), test_pred, linewidth=3, label='Predicted Crypto Closing Returns')\n",
        "  ax31.set_title(\"Test Data\", fontsize=18)\n",
        "  ax31.set_xlabel('Date')\n",
        "  ax31.set_ylabel('Crypto Closing Returns')\n",
        "  ax31.legend(loc=\"best\", fontsize=12)\n",
        "\n",
        "  file_name = str(data_format) + \" \" + str(day_out_pred) + \" \" + str(seq_len)+ \" \" + str(normalization) + \" results\"\n",
        "  fig.savefig(results_folder + \"/\" + file_name + \".png\")\n",
        "  plt.close()"
      ],
      "execution_count": null,
      "outputs": []
    },
    {
      "cell_type": "markdown",
      "metadata": {
        "id": "xDj9d6kTA1yz"
      },
      "source": [
        "# Full process"
      ]
    },
    {
      "cell_type": "code",
      "metadata": {
        "id": "J8uXex-cBAPF"
      },
      "source": [
        "def run_everything (sentiment):\n",
        "  df = download_data(sentiment)\n",
        "  df = apply_transformations(df, sentiment)\n",
        "  train_data, val_data, test_data, closing_index = split_data(df)\n",
        "  X_train, y_train, X_val, y_val, X_test, y_test = sequence_data(train_data, val_data, test_data, closing_index)\n",
        "  train_loader, val_loader, test_loader = create_dataloaders(X_train, y_train, X_val, y_val, X_test, y_test)\n",
        "  net, training_losses, validation_losses = train_model(X_train, train_loader, val_loader)\n",
        "  train_MAE, train_MAPE,  val_MAE, val_MAPE,  test_MAE, test_MAPE = get_results(net, train_loader, val_loader, test_loader)\n",
        "  write_results(train_MAE, train_MAPE,  val_MAE, val_MAPE,  test_MAE, test_MAPE)\n",
        "  save_lossplot (training_losses, validation_losses)\n",
        "  X_train = torch.FloatTensor(X_train.astype(float)).to(dev)\n",
        "  X_val = torch.FloatTensor(X_val.astype(float)).to(dev)\n",
        "  X_test = torch.FloatTensor(X_test.astype(float)).to(dev)\n",
        "  save_resultplot (net, X_train, y_train, X_val, y_val, X_test, y_test)"
      ],
      "execution_count": null,
      "outputs": []
    },
    {
      "cell_type": "markdown",
      "metadata": {
        "id": "9XWwEh05BArZ"
      },
      "source": [
        "# RUN EVERYTHING"
      ]
    },
    {
      "cell_type": "code",
      "metadata": {
        "id": "D7VBwAD4A6G8"
      },
      "source": [
        "# data_format_values is 0 for percentages, 1 for absolute numbers, 2 for differences\n",
        "data_format_values = [0,1,2]\n",
        "day_out_pred_values = [1,7,14]\n",
        "seq_len_values = [10,20,30]\n",
        "normalization_values = [0,1]\n",
        "\n",
        "batch_size = 12\n",
        "architecture = [50, 30, 10]\n",
        "activation = 'ReLU()'\n",
        "criterion = nn.MSELoss()\n",
        "lr = 3e-5\n",
        "\n",
        "results_folder = \"/content/drive/MyDrive/CIS 522/CIS 522 Final Project/MLP Results no sentiment\""
      ],
      "execution_count": null,
      "outputs": []
    },
    {
      "cell_type": "code",
      "metadata": {
        "colab": {
          "base_uri": "https://localhost:8080/",
          "height": 1000
        },
        "id": "oLKhpvHeA-Yb",
        "outputId": "41d36bea-bb0c-41e7-ef0f-405a8e14ba62"
      },
      "source": [
        "counter = 0\n",
        "for i in range(len(data_format_values)):\n",
        "  for j in range(len(day_out_pred_values)):\n",
        "    for k in range(len(seq_len_values)):\n",
        "      for l in range(len(normalization_values)):\n",
        "        print(\"----------\" + str(counter) + \"-----------\")\n",
        "        data_format = data_format_values[i]\n",
        "        day_out_pred = day_out_pred_values[j]\n",
        "        seq_len = seq_len_values[k]\n",
        "        normalization = normalization_values[l]\n",
        "        run_everything(False)\n",
        "        counter = counter + 1\n",
        "      \n"
      ],
      "execution_count": null,
      "outputs": [
        {
          "output_type": "stream",
          "text": [
            "Training data shape: (1415, 5)\n",
            "Validation data shape: (177, 5)\n",
            "Test data shape: (176, 5)\n",
            "Training set shape (1385, 30, 5) (1385,)\n",
            "Validation set shape (147, 30, 5) (147,)\n",
            "Testing set shape (146, 30, 5) (146,)\n"
          ],
          "name": "stdout"
        },
        {
          "output_type": "stream",
          "text": [
            "/usr/local/lib/python3.7/dist-packages/pandas/core/frame.py:4174: SettingWithCopyWarning: \n",
            "A value is trying to be set on a copy of a slice from a DataFrame\n",
            "\n",
            "See the caveats in the documentation: https://pandas.pydata.org/pandas-docs/stable/user_guide/indexing.html#returning-a-view-versus-a-copy\n",
            "  errors=errors,\n"
          ],
          "name": "stderr"
        },
        {
          "output_type": "display_data",
          "data": {
            "text/html": [
              "\n",
              "        <label for=\"file\">Training loss: 262305956.875</label>\n",
              "        <progress\n",
              "            value='50'\n",
              "            max='50',\n",
              "            style='width: 100%'\n",
              "        >\n",
              "            50\n",
              "        </progress>\n",
              "    "
            ],
            "text/plain": [
              "<IPython.core.display.HTML object>"
            ]
          },
          "metadata": {
            "tags": []
          }
        },
        {
          "output_type": "stream",
          "text": [
            "/usr/local/lib/python3.7/dist-packages/torch/nn/modules/loss.py:528: UserWarning: Using a target size (torch.Size([12])) that is different to the input size (torch.Size([12, 1])). This will likely lead to incorrect results due to broadcasting. Please ensure they have the same size.\n",
            "  return F.mse_loss(input, target, reduction=self.reduction)\n"
          ],
          "name": "stderr"
        },
        {
          "output_type": "stream",
          "text": [
            "Training loss: 23390106.52 %\n",
            "Validation loss: 15591001.83 %\n",
            "Training loss: 23296178.57 %\n",
            "Validation loss: 15566519.58 %\n",
            "Training loss: 23354774.65 %\n",
            "Validation loss: 15619579.42 %\n",
            "Training loss: 23458265.26 %\n",
            "Validation loss: 15556480.75 %\n",
            "Training loss: 23280423.81 %\n",
            "Validation loss: 15528173.50 %\n",
            "Training loss: 23401982.99 %\n",
            "Validation loss: 15449917.67 %\n",
            "Training loss: 23388213.60 %\n",
            "Validation loss: 15290087.08 %\n",
            "Training loss: 23434037.78 %\n",
            "Validation loss: 15317687.75 %\n",
            "Training loss: 23320463.25 %\n",
            "Validation loss: 15300535.00 %\n",
            "Training loss: 23395351.45 %\n",
            "Validation loss: 15482368.83 %\n",
            "Training loss: 23268641.10 %\n",
            "Validation loss: 15397151.08 %\n",
            "Training loss: 23325383.17 %\n",
            "Validation loss: 15403735.92 %\n",
            "Training loss: 23280821.71 %\n",
            "Validation loss: 15429419.00 %\n",
            "Training loss: 23273487.48 %\n",
            "Validation loss: 15472916.92 %\n",
            "Training loss: 23129775.45 %\n",
            "Validation loss: 15488792.33 %\n",
            "Training loss: 23068761.37 %\n",
            "Validation loss: 15499358.17 %\n",
            "Training loss: 22831282.51 %\n",
            "Validation loss: 15160184.50 %\n",
            "Training loss: 22658085.10 %\n",
            "Validation loss: 13882793.50 %\n",
            "Training loss: 22654618.45 %\n",
            "Validation loss: 15204927.50 %\n",
            "Training loss: 22401733.60 %\n",
            "Validation loss: 14565661.00 %\n",
            "Training loss: 22388946.62 %\n",
            "Validation loss: 13704039.58 %\n",
            "Training loss: 22160816.68 %\n",
            "Validation loss: 14369248.67 %\n",
            "Training loss: 22013278.68 %\n",
            "Validation loss: 13200699.92 %\n",
            "Training loss: 21919325.94 %\n",
            "Validation loss: 13812109.00 %\n",
            "Training loss: 21978134.66 %\n",
            "Validation loss: 14155276.88 %\n",
            "Training loss: 21793258.23 %\n",
            "Validation loss: 14586951.67 %\n",
            "Training loss: 21738618.66 %\n",
            "Validation loss: 11942410.00 %\n",
            "Training loss: 21689239.65 %\n",
            "Validation loss: 15168476.71 %\n",
            "Training loss: 21583229.96 %\n",
            "Validation loss: 13346697.42 %\n",
            "Training loss: 21503975.99 %\n",
            "Validation loss: 16665482.75 %\n",
            "Training loss: 21649697.43 %\n",
            "Validation loss: 13134694.38 %\n",
            "Training loss: 21516625.91 %\n",
            "Validation loss: 20027571.25 %\n",
            "Training loss: 21568214.88 %\n",
            "Validation loss: 26685007.79 %\n",
            "Training loss: 21456776.36 %\n",
            "Validation loss: 27965578.04 %\n",
            "Training loss: 21236916.94 %\n",
            "Validation loss: 35159059.58 %\n",
            "Training loss: 21337089.45 %\n",
            "Validation loss: 48993650.33 %\n",
            "Training loss: 21109311.35 %\n",
            "Validation loss: 49528980.46 %\n",
            "Training loss: 21011435.96 %\n",
            "Validation loss: 77428988.58 %\n",
            "Training loss: 21040522.88 %\n",
            "Validation loss: 89544849.04 %\n",
            "Training loss: 20992129.01 %\n",
            "Validation loss: 103014287.08 %\n",
            "Training loss: 20766588.93 %\n",
            "Validation loss: 125412883.71 %\n",
            "Training loss: 20633231.87 %\n",
            "Validation loss: 89495532.17 %\n",
            "Training loss: 20509856.63 %\n",
            "Validation loss: 212123403.79 %\n",
            "Training loss: 20452310.65 %\n",
            "Validation loss: 241686989.12 %\n",
            "Training loss: 20133531.99 %\n",
            "Validation loss: 264215588.08 %\n",
            "Training loss: 20122764.28 %\n",
            "Validation loss: 339021440.12 %\n",
            "Training loss: 20184691.72 %\n",
            "Validation loss: 207553473.46 %\n",
            "Training loss: 20000589.14 %\n",
            "Validation loss: 592481367.25 %\n",
            "Training loss: 19935881.87 %\n",
            "Validation loss: 779168581.67 %\n",
            "Training loss: 23803181.24 %\n",
            "Validation loss: 699520217.38 %\n"
          ],
          "name": "stdout"
        },
        {
          "output_type": "display_data",
          "data": {
            "image/png": "[encoded data removed]",
            "text/plain": [
              "<Figure size 432x288 with 1 Axes>"
            ]
          },
          "metadata": {
            "tags": [],
            "needs_background": "light"
          }
        }
      ]
    }
  ]
}